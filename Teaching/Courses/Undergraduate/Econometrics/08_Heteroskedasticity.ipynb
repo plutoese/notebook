{
 "cells": [
  {
   "cell_type": "markdown",
   "id": "affected-november",
   "metadata": {},
   "source": [
    "# 异方差性\n",
    "------"
   ]
  },
  {
   "cell_type": "markdown",
   "id": "chronic-czech",
   "metadata": {},
   "source": [
    "## 异方差对OLS所造成的影响\n",
    "\n",
    "考虑线性回归模型\n",
    "\n",
    "$$\n",
    "y=\\beta_{0}+\\beta_{1} x_{1}+\\beta_{2} x_{2}+\\cdots+\\beta_{k} x_{k}+u\n",
    "$$\n",
    "\n",
    "- 根据高斯马尔科夫定理，违反同方差假定，并**不会导致OLS估计量出现偏误或产生不一致**。\n",
    "- 拟合优度及调整的拟合优度也不受异方差的影响\n",
    "- 出现异方差，如果依靠同方差假定，那么**OLS估计量不再是有效的**，相应的据此计算的t和F统计量也不再成立。"
   ]
  },
  {
   "cell_type": "markdown",
   "id": "fourth-illustration",
   "metadata": {},
   "source": [
    "## OLS估计后的异方差-稳健推断"
   ]
  },
  {
   "cell_type": "markdown",
   "id": "hungry-collect",
   "metadata": {},
   "source": [
    "若**异方差形式未知**，那么既然OLS仍然是无偏且一致的，那么只需要对于标准误进行恰当调整，就可以使得相应的t、F和LM统计量是有效的。这就是所谓的异方差-稳健过程。\n",
    "\n",
    "具体而言，对于简单线性回归模型，\n",
    "\n",
    "$$\n",
    "y_{i}=\\beta_{0}+\\beta_{1} x_{i}+u_{i}\n",
    "$$\n",
    "\n",
    "假定前四个高斯马尔科夫假定成立，误差包含异方差性，则\n",
    "\n",
    "$$\n",
    "\\operatorname{Var}\\left(u_{i} \\mid x_{i}\\right)=\\sigma_{i}^{2}\n",
    "$$\n",
    "\n",
    "将OLS估计量写成\n",
    "\n",
    "$$\n",
    "\\hat{\\beta}_{1}=\\beta_{1}+\\frac{\\sum_{i=1}^{n}\\left(x_{i}-\\bar{x}\\right) u_{i}}{\\sum_{i=1}^{n}\\left(x_{i}-\\bar{x}\\right)^{2}}\n",
    "$$\n",
    "\n",
    "因此得到\n",
    "\n",
    "$$\n",
    "\\operatorname{Var}\\left(\\hat{\\beta}_{1}\\right)=\\frac{\\sum_{i=1}^{n}\\left(x_{i}-\\bar{x}\\right)^{2} \\sigma_{i}^{2}}{\\operatorname{SST}_{x}^{2}}\n",
    "$$\n",
    "\n",
    "其中$\\mathrm{SST}_{x}=\\sum_{i=1}^{n}\\left(x_{i}-\\bar{x}\\right)^{2}$是$x_{i}$的总平方和。可见，对于任何形式的异方差（包括同方差），$\\operatorname{Var}\\left(\\hat{\\beta}_{1}\\right)$的一个有效估计量是\n",
    "\n",
    "$$\n",
    "\\frac{\\sum_{i=1}^{n}\\left(x_{i}-\\bar{x}\\right)^{2} \\hat{u}_{i}^{2}}{\\mathrm{SST}_{x}^{2}}\n",
    "$$\n",
    "\n",
    "因此，对于一般多元回归模型\n",
    "\n",
    "$$\n",
    "y=\\beta_{0}+\\beta_{1} x_{1}+\\cdots+\\beta_{k} x_{k}+u\n",
    "$$\n",
    "\n",
    "$\\operatorname{Var}\\left(\\hat{\\beta}_{j}\\right)$的一个有效估计量是\n",
    "\n",
    "$$\n",
    "\\widehat{\\operatorname{Var}}\\left(\\hat{\\beta}_{j}\\right)=\\frac{\\sum_{i=1}^{n} \\hat{r}_{i j}^{2} \\hat{u}_{i}^{2}}{\\operatorname{SSR}_{j}^{2}}\n",
    "$$\n",
    "\n",
    "其中$\\hat{r}_{i j}$是$x_{j}$对所有其他自变量回归所得到的的第$i$个残差，而$SSR_{j}$则是这个回归的残差平方和。上述公式的平方根被称为$\\hat{\\beta}_{j}$的异方差-稳健的标准误，或者简称稳健标准误。\n",
    "\n",
    "一旦得到异方差-稳健的标准误，就可以构造异方差-稳健的t统计量，从而进行统计推断。"
   ]
  },
  {
   "cell_type": "code",
   "execution_count": 1,
   "id": "serious-namibia",
   "metadata": {},
   "outputs": [],
   "source": [
    "use http://fmwww.bc.edu/ec-p/data/wooldridge/wage1, clear\n",
    "gen male = (!female)\n",
    "gen single = (~married)\n",
    "gen marrmale = (married & ~female)\n",
    "gen marrfem = (married & female)\n",
    "gen singfem = (female & ~married)\n",
    "gen singmale = (~female & ~married)"
   ]
  },
  {
   "cell_type": "code",
   "execution_count": 2,
   "id": "cutting-guide",
   "metadata": {},
   "outputs": [
    {
     "name": "stdout",
     "output_type": "stream",
     "text": [
      "\n",
      "\n",
      "(est1 stored)\n",
      "\n",
      "(est2 stored)\n",
      "\n",
      "\n",
      "--------------------------------------------\n",
      "                      (1)             (2)   \n",
      "                    lwage           lwage   \n",
      "--------------------------------------------\n",
      "marrmale            0.213***        0.213***\n",
      "                 (0.0554)        (0.0571)   \n",
      "\n",
      "marrfem            -0.198***       -0.198***\n",
      "                 (0.0578)        (0.0588)   \n",
      "\n",
      "singfem            -0.110*         -0.110   \n",
      "                 (0.0557)        (0.0571)   \n",
      "\n",
      "educ               0.0789***       0.0789***\n",
      "                (0.00669)       (0.00741)   \n",
      "\n",
      "exper              0.0268***       0.0268***\n",
      "                (0.00524)       (0.00514)   \n",
      "\n",
      "expersq         -0.000535***    -0.000535***\n",
      "               (0.000110)      (0.000106)   \n",
      "\n",
      "tenure             0.0291***       0.0291***\n",
      "                (0.00676)       (0.00694)   \n",
      "\n",
      "tenursq         -0.000533*      -0.000533*  \n",
      "               (0.000231)      (0.000244)   \n",
      "\n",
      "_cons               0.321**         0.321** \n",
      "                  (0.100)         (0.109)   \n",
      "--------------------------------------------\n",
      "N                     526             526   \n",
      "adj. R-sq           0.453           0.453   \n",
      "--------------------------------------------\n",
      "Standard errors in parentheses\n",
      "* p<0.05, ** p<0.01, *** p<0.001\n"
     ]
    }
   ],
   "source": [
    "eststo clear\n",
    "\n",
    "eststo: quietly reg lwage marrmale marrfem singfem educ exper expersq tenure tenursq\n",
    "eststo: quietly reg lwage marrmale marrfem singfem educ exper expersq tenure tenursq, robust\n",
    "\n",
    "esttab, ar2 se"
   ]
  },
  {
   "cell_type": "markdown",
   "id": "freelance-sherman",
   "metadata": {},
   "source": [
    "> 问题：既然可以计算稳健标准误，为什么在通常情况下不用它来替代一般的OLS标准误？"
   ]
  },
  {
   "cell_type": "markdown",
   "id": "floral-combat",
   "metadata": {},
   "source": [
    "### 计算异方差-稳健的LM统计量"
   ]
  },
  {
   "cell_type": "markdown",
   "id": "fantastic-translator",
   "metadata": {},
   "source": [
    "异方差-稳健的F统计量也称为异方差-稳健的沃德（Wald）统计量，它的一般性探讨较为复杂，所以并不是所有的统计包都计算它，而相对而言异方差-稳健的LM统计量则更容易计算。"
   ]
  },
  {
   "cell_type": "markdown",
   "id": "breeding-enlargement",
   "metadata": {},
   "source": [
    "## 异方差性检验"
   ]
  },
  {
   "cell_type": "markdown",
   "id": "technical-motion",
   "metadata": {},
   "source": [
    "对于线性回归模型\n",
    "\n",
    "$$\n",
    "y=\\beta_{0}+\\beta_{1} x_{1}+\\beta_{2} x_{2}+\\cdots+\\beta_{k} x_{k}+u,\n",
    "$$\n",
    "\n",
    "检验同方差假定\n",
    "\n",
    "$$\n",
    "\\mathrm{H}_{0}: \\operatorname{Var}\\left(u \\mid x_{1}, x_{2}, \\ldots, x_{k}\\right)=\\sigma^{2}\n",
    "$$\n",
    "\n",
    "由于误差的条件期望为零，因此上述假定等价于\n",
    "\n",
    "$$\n",
    "\\mathrm{H}_{0}: \\mathrm{E}\\left(u^{2} \\mid x_{1}, x_{2}, \\ldots, x_{k}\\right)=\\mathrm{E}\\left(u^{2}\\right)=\\sigma^{2}\n",
    "$$\n",
    "\n",
    "因此对于异方差性的合理猜测是误差方差可能是$x_{j}$的某个函数，一个简单方法就是假定一个线性函数\n",
    "\n",
    "$$\n",
    "u^{2}=\\delta_{0}+\\delta_{1} x_{1}+\\delta_{2} x_{2}+\\cdots+\\delta_{k} x_{k}+v\n",
    "$$\n",
    "\n",
    "上述方程中的因变量是原多元线性回归模型中误差的平方，因此同方差的原假设是\n",
    "\n",
    "$$\n",
    "\\mathrm{H}_{0}: \\delta_{1}=\\delta_{2}=\\cdots=\\delta_{k}=0\n",
    "$$\n",
    "\n",
    "因此可以用F或LM统计量来进行假设检验。\n",
    "\n",
    "由于我们无法观测到误差，所以我们是用它的估计值（即残差）来进行检验的。即估计方程\n",
    "\n",
    "$$\n",
    "\\hat{u}^{2}=\\delta_{0}+\\delta_{1} x_{1}+\\delta_{2} x_{2}+\\cdots+\\delta_{k} x_{k}+\\text { error }\n",
    "$$\n",
    "\n",
    "若上述回归模型的拟合优度为$R_{\\hat{u}^{2}}^{2}$，那么F统计量为\n",
    "\n",
    "$$\n",
    "F=\\frac{R_{\\hat{u}^{2}}^{2} / k}{\\left(1-R_{\\hat{u}^{2}}^{2}\\right) /(n-k-1)}\n",
    "$$\n",
    "\n",
    "LM统计量为\n",
    "\n",
    "$$\n",
    "L M=n \\cdot R_{\\hat{u}^{2}}^{2}\n",
    "$$\n",
    "\n",
    "在原假设下，LM渐近服从$\\chi_{k}^{2}$分布。这个LM形式的检验通常称为布罗施-帕甘异方差检验（Breusch-Pagan test，简记为BP test）"
   ]
  },
  {
   "cell_type": "code",
   "execution_count": 3,
   "id": "convertible-pixel",
   "metadata": {},
   "outputs": [
    {
     "name": "stdout",
     "output_type": "stream",
     "text": [
      "\n",
      "\n",
      "\n",
      "      Source |       SS           df       MS      Number of obs   =        88\n",
      "-------------+----------------------------------   F(3, 84)        =     57.46\n",
      "       Model |  617130.701         3  205710.234   Prob > F        =    0.0000\n",
      "    Residual |  300723.805        84   3580.0453   R-squared       =    0.6724\n",
      "-------------+----------------------------------   Adj R-squared   =    0.6607\n",
      "       Total |  917854.506        87  10550.0518   Root MSE        =    59.833\n",
      "\n",
      "------------------------------------------------------------------------------\n",
      "       price |      Coef.   Std. Err.      t    P>|t|     [95% Conf. Interval]\n",
      "-------------+----------------------------------------------------------------\n",
      "     lotsize |   .0020677   .0006421     3.22   0.002     .0007908    .0033446\n",
      "       sqrft |   .1227782   .0132374     9.28   0.000     .0964541    .1491022\n",
      "       bdrms |   13.85252   9.010145     1.54   0.128    -4.065141    31.77018\n",
      "       _cons |  -21.77031   29.47504    -0.74   0.462    -80.38466    36.84405\n",
      "------------------------------------------------------------------------------\n"
     ]
    }
   ],
   "source": [
    "use http://fmwww.bc.edu/ec-p/data/wooldridge/hprice1, clear\n",
    "\n",
    "reg price lotsize sqrft bdrms"
   ]
  },
  {
   "cell_type": "code",
   "execution_count": 4,
   "id": "attended-veteran",
   "metadata": {},
   "outputs": [
    {
     "name": "stdout",
     "output_type": "stream",
     "text": [
      "\n",
      "\n",
      "\n",
      "\n",
      "      Source |       SS           df       MS      Number of obs   =        88\n",
      "-------------+----------------------------------   F(3, 84)        =      5.34\n",
      "       Model |   701213780         3   233737927   Prob > F        =    0.0020\n",
      "    Residual |  3.6775e+09        84  43780003.5   R-squared       =    0.1601\n",
      "-------------+----------------------------------   Adj R-squared   =    0.1301\n",
      "       Total |  4.3787e+09        87  50330276.7   Root MSE        =    6616.6\n",
      "\n",
      "------------------------------------------------------------------------------\n",
      "          u2 |      Coef.   Std. Err.      t    P>|t|     [95% Conf. Interval]\n",
      "-------------+----------------------------------------------------------------\n",
      "     lotsize |   .2015209   .0710091     2.84   0.006     .0603116    .3427302\n",
      "       sqrft |   1.691037    1.46385     1.16   0.251    -1.219989    4.602063\n",
      "       bdrms |    1041.76    996.381     1.05   0.299    -939.6526    3023.173\n",
      "       _cons |  -5522.795   3259.478    -1.69   0.094    -12004.62    959.0348\n",
      "------------------------------------------------------------------------------\n"
     ]
    }
   ],
   "source": [
    "predict u, resid\n",
    "gen u2 = u * u\n",
    "\n",
    "reg u2 lotsize sqrft bdrms"
   ]
  },
  {
   "cell_type": "code",
   "execution_count": 5,
   "id": "refined-heater",
   "metadata": {},
   "outputs": [
    {
     "name": "stdout",
     "output_type": "stream",
     "text": [
      "\n",
      "scalars:\n",
      "                  e(N) =  88\n",
      "               e(df_m) =  3\n",
      "               e(df_r) =  84\n",
      "                  e(F) =  5.33891978188548\n",
      "                 e(r2) =  .1601407549139116\n",
      "               e(rmse) =  6616.645939130113\n",
      "                e(mss) =  701213779.9521375\n",
      "                e(rss) =  3677520292.639789\n",
      "               e(r2_a) =  .1301457818751227\n",
      "                 e(ll) =  -896.985970337985\n",
      "               e(ll_0) =  -904.6648928665865\n",
      "               e(rank) =  4\n",
      "\n",
      "macros:\n",
      "            e(cmdline) : \"regress u2 lotsize sqrft bdrms\"\n",
      "              e(title) : \"Linear regression\"\n",
      "          e(marginsok) : \"XB default\"\n",
      "                e(vce) : \"ols\"\n",
      "             e(depvar) : \"u2\"\n",
      "                e(cmd) : \"regress\"\n",
      "         e(properties) : \"b V\"\n",
      "            e(predict) : \"regres_p\"\n",
      "              e(model) : \"ols\"\n",
      "          e(estat_cmd) : \"regress_estat\"\n",
      "\n",
      "matrices:\n",
      "                  e(b) :  1 x 4\n",
      "                  e(V) :  4 x 4\n",
      "\n",
      "functions:\n",
      "             e(sample)   \n"
     ]
    }
   ],
   "source": [
    "ereturn list"
   ]
  },
  {
   "cell_type": "code",
   "execution_count": 6,
   "id": "resident-yellow",
   "metadata": {},
   "outputs": [
    {
     "name": "stdout",
     "output_type": "stream",
     "text": [
      "F统计量为 5.3389198 , 其对应的p值为 .00204774\n"
     ]
    }
   ],
   "source": [
    "di \"F统计量为\", e(F), \", 其对应的p值为\", 1 - F(e(df_m),e(df_r),e(F))"
   ]
  },
  {
   "cell_type": "code",
   "execution_count": 7,
   "id": "sticky-staff",
   "metadata": {},
   "outputs": [
    {
     "name": "stdout",
     "output_type": "stream",
     "text": [
      "\n",
      "\n",
      "\n",
      "LM统计量为 14.092386 , 其对应的p值为 .00278206\n"
     ]
    }
   ],
   "source": [
    "scalar LM = e(N) * e(r2)\n",
    "scalar LM_p = chi2tail(e(df_m), e(N) * e(r2))\n",
    "\n",
    "di \"LM统计量为\", LM, \", 其对应的p值为\", LM_p"
   ]
  },
  {
   "cell_type": "markdown",
   "id": "imperial-newton",
   "metadata": {},
   "source": [
    "> 如果使用对数形式"
   ]
  },
  {
   "cell_type": "code",
   "execution_count": 8,
   "id": "bacterial-rolling",
   "metadata": {},
   "outputs": [
    {
     "name": "stdout",
     "output_type": "stream",
     "text": [
      "\n",
      "      Source |       SS           df       MS      Number of obs   =        88\n",
      "-------------+----------------------------------   F(3, 84)        =     50.42\n",
      "       Model |  5.15504028         3  1.71834676   Prob > F        =    0.0000\n",
      "    Residual |  2.86256324        84  .034078134   R-squared       =    0.6430\n",
      "-------------+----------------------------------   Adj R-squared   =    0.6302\n",
      "       Total |  8.01760352        87  .092156362   Root MSE        =     .1846\n",
      "\n",
      "------------------------------------------------------------------------------\n",
      "      lprice |      Coef.   Std. Err.      t    P>|t|     [95% Conf. Interval]\n",
      "-------------+----------------------------------------------------------------\n",
      "    llotsize |   .1679667   .0382812     4.39   0.000     .0918404     .244093\n",
      "      lsqrft |   .7002324   .0928652     7.54   0.000     .5155597    .8849051\n",
      "       bdrms |   .0369584   .0275313     1.34   0.183    -.0177906    .0917074\n",
      "       _cons |  -1.297042   .6512836    -1.99   0.050    -2.592191    -.001893\n",
      "------------------------------------------------------------------------------\n"
     ]
    }
   ],
   "source": [
    "reg lprice llotsize lsqrft bdrms"
   ]
  },
  {
   "cell_type": "code",
   "execution_count": 9,
   "id": "expanded-scale",
   "metadata": {},
   "outputs": [
    {
     "name": "stdout",
     "output_type": "stream",
     "text": [
      "\n",
      "\n",
      "\n",
      "\n",
      "      Source |       SS           df       MS      Number of obs   =        88\n",
      "-------------+----------------------------------   F(3, 84)        =      1.41\n",
      "       Model |  .022620168         3  .007540056   Prob > F        =    0.2451\n",
      "    Residual |  .448717194        84  .005341871   R-squared       =    0.0480\n",
      "-------------+----------------------------------   Adj R-squared   =    0.0140\n",
      "       Total |  .471337362        87  .005417671   Root MSE        =    .07309\n",
      "\n",
      "------------------------------------------------------------------------------\n",
      "          e2 |      Coef.   Std. Err.      t    P>|t|     [95% Conf. Interval]\n",
      "-------------+----------------------------------------------------------------\n",
      "    llotsize |  -.0070156   .0151563    -0.46   0.645    -.0371556    .0231244\n",
      "      lsqrft |  -.0627368   .0367673    -1.71   0.092    -.1358526    .0103791\n",
      "       bdrms |   .0168407   .0109002     1.54   0.126    -.0048356     .038517\n",
      "       _cons |    .509994    .257857     1.98   0.051    -.0027829    1.022771\n",
      "------------------------------------------------------------------------------\n"
     ]
    }
   ],
   "source": [
    "predict e, resid\n",
    "gen e2 = e * e\n",
    "reg e2 llotsize lsqrft bdrms"
   ]
  },
  {
   "cell_type": "code",
   "execution_count": 10,
   "id": "premier-clarity",
   "metadata": {},
   "outputs": [
    {
     "name": "stdout",
     "output_type": "stream",
     "text": [
      "F统计量为 1.4115009 , 其对应的p值为 .24514538\n"
     ]
    }
   ],
   "source": [
    "di \"F统计量为\", e(F), \", 其对应的p值为\", 1 - F(e(df_m),e(df_r),e(F))"
   ]
  },
  {
   "cell_type": "code",
   "execution_count": 11,
   "id": "earned-vietnam",
   "metadata": {},
   "outputs": [
    {
     "name": "stdout",
     "output_type": "stream",
     "text": [
      "\n",
      "\n",
      "\n",
      "LM统计量为 4.2232484 , 其对应的p值为 .23834456\n"
     ]
    }
   ],
   "source": [
    "scalar LM_log = e(N) * e(r2)\n",
    "scalar LM__log_p = chi2tail(e(df_m), e(N) * e(r2))\n",
    "\n",
    "di \"LM统计量为\", LM_log, \", 其对应的p值为\", LM__log_p"
   ]
  },
  {
   "cell_type": "markdown",
   "id": "final-indonesia",
   "metadata": {},
   "source": [
    "### 怀特异方差检验"
   ]
  },
  {
   "cell_type": "markdown",
   "id": "going-guard",
   "metadata": {},
   "source": [
    "同方差假定可由一个较弱的假定来替代，即误差平方与所有自变量、自变量的平方以及它们的交叉乘积都不相关。由此，怀特（White，1980）据此提出了对异方差性的一个检验方法。\n",
    "\n",
    "若线性回归模型包含三个自变量，怀特检验则基于如下估计\n",
    "\n",
    "$$\n",
    "\\begin{aligned}\n",
    "\\hat{u}^{2}=& \\delta_{0}+\\delta_{1} x_{1}+\\delta_{2} x_{2}+\\delta_{3} x_{3}+\\delta_{4} x_{1}^{2}+\\delta_{5} x_{2}^{2}+\\delta_{6} x_{3}^{2} \\\\\n",
    "&+\\delta_{7} x_{1} x_{2}+\\delta_{8} x_{1} x_{3}+\\delta_{9} x_{2} x_{3}+\\text { error }\n",
    "\\end{aligned}\n",
    "$$\n",
    "\n",
    "怀特异方差检验就是检验上式中除截距外所有斜率（即所有$\\delta_{j}$）都为0的LM统计量。\n",
    "\n",
    "回归元过多是怀特检验的一般形式的一个缺陷，它要用掉很多自由度。因此，可以考虑怀特检验的特殊形式。\n",
    "\n",
    "$$\n",
    "\\hat{u}^{2}=\\delta_{0}+\\delta_{1} \\hat{y}+\\delta_{2} \\hat{y}^{2}+\\text { error }\n",
    "$$\n",
    "\n",
    "然后再构建F或LM统计量。"
   ]
  },
  {
   "cell_type": "code",
   "execution_count": 14,
   "id": "undefined-driver",
   "metadata": {},
   "outputs": [
    {
     "name": "stdout",
     "output_type": "stream",
     "text": [
      "\n",
      "      Source |       SS           df       MS      Number of obs   =        88\n",
      "-------------+----------------------------------   F(3, 84)        =     50.42\n",
      "       Model |  5.15504028         3  1.71834676   Prob > F        =    0.0000\n",
      "    Residual |  2.86256324        84  .034078134   R-squared       =    0.6430\n",
      "-------------+----------------------------------   Adj R-squared   =    0.6302\n",
      "       Total |  8.01760352        87  .092156362   Root MSE        =     .1846\n",
      "\n",
      "------------------------------------------------------------------------------\n",
      "      lprice |      Coef.   Std. Err.      t    P>|t|     [95% Conf. Interval]\n",
      "-------------+----------------------------------------------------------------\n",
      "    llotsize |   .1679667   .0382812     4.39   0.000     .0918404     .244093\n",
      "      lsqrft |   .7002324   .0928652     7.54   0.000     .5155597    .8849051\n",
      "       bdrms |   .0369584   .0275313     1.34   0.183    -.0177906    .0917074\n",
      "       _cons |  -1.297042   .6512836    -1.99   0.050    -2.592191    -.001893\n",
      "------------------------------------------------------------------------------\n"
     ]
    }
   ],
   "source": [
    "reg lprice llotsize lsqrft bdrms"
   ]
  },
  {
   "cell_type": "code",
   "execution_count": 15,
   "id": "federal-storm",
   "metadata": {},
   "outputs": [
    {
     "name": "stdout",
     "output_type": "stream",
     "text": [
      "\n",
      "White's general test statistic :  9.549449  Chi-sq( 9)  P-value =  .3882\n"
     ]
    }
   ],
   "source": [
    "whitetst"
   ]
  },
  {
   "cell_type": "code",
   "execution_count": 16,
   "id": "sunset-hebrew",
   "metadata": {},
   "outputs": [
    {
     "name": "stdout",
     "output_type": "stream",
     "text": [
      "\n",
      "White's special test statistic :  3.447286  Chi-sq( 2)  P-value =  .1784\n"
     ]
    }
   ],
   "source": [
    "whitetst, fitted"
   ]
  },
  {
   "cell_type": "markdown",
   "id": "offensive-strengthening",
   "metadata": {},
   "source": [
    "## 加权最小二乘估计（WLS）\n",
    "\n",
    "如果我们正确估计了方差的形式，那么加权最小二乘法（WLS）比OLS更有效。"
   ]
  },
  {
   "cell_type": "markdown",
   "id": "administrative-afghanistan",
   "metadata": {},
   "source": [
    "### 除了一个常数倍数以外异方差是已知的\n",
    "\n",
    "假定\n",
    "\n",
    "$$\n",
    "\\operatorname{Var}(u \\mid \\mathbf{x})=\\sigma^{2} h(\\mathbf{x})\n",
    "$$\n",
    "\n",
    "例如简单的储蓄函数\n",
    "\n",
    "$$\n",
    "\\begin{array}{c}\n",
    "\\text {sav}_{i}=\\beta_{0}+\\beta_{i} \\text {inc}_{i}+u_{i} \\\\\n",
    "\\operatorname{Var}\\left(u_{i} \\mid \\text {inc}_{i}\\right)=\\sigma^{2} \\text{inc}_{i}\n",
    "\\end{array}\n",
    "$$\n",
    "\n",
    "对于多元线性回归模型\n",
    "\n",
    "$$\n",
    "y_{i}=\\beta_{0}+\\beta_{1} x_{i 1}+\\beta_{2} x_{i 2}+\\cdots+\\beta_{k} x_{i k}+u_{i}\n",
    "$$\n",
    "\n",
    "由于$\\operatorname{Var}\\left(u_{i} \\mid \\mathbf{x}_{i}\\right)=\\mathrm{E}\\left(u_{i}^{2} \\mid \\mathbf{x}_{i}\\right)=\\sigma^{2} h_{i}$，因此\n",
    "\n",
    "$$\n",
    "\\mathrm{E}\\left[\\left(u_{i} / \\sqrt{h_{i}}\\right)^{2}\\right]=\\mathrm{E}\\left(u_{i}^{2}\\right) / h_{i}=\\left(\\sigma^{2} h_{i}\\right) / h_{i}=\\sigma^{2}\n",
    "$$\n",
    "\n",
    "我们可以将上述方程两边同时除以$\\sqrt{h_{i}}$，得到\n",
    "\n",
    "$$\n",
    "\\begin{aligned}\n",
    "y_{i} / \\sqrt{h_{i}}=& \\beta_{0} \\sqrt{h_{i}}+\\beta_{1}\\left(x_{i 1} / \\sqrt{h_{i}}\\right)+\\beta_{2}\\left(x_{i 2} / \\sqrt{h_{i}}\\right)+\\cdots \\\\\n",
    "&+\\beta_{k}\\left(x_{i k} / \\sqrt{h_{i}}\\right)+\\left(u_{i} / \\sqrt{h_{i}}\\right)\n",
    "\\end{aligned}\n",
    "$$\n",
    "\n",
    "或\n",
    "\n",
    "$$\n",
    "y_{i}^{*}=\\beta_{0} x_{i 0}^{*}+\\beta_{1} x_{i 1}^{*}+\\cdots+\\beta_{k} x_{i k}^{*}+u_{i}^{*}\n",
    "$$\n",
    "\n",
    "对于前面储蓄函数的例子中，变形后的方程为\n",
    "\n",
    "$$\n",
    "\\text{sav}_{i} / \\sqrt{i n c_{i}}=\\beta_{0}\\left(1 / \\sqrt{i n c_{i}}\\right)+\\beta_{1} \\sqrt{i n c_{i}}+u_{i}^{*}\n",
    "$$\n",
    "\n",
    "若变换前原方程满足前四个高斯-马尔科夫假定，那么变换后的方差就满足所有的五个高斯-马尔科夫假定。这个纠正异方差的GOLS估计量被称为**加权最小二乘（WLS）估计量**。这是因为，WLS估计量是使得下式尽可能小的$b_{j}$值\n",
    "\n",
    "$$\n",
    "\\sum_{i=1}^{n}\\left(y_{i}-b_{0}-b_{1} x_{i 1}-b_{2} x_{i 2}-\\cdots-b_{k} x_{i k}\\right)^{2} / h_{i}\n",
    "$$"
   ]
  },
  {
   "cell_type": "code",
   "execution_count": 17,
   "id": "fluid-pillow",
   "metadata": {},
   "outputs": [
    {
     "name": "stdout",
     "output_type": "stream",
     "text": [
      "\n",
      "\n",
      "\n",
      "(est1 stored)\n",
      "\n",
      "(est2 stored)\n",
      "\n",
      "(est3 stored)\n",
      "\n",
      "(est4 stored)\n",
      "\n",
      "\n",
      "----------------------------------------------------------------------------\n",
      "                      (1)             (2)             (3)             (4)   \n",
      "                      sav             sav             sav             sav   \n",
      "----------------------------------------------------------------------------\n",
      "inc                 0.147*          0.172**         0.109           0.101   \n",
      "                 (0.0575)        (0.0568)        (0.0714)        (0.0773)   \n",
      "\n",
      "size                                                67.66          -6.869   \n",
      "                                                  (223.0)         (168.4)   \n",
      "\n",
      "educ                                                151.8           139.5   \n",
      "                                                  (117.2)         (100.5)   \n",
      "\n",
      "age                                                 0.286           21.75   \n",
      "                                                  (50.03)         (41.31)   \n",
      "\n",
      "black                                               518.4           137.3   \n",
      "                                                 (1308.1)         (844.6)   \n",
      "\n",
      "_cons               124.8          -125.0         -1605.4         -1854.8   \n",
      "                  (655.4)         (480.9)        (2830.7)        (2351.8)   \n",
      "----------------------------------------------------------------------------\n",
      "N                     100             100             100             100   \n",
      "R-sq                0.062           0.085           0.083           0.104   \n",
      "----------------------------------------------------------------------------\n",
      "Standard errors in parentheses\n",
      "* p<0.05, ** p<0.01, *** p<0.001\n"
     ]
    }
   ],
   "source": [
    "use http://fmwww.bc.edu/ec-p/data/wooldridge/saving, clear\n",
    "\n",
    "eststo clear\n",
    "\n",
    "eststo: quietly reg sav inc\n",
    "eststo: quietly reg sav inc [aw = 1/inc]\n",
    "eststo: quietly reg sav inc size educ age black\n",
    "eststo: quietly reg sav inc size educ age black [aw = 1/inc]\n",
    "\n",
    "esttab, r2 se"
   ]
  },
  {
   "cell_type": "markdown",
   "id": "downtown-actress",
   "metadata": {},
   "source": [
    "### 必须估计异方差函数：可行GLS\n",
    "\n",
    "在大多数情况下，异方差的形式并不明显。我们可以模型化函数$h$，并利用数据来估计这个模型中的未知参数，从而得到每个$h_{i}$的估计值，即为$\\hat{h}_{i}$。在GLS变换中用$\\hat{h}_{i}$来取代$h_{i}$就得到了可行的GLS（FGLS）估计量。\n",
    "\n",
    "考虑其中的一种方法，假定\n",
    "\n",
    "$$\n",
    "\\operatorname{Var}(u \\mid \\mathbf{x})=\\sigma^{2} \\exp \\left(\\delta_{0}+\\delta_{1} x_{1}+\\delta_{2} x_{2}+\\cdots+\\delta_{k} x_{k}\\right)\n",
    "$$\n",
    "\n",
    "因此纠正异方差性的一个可行的GLS程序\n",
    "\n",
    "（1）将$y$对$x_{1}, x_{2}, \\ldots, x_{k}$回归并得到残差$\\hat{u}$\n",
    "\n",
    "（2）将$\\log \\left(\\hat{u}^{2}\\right)$对$x_{1}, x_{2}, \\ldots, x_{k}$做回归并得到拟合值$\\hat{g}$\n",
    "\n",
    "（3）得到拟合值的指数$\\hat{h}=\\exp (\\hat{g})$\n",
    "\n",
    "（4）以$\frac{1}{\\hat{h}}$为权数，用WLS估计方程$y=\\beta_{0}+\\beta_{1} x_{1}+\\cdots+\\beta_{k} x_{k}+u$"
   ]
  },
  {
   "cell_type": "markdown",
   "id": "divine-rehabilitation",
   "metadata": {},
   "source": [
    "### 如果所假定的异方差函数是错误的会怎么样？\n",
    "\n",
    "- 即使$h(x)$设定错误，也不会导致WLS偏误或不一致；若我们估计函数，例如$h(x,\\delta)$中的参数，WLS不再是无偏的，但通常是一致的\n",
    "\n",
    "- 如果方差函数被错误设定，就不能保证它比OLS更有效"
   ]
  },
  {
   "cell_type": "markdown",
   "id": "speaking-creature",
   "metadata": {},
   "source": [
    "## 再议线性概率模型"
   ]
  },
  {
   "cell_type": "markdown",
   "id": "muslim-search",
   "metadata": {},
   "source": [
    "一般而言，OLS估计量在LPM中都不是有效的\n",
    "\n",
    "$$\\operatorname{Var}(y \\mid \\mathbf{x})=p(\\mathbf{x})[1-p(\\mathbf{x})]$$\n",
    "\n",
    "其中\n",
    "\n",
    "$$p(\\mathbf{x})=\\beta_{0}+\\beta_{1} x_{1}+\\cdots+\\beta_{k} x_{k}$$\n",
    "\n",
    "因此，可以估计$\\hat{h}$，即\n",
    "\n",
    "$\\hat{h}_{i}=\\hat{y}_{i}\\left(1-\\hat{y}_{i}\\right)$\n",
    "\n",
    "然后类似之前所说的可行的GLS进行估计。\n",
    "\n",
    "> 但某些情况下，$\\hat{h}$可能是负数，则需要进行恰当调整"
   ]
  }
 ],
 "metadata": {
  "kernelspec": {
   "display_name": "Stata",
   "language": "stata",
   "name": "stata"
  },
  "language_info": {
   "codemirror_mode": "stata",
   "file_extension": ".do",
   "mimetype": "text/x-stata",
   "name": "stata",
   "version": "15.1"
  },
  "widgets": {
   "application/vnd.jupyter.widget-state+json": {
    "state": {},
    "version_major": 2,
    "version_minor": 0
   }
  }
 },
 "nbformat": 4,
 "nbformat_minor": 5
}
