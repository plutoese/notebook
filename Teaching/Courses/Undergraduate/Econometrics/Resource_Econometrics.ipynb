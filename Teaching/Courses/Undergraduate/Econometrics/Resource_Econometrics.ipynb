{
 "cells": [
  {
   "cell_type": "markdown",
   "id": "coastal-martin",
   "metadata": {},
   "source": [
    "# 计量经济学课程资源"
   ]
  },
  {
   "cell_type": "markdown",
   "id": "blind-result",
   "metadata": {},
   "source": [
    "## 视频"
   ]
  },
  {
   "cell_type": "markdown",
   "id": "raised-madness",
   "metadata": {},
   "source": [
    "### 功夫计量\n",
    "\n",
    "问题：什么是随机化实验，它如何识别因果关系？ https://www.bilibili.com/video/BV1dp4y1C7QC\n",
    "\n",
    "问题：计量经济学如何识别因果关系? https://www.bilibili.com/video/BV1N741117PM"
   ]
  }
 ],
 "metadata": {
  "kernelspec": {
   "display_name": "Python 3",
   "language": "python",
   "name": "python3"
  },
  "language_info": {
   "codemirror_mode": {
    "name": "ipython",
    "version": 3
   },
   "file_extension": ".py",
   "mimetype": "text/x-python",
   "name": "python",
   "nbconvert_exporter": "python",
   "pygments_lexer": "ipython3",
   "version": "3.6.13"
  },
  "widgets": {
   "application/vnd.jupyter.widget-state+json": {
    "state": {},
    "version_major": 2,
    "version_minor": 0
   }
  }
 },
 "nbformat": 4,
 "nbformat_minor": 5
}
