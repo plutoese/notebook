{
 "cells": [
  {
   "cell_type": "markdown",
   "id": "extraordinary-reliance",
   "metadata": {},
   "source": [
    "# OLS用于时间序列数据的其他问题\n",
    "------"
   ]
  },
  {
   "cell_type": "markdown",
   "id": "portuguese-memphis",
   "metadata": {},
   "source": [
    "## 平稳和弱相关时间序列"
   ]
  },
  {
   "cell_type": "markdown",
   "id": "naughty-blogger",
   "metadata": {},
   "source": [
    "### 平稳和非平稳时间序列\n",
    "\n",
    "**平稳随机过程（严格平稳）**\n",
    "\n",
    "对于随机过程$\\left\\{x_{t}: t=1,2, \\ldots\\right\\}$，如果对于每一个时间指标集$1 \\leq t_{1}<t_{2}<\\cdots<t_{m}$和任意整数$h \\geq 1$，$\\left(x_{t_{1}}, x_{t_{2}}, \\ldots, x_{t_{m}}\\right)$的联合分布都与$\\left(x_{t_{1}+h}, x_{t_{2}+h}, \\ldots, x_{t_{m}+h}\\right)$的联合分布相同，那么这个随机过程就是平稳的。\n",
    "\n",
    "\n",
    "<br>\n",
    "\n",
    "\n",
    "**协方差平稳过程**\n",
    "\n",
    "对于一个具有有限二阶矩$\\left[\\mathrm{E}\\left(x_{t}^{2}\\right)<\\infty\\right]$的随机过程$\\left\\{x_{t}: t=1,2, \\ldots\\right\\}$，若：（i）$\\mathrm{E}\\left(x_{t}\\right)$为常数；（ii）$\\operatorname{Var}\\left(x_{t}\\right)$为常数；（iii）对任何$t$，$h \\geq 1$，$\\operatorname{Cov}\\left(x_{t}, x_{t+h}\\right)$仅取决于$h$，而不取决于$t$。那它就是协方差平稳的。\n",
    "\n",
    "如果一个平稳过程具有有限二阶矩，那么它一定是协方差平稳的，但反过来未必正确。"
   ]
  },
  {
   "cell_type": "markdown",
   "id": "express-crime",
   "metadata": {},
   "source": [
    "### 弱相关时间序列\n",
    "\n",
    "对于一个平稳时间序列$\\left\\{x_{t}: t=1,2, \\ldots\\right\\}$，若随着$h$无限增大，$x_{t}$和$x_{t+h}$“近乎独立”，则称之为**弱相关**的。\n",
    "\n",
    "直接而言，随着$h \\rightarrow \\infty$，$\\operatorname{Corr}\\left(x_{t}, x_{t+h}\\right) \\rightarrow 0$的协方差平稳序列被称为**渐近无关**的。"
   ]
  },
  {
   "cell_type": "markdown",
   "id": "certain-symphony",
   "metadata": {},
   "source": [
    "### 常用的时间序列过程\n",
    "\n",
    "一阶移动平均过程MA(1)\n",
    "\n",
    "$$\n",
    "x_{t}=e_{t}+\\alpha_{1} e_{t-1}, t=1,2, \\ldots\n",
    "$$\n",
    "\n",
    "一阶自回归过程AR(1)\n",
    "\n",
    "$$\n",
    "y_{t}=\\rho_{1} y_{t-1}+e_{t}, t=1,2, \\ldots\n",
    "$$\n",
    "\n",
    "<br>\n",
    "\n",
    "**问题**\n",
    "\n",
    "- 一阶移动平均过程（MA）是平稳的么？二阶呢？\n",
    "- 一阶移动平均过程（MA）是弱相关的么？\n",
    "- 一阶自回归过程（AR）是平稳的么？\n",
    "- 平稳的一阶自回归过程是渐近无关的么？"
   ]
  },
  {
   "cell_type": "markdown",
   "id": "blank-transsexual",
   "metadata": {},
   "source": [
    "## OLS的渐近性质\n",
    "\n",
    "- 假定TS.1' 线性与弱相关\n",
    "\n",
    "- 假定TS.2' 无完全共线性\n",
    "\n",
    "- 假定TS.3' 零条件均值（同期外生性） $E(\\mu_{t}|X_{t})=0$\n",
    "\n",
    "**OLS的一致性**\n",
    "\n",
    "在假定TS.1'、TS.2'和TS.3'下，OLS估计量是一致的：$\\operatorname{plim} \\hat{\\beta}_{j}=\\beta_{j}, j=0,1, \\ldots, k$\n",
    "\n",
    "<br>\n",
    "\n",
    "- 假定TS.4' 同方差性$\\operatorname{Var}\\left(u_{t} \\mid \\mathbf{x}_{t}\\right)=\\sigma^{2}$\n",
    "\n",
    "- 假定TS.5' 无序列相关 对于所有$t \\neq s, \\mathrm{E}\\left(u_{t} u_{s} \\mid \\mathbf{x}_{t}, \\mathbf{x}_{s}\\right)=0$\n",
    "\n",
    "**OLS的渐近正态性**\n",
    "\n",
    "在假定TS.1'至TS.5'下，OLS估计量是渐近正态分布的。而且，通常的OLS标准误、t统计量、F统计量和LM统计量是渐近有效的。"
   ]
  },
  {
   "cell_type": "code",
   "execution_count": 1,
   "id": "civil-warner",
   "metadata": {},
   "outputs": [
    {
     "name": "stdout",
     "output_type": "stream",
     "text": [
      "\n",
      "\n",
      "\n",
      "      Source |       SS           df       MS      Number of obs   =       689\n",
      "-------------+----------------------------------   F(1, 687)       =      2.40\n",
      "       Model |  10.6866237         1  10.6866237   Prob > F        =    0.1218\n",
      "    Residual |  3059.73813       687   4.4537673   R-squared       =    0.0035\n",
      "-------------+----------------------------------   Adj R-squared   =    0.0020\n",
      "       Total |  3070.42476       688  4.46282668   Root MSE        =    2.1104\n",
      "\n",
      "------------------------------------------------------------------------------\n",
      "      return |      Coef.   Std. Err.      t    P>|t|     [95% Conf. Interval]\n",
      "-------------+----------------------------------------------------------------\n",
      "    return_1 |   .0588984   .0380231     1.55   0.122    -.0157569    .1335538\n",
      "       _cons |    .179634   .0807419     2.22   0.026     .0211034    .3381646\n",
      "------------------------------------------------------------------------------\n"
     ]
    }
   ],
   "source": [
    "use http://fmwww.bc.edu/ec-p/data/wooldridge/nyse, clear\n",
    "\n",
    "reg return return_1"
   ]
  },
  {
   "cell_type": "code",
   "execution_count": 5,
   "id": "alternative-arrow",
   "metadata": {},
   "outputs": [
    {
     "name": "stdout",
     "output_type": "stream",
     "text": [
      "\n",
      "        time variable:  t, 1 to 691\n",
      "                delta:  1 unit\n",
      "\n",
      "\n",
      "      Source |       SS           df       MS      Number of obs   =       688\n",
      "-------------+----------------------------------   F(2, 685)       =      1.66\n",
      "       Model |  14.7922403         2  7.39612013   Prob > F        =    0.1912\n",
      "    Residual |  3054.64163       685  4.45933084   R-squared       =    0.0048\n",
      "-------------+----------------------------------   Adj R-squared   =    0.0019\n",
      "       Total |  3069.43387       687  4.46788045   Root MSE        =    2.1117\n",
      "\n",
      "------------------------------------------------------------------------------\n",
      "      return |      Coef.   Std. Err.      t    P>|t|     [95% Conf. Interval]\n",
      "-------------+----------------------------------------------------------------\n",
      "      return |\n",
      "         L1. |   .0603152   .0381775     1.58   0.115    -.0146437    .1352741\n",
      "         L2. |  -.0380749   .0381425    -1.00   0.319    -.1129651    .0368154\n",
      "             |\n",
      "       _cons |   .1857481   .0811501     2.29   0.022     .0264153    .3450808\n",
      "------------------------------------------------------------------------------\n"
     ]
    }
   ],
   "source": [
    "tsset t\n",
    "\n",
    "reg return L.return L2.return"
   ]
  },
  {
   "cell_type": "markdown",
   "id": "beautiful-stadium",
   "metadata": {},
   "source": [
    "## 回归分析中使用高度持续性时间序列\n",
    "\n",
    "**高度持续性时间序列——随机游走过程**\n",
    "\n",
    "$$y_{t}=y_{t-1}+\\varepsilon_{t},t=1,2...$$\n",
    "\n",
    "若假定$y_{0}=0$，则$E(y_{t})=0$\n",
    "\n",
    "$$Var(y_{t})=\\sigma^{2}t$$\n",
    "\n",
    "$$E(y_{t+h}|y_{t})=y_{t}$$\n",
    "\n",
    "$$Corr(y_{t},y_{t+h})=\\sqrt{t/(t+h)}$$\n",
    "\n",
    "随机游走是所谓单位根过程的一个特例。\n",
    "\n",
    "**零阶单整I(0)**\n",
    "\n",
    "弱相关平稳过程被称为零阶单整或I(0)。\n",
    "\n",
    "**一阶单整I(1)**\n",
    "\n",
    "单位根过程，例如随机游走被称为一阶单整或I(1)。这意味着这个过程的一阶差分便是弱相关平稳的。I(1)时间序列常被称为差分平稳过程。"
   ]
  },
  {
   "cell_type": "markdown",
   "id": "early-saver",
   "metadata": {},
   "source": [
    "## 动态完备模型和无序列相关\n",
    "\n",
    "对于模型\n",
    "\n",
    "$$\n",
    "y_{t}=\\beta_{0}+\\beta_{1} x_{t 1}+\\cdots+\\beta_{k} x_{t k}+u_{t}\n",
    "$$\n",
    "\n",
    "若\n",
    "\n",
    "$$\n",
    "\\mathrm{E}\\left(u_{t} \\mid \\mathbf{x}_{t}, y_{t-1}, \\mathbf{x}_{t-1}, \\ldots\\right)=0\n",
    "$$\n",
    "\n",
    "或\n",
    "\n",
    "$$\n",
    "\\mathrm{E}\\left(y_{t} \\mid \\mathbf{x}_{t}, y_{t-1}, \\mathbf{x}_{t-1}, \\ldots\\right)=\\mathrm{E}\\left(y_{t} \\mid \\mathbf{x}_{t}\\right)\n",
    "$$\n",
    "\n",
    "那么，我们得到一个动态完备模型，意味着模型不存在序列相关性。\n",
    "\n",
    "**序列外生性**\n",
    "\n",
    "满足\n",
    "\n",
    "$$\n",
    "\\mathrm{E}\\left(u_{t} \\mid \\mathbf{x}_{t}, \\mathbf{x}_{t-1}, \\ldots\\right)=\\mathrm{E}\\left(u_{t}\\right)=0, t=1,2, \\ldots\n",
    "$$\n",
    "\n",
    "那么解释变量就被称为序列外生的。"
   ]
  },
  {
   "cell_type": "markdown",
   "id": "limiting-introduction",
   "metadata": {},
   "source": [
    "## 时间序列模型的同方差性假定\n",
    "\n",
    "若模型为\n",
    "\n",
    "$$\n",
    "y_{t}=\\beta_{0}+\\beta_{1} z_{t}+\\beta_{2} y_{t-1}+\\beta_{3} z_{t-1}+u_{t}\n",
    "$$\n",
    "\n",
    "那么同方差假定就是\n",
    "\n",
    "$$\n",
    "\\operatorname{Var}\\left(u_{t} \\mid z_{t}, y_{t-1}, z_{t-1}\\right)=\\operatorname{Var}\\left(y_{t} \\mid z_{t}, y_{t-1}, z_{t-1}\\right)=\\sigma^{2}\n",
    "$$"
   ]
  }
 ],
 "metadata": {
  "kernelspec": {
   "display_name": "Stata",
   "language": "stata",
   "name": "stata"
  },
  "language_info": {
   "codemirror_mode": "stata",
   "file_extension": ".do",
   "mimetype": "text/x-stata",
   "name": "stata",
   "version": "15.1"
  },
  "widgets": {
   "application/vnd.jupyter.widget-state+json": {
    "state": {},
    "version_major": 2,
    "version_minor": 0
   }
  }
 },
 "nbformat": 4,
 "nbformat_minor": 5
}
