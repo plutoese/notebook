{
 "cells": [
  {
   "cell_type": "markdown",
   "id": "acceptable-telescope",
   "metadata": {},
   "source": [
    "# 时间序列回归中序列相关和异方差性"
   ]
  },
  {
   "cell_type": "markdown",
   "id": "third-swaziland",
   "metadata": {},
   "source": [
    "## 含序列相关误差时OLS的性质"
   ]
  },
  {
   "cell_type": "markdown",
   "id": "acceptable-pocket",
   "metadata": {},
   "source": [
    "### 无偏性和一致性\n",
    "\n",
    "- 当解释变量是严格外生，无论误差项中的序列相关程度如何，都是无偏的\n",
    "\n",
    "- 当放松严格外生时，若数据是弱相关时，OLS估计量仍然是一致的"
   ]
  },
  {
   "cell_type": "markdown",
   "id": "inclusive-forth",
   "metadata": {},
   "source": [
    "### 有效性和推断\n",
    "\n",
    "假设简单线性回归模型$y_{t}=\\beta_{0}+\\beta_{1} x_{t}+\\mu_{t}$，OLS估计量$\\hat{\\beta}_{1}$可写成\n",
    "\n",
    "$$\\hat{\\beta}_{1}=\\beta_{1}+\\operatorname{SST}_{x}^{-1} \\sum_{t=1}^{n} x_{t} \\mu_{t}$$\n",
    "\n",
    "因此它的抽样方差为\n",
    "\n",
    "$$\\begin{aligned} \\operatorname{Var}\\left(\\hat{\\beta}_{1}\\right) &=\\operatorname{SST}_{x}^{-2} \\operatorname{Var}\\left(\\sum_{t=1}^{n} x_{t} \\mu_{t}\\right) \\\\ &=\\operatorname{SST}_{x}^{-2}\\left(\\sum_{t=1}^{n} x_{t}^{2} \\operatorname{Var}\\left(\\mu_{t}\\right)+2 \\sum_{t=1}^{n-1} \\sum_{j=1}^{n-t} x_{t} x_{t+j} \\mathrm{E}\\left(\\mu_{t} \\mu_{t+j}\\right)\\right) \\\\ &=\\sigma^{2} / \\mathrm{SST}_{x}+2\\left(\\sigma^{2} / \\mathrm{SST}_{x}^{2}\\right) \\sum_{t=1}^{n-1} \\sum_{j=1}^{n-t} \\rho^{j} x_{t} x_{t+j} \\end{aligned}$$\n",
    "\n",
    "- 但通常的OLS标准误和检验统计量不再有效，而且连渐近有效都谈不上，OLS便不再是BLUE的。"
   ]
  },
  {
   "cell_type": "markdown",
   "id": "alert-blood",
   "metadata": {},
   "source": [
    "### 拟合优度\n",
    "\n",
    "若数据是平稳和弱相关的，那么时间序列回归模型中即使存在序列相关，通常的拟合优度和调整的拟合优度仍然是有效的。"
   ]
  },
  {
   "cell_type": "markdown",
   "id": "suspected-faith",
   "metadata": {},
   "source": [
    "### 出现滞后因变量时的序列相关\n",
    "\n",
    "**讨论**\n",
    "\n",
    "“在出现滞后因变量和序列相关的误差时，OLS是不一致的。”这句话正确么？\n",
    "\n",
    "假设\n",
    "\n",
    "$$\\begin{aligned} y_{t}=& \\beta_{0}+\\beta_{1} y_{t-1}+\\mu_{t} \\\\ & \\mathrm{E}\\left(\\mu_{t} | y_{t-1}\\right)=0 \\end{aligned}$$\n",
    "\n",
    "因为$u_{t-1}=y_{t-1}-\\beta_{0}-\\beta_{1} y_{t-2}$，所以$\\mu_{t}$和$\\mu_{t-1}$之间的协方差就是$-\\beta_{1} \\operatorname{Cov}\\left(u_{t}, y_{t-2}\\right)$，它并不一定为零。\n",
    "\n",
    "<br>"
   ]
  },
  {
   "cell_type": "markdown",
   "id": "interesting-waters",
   "metadata": {},
   "source": [
    "## 序列相关的检验"
   ]
  },
  {
   "cell_type": "markdown",
   "id": "efficient-count",
   "metadata": {},
   "source": [
    "### 回归元为严格外生时对$AR(1)$序列相关的$t$检验\n",
    "\n",
    "检验步骤\n",
    "\n",
    "(1) 做$y_{t}$对$x_{t 1}, \\dots, x_{t k}$的OLS回归，得到OLS残差$\\hat{\\mu}_{t}$\n",
    "\n",
    "(2) 做$\\hat{\\mu}_{t}$对$\\hat{\\mu}_{t-1}$的回归，得到$\\hat{\\mu}_{t-1}$的系数$\\hat{\\rho}$及其$t$统计量$t_{\\hat{\\rho}}$\n",
    "\n",
    "(3) 按照通常的方法，用临界值或$p$值法拒绝（或不拒绝）原假设"
   ]
  },
  {
   "cell_type": "markdown",
   "id": "opening-input",
   "metadata": {},
   "source": [
    "### 经典假定条件下的德宾-沃森检验\n",
    "\n",
    "德宾-沃森（DW）统计量也是以OLS残差为基础的\n",
    "\n",
    "$$DW=\\frac{\\sum_{t=2}^{n}\\left(\\hat{u}_{t}-\\hat{u}_{t-1}\\right)^{2}}{\\sum_{t=1}^{n} \\hat{u}_{t}^{2}}\\approx 2(1-\\hat{\\rho})$$\n",
    "\n",
    "它需要所有的经典线性模型假定，包括误差项的正态性。由于求DW的原分布比较困难，因而必须将DW与两组临界值进行比较，这些临界值通常被标志为$d_{U}$（上界）和$d_{L}$（下界）。它相对于$t$检验的唯一优点是可以列出一个精确的DW抽样分布。"
   ]
  },
  {
   "cell_type": "markdown",
   "id": "north-stuart",
   "metadata": {},
   "source": [
    "### 回归元不是严格外生时$AR(1)$序列相关的检验\n",
    "\n",
    "一般回归元的序列相关检验\n",
    "\n",
    "(1) 做$y_{t}$对$x_{t 1}, \\dots, x_{t k}$的OLS回归，得到OLS残差$\\hat{\\mu}_{t}$\n",
    "\n",
    "(2) 做$\\hat{\\mu}_{t}$对$x_{t 1}, \\dots, x_{t k}, \\hat{\\mu}_{t-1}$的回归，得到$\\hat{\\mu}_{t-1}$的系数$\\hat{\\rho}$及其$t$统计量$t_{\\hat{\\rho}}$\n",
    "\n",
    "(3) 按照通常的方法，用临界值或$p$值法拒绝（或不拒绝）原假设"
   ]
  },
  {
   "cell_type": "markdown",
   "id": "spoken-following",
   "metadata": {},
   "source": [
    "### 更高阶序列相关的检验\n",
    "\n",
    "$AR(q)$序列相关的检验\n",
    "\n",
    "(1) 做$y_{t}$对$x_{t 1}, \\dots, x_{t k}$的OLS回归，得到OLS残差$\\hat{\\mu}_{t}$\n",
    "\n",
    "(2) 做$\\hat{\\mu}_{t}$对$x_{t 1}, \\dots, x_{t k}, \\hat{\\mu}_{t-1}, \\hat{\\mu}_{t-2}, \\dots, \\hat{\\mu}_{t-q}$的回归\n",
    "\n",
    "(3) 计算上式中$\\hat{\\mu}_{t-1}, \\hat{\\mu}_{t-2}, \\dots, \\hat{\\mu}_{t-q}$联合显著的$F$检验"
   ]
  },
  {
   "cell_type": "markdown",
   "id": "stock-relief",
   "metadata": {},
   "source": [
    "## 回归元严格外生时序列相关的修正\n",
    "\n",
    "### 有$\\mathbf{A R}(\\mathbf{1})$误差的可行GLS估计\n",
    "\n",
    "考虑只有一个解释变量的情况\n",
    "\n",
    "$$y_{t}=\\beta_{0} + \\beta_{1}x_{t} + \\mu_{t}$$\n",
    "\n",
    "假定误差服从AR(1)模型，即\n",
    "\n",
    "$$\\mu_{t} = \\rho \\mu_{t-1} + e_{t}$$\n",
    "\n",
    "可以进行如下方程变换\n",
    "\n",
    "$$y_{t}-\\rho y_{t-1}=(1-\\rho) \\beta_{0}+\\beta_{1}\\left(x_{t}-\\rho x_{t-1}\\right)+e_{t}, t \\geq 2$$\n",
    "\n",
    "上式可以写为\n",
    "\n",
    "$$\\widetilde{y}_{t}=(1-\\rho) \\beta_{0}+\\beta_{1} \\widetilde{x}_{t}+e_{r}, t \\geq 2$$\n",
    "\n",
    "其中\n",
    "\n",
    "$$\\tilde{y}_{t}=y_{t}-\\rho y_{t-1}, \\widetilde{x}_{t}=x_{t}-\\rho x_{t-1}$$\n",
    "\n",
    "被称为**准差分数据**。由于它们没有利用第一时期的数据，因此OLS估计量还不完全是BLUE的。可以把$t=1$时的方程表示为\n",
    "\n",
    "$$y_{1}=\\beta_{0}+\\beta_{1} x_{1}+u_{1}$$\n",
    "\n",
    "把方程两边都乘以$\\left(1-\\rho^{2}\\right)^{1 / 2}$，以使误差具有相同的方差\n",
    "\n",
    "$$\\left(1-\\rho^{2}\\right)^{1 / 2} y_{1}=\\left(1-\\rho^{2}\\right)^{1 / 2} \\beta_{0}+\\beta_{1}\\left(1-\\rho^{2}\\right)^{1 / 2} x_{1}+\\left(1-\\rho^{2}\\right)^{1 / 2} u_{1}$$\n",
    "\n",
    "然后把上述方程和之前的准除差分方程一起用于OLS回归，就可以得到BLUE估计量。这里的GLS估计量存在的问题是，实际中我们很少知道$\\rho$。但我们已经可以得到它的一个一致估计量：只要将OLS残差对其滞后值回归即可。\n",
    "\n",
    "**AR(1)模型的可行GLS估计**\n",
    "\n",
    "(1) 做$y_{t}$对$x_{t 1}, \\dots, x_{t k}$的OLS回归，得到OLS残差$\\hat{\\mu}_{t}$\n",
    "\n",
    "(2) 做$\\hat{\\mu}_{t}$对$\\hat{\\mu}_{t-1}$的回归，得到$\\hat{\\mu}_{t-1}$的系数$\\hat{\\rho}$\n",
    "\n",
    "(3) 用OLS估计方程\n",
    "\n",
    "$$\\widetilde{y}_{t}=\\beta_{0} \\widetilde{x}_{t 0}+\\beta_{1} \\widetilde{x}_{t 1}+\\ldots+\\beta_{k} \\widetilde{x}_{t k}+\\text {error }_{t}$$\n",
    "\n",
    "其中，对$t \\geq 2$，$\\widetilde{x}_{t 0}=(1-\\hat{\\rho})$，而$\\widetilde{x}_{10}=\\left(1-\\hat{\\rho}^{2}\\right)^{1 / 2}$。常见的标准误、$t$统计量和$F$统计量都是渐近有效的。\n",
    "\n",
    "$AR(1)$模型的FGLS估计有很多名称，根据处理第一次观测的方法不同而不同。柯克伦-奥卡特（CO）估计省略了第一次观测，而普莱斯-温斯顿（PW）估计按照上述方法使用了第一次观测。\n",
    "\n",
    "<br>\n",
    "\n",
    "**讨论**\n",
    "\n",
    "OLS和FGLS哪个更好？"
   ]
  },
  {
   "cell_type": "code",
   "execution_count": 1,
   "id": "ready-chocolate",
   "metadata": {},
   "outputs": [
    {
     "name": "stdout",
     "output_type": "stream",
     "text": [
      "\n",
      "\n",
      "        time variable:  t, 1 to 131\n",
      "                delta:  1 unit\n",
      "\n",
      "\n",
      "(est1 stored)\n",
      "\n",
      "(est2 stored)\n",
      "\n",
      "\n",
      "--------------------------------------------\n",
      "                      (1)             (2)   \n",
      "                  lchnimp         lchnimp   \n",
      "--------------------------------------------\n",
      "lchempi             3.117***        2.947***\n",
      "                   (6.50)          (4.57)   \n",
      "\n",
      "lgas                0.196           1.055   \n",
      "                   (0.22)          (1.06)   \n",
      "\n",
      "lrtwex              0.983*          1.137*  \n",
      "                   (2.46)          (2.21)   \n",
      "\n",
      "befile6            0.0596         -0.0164   \n",
      "                   (0.23)         (-0.05)   \n",
      "\n",
      "affile6           -0.0324         -0.0331   \n",
      "                  (-0.12)         (-0.10)   \n",
      "\n",
      "afdec6             -0.565          -0.577   \n",
      "                  (-1.98)         (-1.68)   \n",
      "\n",
      "_cons              -17.80          -37.32   \n",
      "                  (-0.85)         (-1.61)   \n",
      "--------------------------------------------\n",
      "N                     131             130   \n",
      "R-sq                0.305           0.192   \n",
      "--------------------------------------------\n",
      "t statistics in parentheses\n",
      "* p<0.05, ** p<0.01, *** p<0.001\n"
     ]
    }
   ],
   "source": [
    "use http://fmwww.bc.edu/ec-p/data/wooldridge/barium, clear\n",
    "\n",
    "tsset t\n",
    "\n",
    "eststo clear\n",
    "eststo: quietly reg lchnimp lchempi lgas lrtwex befile6 affile6 afdec6\n",
    "eststo: quietly prais lchnimp lchempi lgas lrtwex befile6 affile6 afdec6, corc\n",
    "esttab, r2"
   ]
  },
  {
   "cell_type": "markdown",
   "id": "practical-forest",
   "metadata": {},
   "source": [
    "## 在OLS后的序列相关-稳健推断"
   ]
  },
  {
   "cell_type": "markdown",
   "id": "canadian-jacob",
   "metadata": {},
   "source": [
    "## 时间序列回归中的异方差性"
   ]
  }
 ],
 "metadata": {
  "kernelspec": {
   "display_name": "Stata",
   "language": "stata",
   "name": "stata"
  },
  "language_info": {
   "codemirror_mode": "stata",
   "file_extension": ".do",
   "mimetype": "text/x-stata",
   "name": "stata",
   "version": "15.1"
  },
  "widgets": {
   "application/vnd.jupyter.widget-state+json": {
    "state": {},
    "version_major": 2,
    "version_minor": 0
   }
  }
 },
 "nbformat": 4,
 "nbformat_minor": 5
}
