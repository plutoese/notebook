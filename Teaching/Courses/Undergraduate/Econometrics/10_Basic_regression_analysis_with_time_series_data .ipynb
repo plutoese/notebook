{
 "cells": [
  {
   "cell_type": "markdown",
   "id": "greek-lindsay",
   "metadata": {},
   "source": [
    "# 时间序列数据的基本回归分析\n",
    "------"
   ]
  },
  {
   "cell_type": "markdown",
   "id": "active-mainland",
   "metadata": {},
   "source": [
    "## 时间序列数据的性质\n",
    "\n",
    "**时间序列过程(随机过程)**\n",
    "\n",
    "一个标有时间脚标的随机变量序列被称为一个随机过程或时间序列过程。\n",
    "\n",
    "<br>\n",
    "\n",
    "**时间序列数据的特征**\n",
    "\n",
    "- 按时间排列\n",
    "\n",
    "- 时间序列的随机性\n",
    "\n",
    "- 趋势、季节性、周期性、突变"
   ]
  },
  {
   "cell_type": "markdown",
   "id": "present-speaker",
   "metadata": {},
   "source": [
    "## 静态模型\n",
    "\n",
    "假设两个变量的时间序列模型\n",
    "\n",
    "$$\n",
    "y_{t}=\\beta_{0}+\\beta_{1} z_{t}+u_{t}, t=1,2, \\ldots, n\n",
    "$$\n",
    "\n",
    "例如，静态菲利普斯曲线\n",
    "\n",
    "$$\n",
    "i n f_{t}=\\beta_{0}+\\beta_{1} \\text { unem }_{t}+u_{t}\n",
    "$$"
   ]
  },
  {
   "cell_type": "markdown",
   "id": "varied-rotation",
   "metadata": {},
   "source": [
    "## 有限分布滞后模型\n",
    "\n",
    "一个二阶FDL\n",
    "\n",
    "$$\n",
    "y_{t}=\\alpha_{0}+\\delta_{0} z_{t}+\\delta_{1} z_{t-1}+\\delta_{2} z_{t-2}+u_{t}\n",
    "$$\n",
    "\n",
    "- 冲击倾向或冲击乘数\n",
    "\n",
    "- 长期倾向或长期乘数\n",
    "\n",
    "<br>\n",
    "\n",
    "**妇女生育决策的例子**\n",
    "\n",
    "$$gfr_{t} = \\alpha_{0} + \\delta_{0}pe_{t} + \\delta_{1}pe_{t-1} + \\delta_{2}pe_{t-2} + \\mu_{t}$$\n",
    "\n",
    "其中$gfr_{t}$是生育率，$pe_{t}$是个人所得税减免的实际美元金额。"
   ]
  },
  {
   "cell_type": "code",
   "execution_count": 3,
   "id": "matched-ceramic",
   "metadata": {},
   "outputs": [
    {
     "name": "stdout",
     "output_type": "stream",
     "text": [
      "\n",
      "\n",
      "        time variable:  year, 1913 to 1984\n",
      "                delta:  1 unit\n"
     ]
    }
   ],
   "source": [
    "use http://fmwww.bc.edu/ec-p/data/wooldridge/fertil3, clear\n",
    "\n",
    "tsset year"
   ]
  },
  {
   "cell_type": "code",
   "execution_count": 4,
   "id": "conventional-pathology",
   "metadata": {},
   "outputs": [
    {
     "name": "stdout",
     "output_type": "stream",
     "text": [
      "\n",
      "      Source |       SS           df       MS      Number of obs   =        70\n",
      "-------------+----------------------------------   F(3, 66)        =      0.14\n",
      "       Model |  159.461148         3   53.153716   Prob > F        =    0.9383\n",
      "    Residual |  25832.9717        66  391.408663   R-squared       =    0.0061\n",
      "-------------+----------------------------------   Adj R-squared   =   -0.0390\n",
      "       Total |  25992.4329        69  376.701926   Root MSE        =    19.784\n",
      "\n",
      "------------------------------------------------------------------------------\n",
      "         gfr |      Coef.   Std. Err.      t    P>|t|     [95% Conf. Interval]\n",
      "-------------+----------------------------------------------------------------\n",
      "          pe |\n",
      "         --. |  -.0158445    .140256    -0.11   0.910    -.2958747    .2641856\n",
      "         L1. |  -.0213365   .2152292    -0.10   0.921    -.4510555    .4083826\n",
      "         L2. |   .0539005   .1381132     0.39   0.698    -.2218513    .3296524\n",
      "             |\n",
      "       _cons |   93.15791   4.499654    20.70   0.000     84.17406    102.1418\n",
      "------------------------------------------------------------------------------\n"
     ]
    }
   ],
   "source": [
    "reg gfr pe L.pe L2.pe"
   ]
  },
  {
   "cell_type": "code",
   "execution_count": 5,
   "id": "peripheral-happening",
   "metadata": {},
   "outputs": [
    {
     "name": "stdout",
     "output_type": "stream",
     "text": [
      "\n",
      "      Source |       SS           df       MS      Number of obs   =        70\n",
      "-------------+----------------------------------   F(3, 66)        =      0.14\n",
      "       Model |  159.461148         3   53.153716   Prob > F        =    0.9383\n",
      "    Residual |  25832.9717        66  391.408663   R-squared       =    0.0061\n",
      "-------------+----------------------------------   Adj R-squared   =   -0.0390\n",
      "       Total |  25992.4329        69  376.701926   Root MSE        =    19.784\n",
      "\n",
      "------------------------------------------------------------------------------\n",
      "         gfr |      Coef.   Std. Err.      t    P>|t|     [95% Conf. Interval]\n",
      "-------------+----------------------------------------------------------------\n",
      "          pe |  -.0158445    .140256    -0.11   0.910    -.2958747    .2641856\n",
      "        pe_1 |  -.0213365   .2152292    -0.10   0.921    -.4510555    .4083826\n",
      "        pe_2 |   .0539005   .1381132     0.39   0.698    -.2218513    .3296524\n",
      "       _cons |   93.15791   4.499654    20.70   0.000     84.17406    102.1418\n",
      "------------------------------------------------------------------------------\n"
     ]
    }
   ],
   "source": [
    "reg gfr pe pe_1 pe_2"
   ]
  },
  {
   "cell_type": "markdown",
   "id": "invalid-twelve",
   "metadata": {},
   "source": [
    "## 经典假设下OLS的有限样本性质\n",
    "\n",
    "- 假定TS.1 线性于参数\n",
    "\n",
    "- 假定TS.2 无完全共线性\n",
    "\n",
    "- 假定TS.3 零条件均值（严格外生性） $E(\\mu_{t}|X)=0$\n",
    "\n",
    "**例子**\n",
    "\n",
    "$$mrdrte_{t}=\\beta_{0}+\\beta_{1} \\text { polpc }_{t}+\\mu_{t}$$\n",
    "\n",
    "**无偏性**\n",
    "\n",
    "在假定TS.1、TS.2和TS.3下，以$X$为条件，OLS估计量是无偏的。\n",
    "\n",
    "<br>\n",
    "\n",
    "- 假定TS.4 同方差性 $Var(\\mu_{t}|X)=\\sigma^{2}$\n",
    "\n",
    "- 假定TS.5 无序列相关 $Corr(\\mu_{t},\\mu_{s}|X)=0,\\forall t\\neq s$\n",
    "\n",
    "**OLS估计量的方差**\n",
    "\n",
    "在时间序列高斯—马尔科夫假定TS.1到TS.5下，以$X$为条件，$\\hat{\\beta}_{j}$的条件方差为\n",
    "\n",
    "$$\\operatorname{Var}\\left(\\hat{\\beta}_{j} | \\mathbf{X}\\right)=\\sigma^{2} /\\left[\\operatorname{SST}_{j}\\left(1-R_{j}^{2}\\right)\\right]$$\n",
    "\n",
    "其中，$SST_{j}$是$x_{tj}$的总平方和，$R_{j}^{2}$为由$x_{j}$对所有其他自变量回归得到的$R^{2}$。\n",
    "\n",
    "**$\\sigma^{2}$的无偏估计**\n",
    "\n",
    "在假定TS.1到TS.5下，估计量$\\hat{\\sigma}^{2}=SSR/df$是$\\sigma^{2}$的一个无偏估计量，其中$df=n-k-1$。\n",
    "\n",
    "<br>\n",
    "\n",
    "**时间序列回归的高斯马尔科夫定理**\n",
    "\n",
    "在假定TS.1到TS.5下，以$X$为条件，OLS估计量是最优线性无偏估计量。\n",
    "\n",
    "<br>\n",
    "\n",
    "- 假定TS.6 正态性\n",
    "\n",
    "**正态抽样分布**\n",
    "\n",
    "在时间序列的CLM假定TS.1到TS.6下，以$X$为条件，OLS估计量遵循正态分布。而且，在原假设下，单个$t$统计量服从$t$分布，$F$统计量服从$F$分布，通常构造的置信区间也是有效的。"
   ]
  },
  {
   "cell_type": "code",
   "execution_count": 6,
   "id": "wired-johnson",
   "metadata": {},
   "outputs": [
    {
     "name": "stdout",
     "output_type": "stream",
     "text": [
      "\n",
      "\n",
      "\n",
      "      Source |       SS           df       MS      Number of obs   =        49\n",
      "-------------+----------------------------------   F(1, 47)        =      2.62\n",
      "       Model |  25.6369575         1  25.6369575   Prob > F        =    0.1125\n",
      "    Residual |   460.61979        47  9.80042107   R-squared       =    0.0527\n",
      "-------------+----------------------------------   Adj R-squared   =    0.0326\n",
      "       Total |  486.256748        48  10.1303489   Root MSE        =    3.1306\n",
      "\n",
      "------------------------------------------------------------------------------\n",
      "         inf |      Coef.   Std. Err.      t    P>|t|     [95% Conf. Interval]\n",
      "-------------+----------------------------------------------------------------\n",
      "        unem |   .4676257   .2891262     1.62   0.112    -.1140213    1.049273\n",
      "       _cons |    1.42361   1.719015     0.83   0.412    -2.034602    4.881822\n",
      "------------------------------------------------------------------------------\n"
     ]
    }
   ],
   "source": [
    "use http://fmwww.bc.edu/ec-p/data/wooldridge/phillips, clear\n",
    "\n",
    "reg inf unem"
   ]
  },
  {
   "cell_type": "markdown",
   "id": "unexpected-pricing",
   "metadata": {},
   "source": [
    "## 函数形式、虚拟变量和指数"
   ]
  },
  {
   "cell_type": "code",
   "execution_count": 7,
   "id": "short-vietnam",
   "metadata": {},
   "outputs": [
    {
     "name": "stdout",
     "output_type": "stream",
     "text": [
      "\n",
      "\n",
      "\n",
      "      Source |       SS           df       MS      Number of obs   =        72\n",
      "-------------+----------------------------------   F(3, 68)        =     20.38\n",
      "       Model |  13183.6215         3  4394.54049   Prob > F        =    0.0000\n",
      "    Residual |  14664.2739        68  215.651087   R-squared       =    0.4734\n",
      "-------------+----------------------------------   Adj R-squared   =    0.4502\n",
      "       Total |  27847.8954        71  392.223879   Root MSE        =    14.685\n",
      "\n",
      "------------------------------------------------------------------------------\n",
      "         gfr |      Coef.   Std. Err.      t    P>|t|     [95% Conf. Interval]\n",
      "-------------+----------------------------------------------------------------\n",
      "          pe |     .08254   .0296462     2.78   0.007     .0233819    .1416981\n",
      "         ww2 |   -24.2384   7.458253    -3.25   0.002    -39.12111   -9.355684\n",
      "        pill |  -31.59403   4.081068    -7.74   0.000    -39.73768   -23.45039\n",
      "       _cons |   98.68176   3.208129    30.76   0.000     92.28003    105.0835\n",
      "------------------------------------------------------------------------------\n"
     ]
    }
   ],
   "source": [
    "use http://fmwww.bc.edu/ec-p/data/wooldridge/fertil3, clear\n",
    "\n",
    "reg gfr pe ww2 pill"
   ]
  },
  {
   "cell_type": "code",
   "execution_count": 8,
   "id": "enormous-prerequisite",
   "metadata": {},
   "outputs": [
    {
     "name": "stdout",
     "output_type": "stream",
     "text": [
      "\n",
      "\n",
      "      Source |       SS           df       MS      Number of obs   =        70\n",
      "-------------+----------------------------------   F(5, 64)        =     12.73\n",
      "       Model |  12959.7886         5  2591.95772   Prob > F        =    0.0000\n",
      "    Residual |  13032.6443        64  203.635067   R-squared       =    0.4986\n",
      "-------------+----------------------------------   Adj R-squared   =    0.4594\n",
      "       Total |  25992.4329        69  376.701926   Root MSE        =     14.27\n",
      "\n",
      "------------------------------------------------------------------------------\n",
      "         gfr |      Coef.   Std. Err.      t    P>|t|     [95% Conf. Interval]\n",
      "-------------+----------------------------------------------------------------\n",
      "          pe |   .0726718   .1255331     0.58   0.565    -.1781094     .323453\n",
      "         ww2 |   -22.1265   10.73197    -2.06   0.043    -43.56608   -.6869196\n",
      "        pill |  -31.30499   3.981559    -7.86   0.000    -39.25907   -23.35091\n",
      "        pe_1 |  -.0057796   .1556629    -0.04   0.970     -.316752    .3051929\n",
      "        pe_2 |   .0338268   .1262574     0.27   0.790    -.2184013     .286055\n",
      "       _cons |    95.8705   3.281957    29.21   0.000     89.31403     102.427\n",
      "------------------------------------------------------------------------------\n",
      "\n",
      "\n",
      " ( 1)  pe_1 = 0\n",
      " ( 2)  pe_2 = 0\n",
      "\n",
      "       F(  2,    64) =    0.05\n",
      "            Prob > F =    0.9480\n"
     ]
    }
   ],
   "source": [
    "reg gfr pe ww2 pill pe_1 pe_2\n",
    "\n",
    "test pe_1 pe_2"
   ]
  },
  {
   "cell_type": "code",
   "execution_count": 9,
   "id": "substantial-wholesale",
   "metadata": {},
   "outputs": [
    {
     "name": "stdout",
     "output_type": "stream",
     "text": [
      ".10071909\n"
     ]
    }
   ],
   "source": [
    "display _b[pe]+_b[pe_1]+_b[pe_2]"
   ]
  },
  {
   "cell_type": "markdown",
   "id": "possible-detroit",
   "metadata": {
    "tags": []
   },
   "source": [
    "- 事件研究（Event Study）\n",
    "\n",
    "$$\n",
    "R_{t}^{f}=\\beta_{0}+\\beta_{1} R_{t}^{m}+\\beta_{2} d_{t}+u_{t}\n",
    "$$\n",
    "\n",
    "<br>\n",
    "\n",
    "- 指数，例如工业生产指数（IIP）和消费者价格指数（CPI）\n",
    "\n",
    "对于CPI，如果$w$代表以名义美元度量的工资率，由于$p=\\mathrm{CPI} / 100$，那么真实工资率就是$w / p$。\n",
    "\n",
    "- 真实值变量和自然对数结合使用\n",
    "\n",
    "$$\n",
    "\\log (\\text { hours })=\\beta_{0}+\\beta_{1} \\log (w / p)+u\n",
    "$$\n",
    "\n",
    "上式可以写为\n",
    "\n",
    "$$\n",
    "\\log (\\text { hours })=\\beta_{0}+\\beta_{1} \\log (w)+\\beta_{2} \\log (p)+u\n",
    "$$\n",
    "\n",
    "这里可以检验约束$\\beta_{2}=-\\beta_{1}$，若成立表示只有真实工资才影响劳动供给。"
   ]
  },
  {
   "cell_type": "markdown",
   "id": "wired-criticism",
   "metadata": {},
   "source": [
    "## 趋势和季节性"
   ]
  },
  {
   "cell_type": "markdown",
   "id": "ambient-camera",
   "metadata": {},
   "source": [
    "### 描述有趋势的时间序列\n",
    "\n",
    "- 线性时间趋势\n",
    "\n",
    "$$\n",
    "y_{t}=\\alpha_{0}+\\alpha_{1} t+e_{t}, t=1,2, \\ldots\n",
    "$$\n",
    "\n",
    "其中$\\left\\{e_{t}\\right\\}$是独立同分布（iid）序列，且$\\mathrm{E}\\left(e_{t}\\right)=0$和$\\operatorname{Var}\\left(e_{t}\\right)=\\sigma_{e}^{2}$。\n",
    "\n",
    "- 指数趋势\n",
    "\n",
    "$$\n",
    "\\log \\left(y_{t}\\right)=\\beta_{0}+\\beta_{1} t+e_{t}, t=1,2, \\ldots\n",
    "$$"
   ]
  },
  {
   "cell_type": "markdown",
   "id": "affected-scanner",
   "metadata": {},
   "source": [
    "### 在回归分析中使用趋势变量\n",
    "\n",
    "- 伪回归问题"
   ]
  },
  {
   "cell_type": "code",
   "execution_count": 10,
   "id": "historic-controversy",
   "metadata": {},
   "outputs": [
    {
     "name": "stdout",
     "output_type": "stream",
     "text": [
      "\n",
      "\n",
      "\n",
      "      Source |       SS           df       MS      Number of obs   =        42\n",
      "-------------+----------------------------------   F(1, 40)        =     10.53\n",
      "       Model |  .254364572         1  .254364572   Prob > F        =    0.0024\n",
      "    Residual |  .966255373        40  .024156384   R-squared       =    0.2084\n",
      "-------------+----------------------------------   Adj R-squared   =    0.1886\n",
      "       Total |  1.22061994        41  .029771218   Root MSE        =    .15542\n",
      "\n",
      "------------------------------------------------------------------------------\n",
      "      linvpc |      Coef.   Std. Err.      t    P>|t|     [95% Conf. Interval]\n",
      "-------------+----------------------------------------------------------------\n",
      "      lprice |   1.240944   .3824192     3.24   0.002     .4680455    2.013842\n",
      "       _cons |  -.5502345   .0430266   -12.79   0.000    -.6371945   -.4632745\n",
      "------------------------------------------------------------------------------\n"
     ]
    }
   ],
   "source": [
    "use http://fmwww.bc.edu/ec-p/data/wooldridge/hseinv, clear\n",
    "\n",
    "reg linvpc lprice"
   ]
  },
  {
   "cell_type": "code",
   "execution_count": 11,
   "id": "engaging-wrist",
   "metadata": {},
   "outputs": [
    {
     "name": "stdout",
     "output_type": "stream",
     "text": [
      "\n",
      "      Source |       SS           df       MS      Number of obs   =        42\n",
      "-------------+----------------------------------   F(2, 39)        =     10.08\n",
      "       Model |  .415945135         2  .207972568   Prob > F        =    0.0003\n",
      "    Residual |  .804674809        39  .020632687   R-squared       =    0.3408\n",
      "-------------+----------------------------------   Adj R-squared   =    0.3070\n",
      "       Total |  1.22061994        41  .029771218   Root MSE        =    .14364\n",
      "\n",
      "------------------------------------------------------------------------------\n",
      "      linvpc |      Coef.   Std. Err.      t    P>|t|     [95% Conf. Interval]\n",
      "-------------+----------------------------------------------------------------\n",
      "      lprice |  -.3809609   .6788352    -0.56   0.578    -1.754035     .992113\n",
      "           t |   .0098287   .0035122     2.80   0.008     .0027246    .0169328\n",
      "       _cons |  -.9130595   .1356134    -6.73   0.000    -1.187363   -.6387556\n",
      "------------------------------------------------------------------------------\n"
     ]
    }
   ],
   "source": [
    "reg linvpc lprice t"
   ]
  },
  {
   "cell_type": "code",
   "execution_count": 15,
   "id": "duplicate-bacteria",
   "metadata": {},
   "outputs": [
    {
     "name": "stdout",
     "output_type": "stream",
     "text": [
      "\n",
      "\n",
      "        time variable:  year, 1913 to 1984\n",
      "                delta:  1 unit\n"
     ]
    },
    {
     "data": {
      "application/pdf": "[encoded data removed]",
      "image/svg+xml": [
       "<?xml version=\"1.0\" encoding=\"UTF-8\" standalone=\"no\"?>\n",
       "<!-- This is a Stata 16.0 generated SVG file (http://www.stata.com) -->\n",
       "\n",
       "<svg version=\"1.1\" width=\"600px\" height=\"436px\" viewBox=\"0 0 3960 2880\" xmlns=\"http://www.w3.org/2000/svg\" xmlns:xlink=\"http://www.w3.org/1999/xlink\">\n",
       "\t<desc>Stata Graph - Graph</desc>\n",
       "\t<rect x=\"0\" y=\"0\" width=\"3960\" height=\"2880\" style=\"fill:#EAF2F3;stroke:none\"/>\n",
       "\t<rect x=\"0.00\" y=\"0.00\" width=\"3959.88\" height=\"2880.00\" style=\"fill:#EAF2F3\"/>\n",
       "\t<rect x=\"2.88\" y=\"2.88\" width=\"3954.12\" height=\"2874.24\" style=\"fill:none;stroke:#EAF2F3;stroke-width:5.76\"/>\n",
       "\t<rect x=\"390.80\" y=\"100.86\" width=\"3468.22\" height=\"2388.33\" style=\"fill:#FFFFFF\"/>\n",
       "\t<rect x=\"393.68\" y=\"103.74\" width=\"3462.46\" height=\"2382.57\" style=\"fill:none;stroke:#FFFFFF;stroke-width:5.76\"/>\n",
       "\t<line x1=\"390.80\" y1=\"2425.82\" x2=\"3859.02\" y2=\"2425.82\" style=\"stroke:#EAF2F3;stroke-width:8.64\"/>\n",
       "\t<line x1=\"390.80\" y1=\"1860.39\" x2=\"3859.02\" y2=\"1860.39\" style=\"stroke:#EAF2F3;stroke-width:8.64\"/>\n",
       "\t<line x1=\"390.80\" y1=\"1294.96\" x2=\"3859.02\" y2=\"1294.96\" style=\"stroke:#EAF2F3;stroke-width:8.64\"/>\n",
       "\t<line x1=\"390.80\" y1=\"729.53\" x2=\"3859.02\" y2=\"729.53\" style=\"stroke:#EAF2F3;stroke-width:8.64\"/>\n",
       "\t<path d=\" M454.04 596.74 L501.19 543.03 L548.21 588.33 L595.24 633.50 L642.39 701.31 L689.41 735.35 L736.44 978.40 L783.59 789.05 L830.61 735.35 L877.63 978.40 L924.78 998.20 L971.81 986.94 L1018.83 1108.46 L1065.86 1221.57 L1113.01 1300.78 L1160.03 1470.32 L1207.06 1600.39 L1254.21 1600.39 L1301.23 1730.45 L1348.26 1812.38 L1395.40 1965.09 L1442.43 1902.84 L1489.45 1939.59 L1536.60 1979.20 L1583.63 1942.44 L1630.65 1885.89 L1677.80 1928.33 L1724.83 1863.36 L1771.85 1764.36 L1819.00 1535.41 L1866.03 1456.21 L1913.05 1623.03 L1960.20 1693.70 L2007.22 1241.38 L2054.25 919.12 L2101.28 1088.66 L2148.42 1094.36 L2195.45 1119.72 L2242.47 969.98 L2289.62 902.04 L2336.65 865.29 L2383.67 783.36 L2430.82 772.10 L2477.85 695.74 L2524.87 647.60 L2572.02 723.96 L2619.05 763.56 L2666.07 786.21 L2713.22 808.86 L2760.24 950.18 L2807.27 1054.75 L2854.42 1153.76 L2901.44 1391.24 L2948.47 1540.98 L2995.62 1645.68 L3042.64 1699.39 L3089.67 1676.74 L3136.82 1637.14 L3183.84 1809.65 L3230.86 2047.14 L3277.89 2165.82 L3325.04 2188.46 L3372.06 2256.28 L3419.09 2261.97 L3466.24 2233.63 L3513.26 2270.39 L3560.29 2222.37 L3607.44 2188.46 L3654.46 2216.68 L3701.49 2219.53 L3748.64 2261.97 L3795.66 2273.23\" stroke-linejoin=\"round\" style=\"fill:none;stroke:#1A476F;stroke-width:8.64\"/>\n",
       "\t<line x1=\"390.80\" y1=\"2489.19\" x2=\"390.80\" y2=\"100.86\" style=\"stroke:#000000;stroke-width:5.76\"/>\n",
       "\t<line x1=\"390.80\" y1=\"2425.82\" x2=\"350.83\" y2=\"2425.82\" style=\"stroke:#000000;stroke-width:5.76\"/>\n",
       "\t<text x=\"300.72\" y=\"2425.82\" style=\"font-family:'Helvetica';font-size:99.99px;fill:#000000\" transform=\"rotate(-90 300.72,2425.82)\" text-anchor=\"middle\">60</text>\n",
       "\t<line x1=\"390.80\" y1=\"1860.39\" x2=\"350.83\" y2=\"1860.39\" style=\"stroke:#000000;stroke-width:5.76\"/>\n",
       "\t<text x=\"300.72\" y=\"1860.39\" style=\"font-family:'Helvetica';font-size:99.99px;fill:#000000\" transform=\"rotate(-90 300.72,1860.39)\" text-anchor=\"middle\">80</text>\n",
       "\t<line x1=\"390.80\" y1=\"1294.96\" x2=\"350.83\" y2=\"1294.96\" style=\"stroke:#000000;stroke-width:5.76\"/>\n",
       "\t<text x=\"300.72\" y=\"1294.96\" style=\"font-family:'Helvetica';font-size:99.99px;fill:#000000\" transform=\"rotate(-90 300.72,1294.96)\" text-anchor=\"middle\">100</text>\n",
       "\t<line x1=\"390.80\" y1=\"729.53\" x2=\"350.83\" y2=\"729.53\" style=\"stroke:#000000;stroke-width:5.76\"/>\n",
       "\t<text x=\"300.72\" y=\"729.53\" style=\"font-family:'Helvetica';font-size:99.99px;fill:#000000\" transform=\"rotate(-90 300.72,729.53)\" text-anchor=\"middle\">120</text>\n",
       "\t<line x1=\"390.80\" y1=\"164.22\" x2=\"350.83\" y2=\"164.22\" style=\"stroke:#000000;stroke-width:5.76\"/>\n",
       "\t<text x=\"300.72\" y=\"164.22\" style=\"font-family:'Helvetica';font-size:99.99px;fill:#000000\" transform=\"rotate(-90 300.72,164.22)\" text-anchor=\"middle\">140</text>\n",
       "\t<text x=\"190.71\" y=\"1294.96\" style=\"font-family:'Helvetica';font-size:99.99px;fill:#000000\" transform=\"rotate(-90 190.71,1294.96)\" text-anchor=\"middle\">gfr</text>\n",
       "\t<line x1=\"390.80\" y1=\"2489.19\" x2=\"3859.02\" y2=\"2489.19\" style=\"stroke:#000000;stroke-width:5.76\"/>\n",
       "\t<line x1=\"783.59\" y1=\"2489.19\" x2=\"783.59\" y2=\"2529.16\" style=\"stroke:#000000;stroke-width:5.76\"/>\n",
       "\t<text x=\"783.59\" y=\"2619.14\" style=\"font-family:'Helvetica';font-size:99.99px;fill:#000000\" text-anchor=\"middle\">1920</text>\n",
       "\t<line x1=\"1724.83\" y1=\"2489.19\" x2=\"1724.83\" y2=\"2529.16\" style=\"stroke:#000000;stroke-width:5.76\"/>\n",
       "\t<text x=\"1724.83\" y=\"2619.14\" style=\"font-family:'Helvetica';font-size:99.99px;fill:#000000\" text-anchor=\"middle\">1940</text>\n",
       "\t<line x1=\"2666.19\" y1=\"2489.19\" x2=\"2666.19\" y2=\"2529.16\" style=\"stroke:#000000;stroke-width:5.76\"/>\n",
       "\t<text x=\"2666.19\" y=\"2619.14\" style=\"font-family:'Helvetica';font-size:99.99px;fill:#000000\" text-anchor=\"middle\">1960</text>\n",
       "\t<line x1=\"3607.44\" y1=\"2489.19\" x2=\"3607.44\" y2=\"2529.16\" style=\"stroke:#000000;stroke-width:5.76\"/>\n",
       "\t<text x=\"3607.44\" y=\"2619.14\" style=\"font-family:'Helvetica';font-size:99.99px;fill:#000000\" text-anchor=\"middle\">1980</text>\n",
       "\t<text x=\"2124.91\" y=\"2729.16\" style=\"font-family:'Helvetica';font-size:99.99px;fill:#000000\" text-anchor=\"middle\">year</text>\n",
       "</svg>\n"
      ],
      "text/html": [
       "                <iframe frameborder=\"0\" scrolling=\"no\" height=\"436\" width=\"600\"                srcdoc=\"<html><body>&lt;?xml version=&quot;1.0&quot; encoding=&quot;UTF-8&quot; standalone=&quot;no&quot;?&gt;\n",
       "&lt;!-- This is a Stata 16.0 generated SVG file (http://www.stata.com) --&gt;\n",
       "\n",
       "&lt;svg version=&quot;1.1&quot; width=&quot;600px&quot; height=&quot;436px&quot; viewBox=&quot;0 0 3960 2880&quot; xmlns=&quot;http://www.w3.org/2000/svg&quot; xmlns:xlink=&quot;http://www.w3.org/1999/xlink&quot;&gt;\n",
       "\t&lt;desc&gt;Stata Graph - Graph&lt;/desc&gt;\n",
       "\t&lt;rect x=&quot;0&quot; y=&quot;0&quot; width=&quot;3960&quot; height=&quot;2880&quot; style=&quot;fill:#EAF2F3;stroke:none&quot;/&gt;\n",
       "\t&lt;rect x=&quot;0.00&quot; y=&quot;0.00&quot; width=&quot;3959.88&quot; height=&quot;2880.00&quot; style=&quot;fill:#EAF2F3&quot;/&gt;\n",
       "\t&lt;rect x=&quot;2.88&quot; y=&quot;2.88&quot; width=&quot;3954.12&quot; height=&quot;2874.24&quot; style=&quot;fill:none;stroke:#EAF2F3;stroke-width:5.76&quot;/&gt;\n",
       "\t&lt;rect x=&quot;390.80&quot; y=&quot;100.86&quot; width=&quot;3468.22&quot; height=&quot;2388.33&quot; style=&quot;fill:#FFFFFF&quot;/&gt;\n",
       "\t&lt;rect x=&quot;393.68&quot; y=&quot;103.74&quot; width=&quot;3462.46&quot; height=&quot;2382.57&quot; style=&quot;fill:none;stroke:#FFFFFF;stroke-width:5.76&quot;/&gt;\n",
       "\t&lt;line x1=&quot;390.80&quot; y1=&quot;2425.82&quot; x2=&quot;3859.02&quot; y2=&quot;2425.82&quot; style=&quot;stroke:#EAF2F3;stroke-width:8.64&quot;/&gt;\n",
       "\t&lt;line x1=&quot;390.80&quot; y1=&quot;1860.39&quot; x2=&quot;3859.02&quot; y2=&quot;1860.39&quot; style=&quot;stroke:#EAF2F3;stroke-width:8.64&quot;/&gt;\n",
       "\t&lt;line x1=&quot;390.80&quot; y1=&quot;1294.96&quot; x2=&quot;3859.02&quot; y2=&quot;1294.96&quot; style=&quot;stroke:#EAF2F3;stroke-width:8.64&quot;/&gt;\n",
       "\t&lt;line x1=&quot;390.80&quot; y1=&quot;729.53&quot; x2=&quot;3859.02&quot; y2=&quot;729.53&quot; style=&quot;stroke:#EAF2F3;stroke-width:8.64&quot;/&gt;\n",
       "\t&lt;path d=&quot; M454.04 596.74 L501.19 543.03 L548.21 588.33 L595.24 633.50 L642.39 701.31 L689.41 735.35 L736.44 978.40 L783.59 789.05 L830.61 735.35 L877.63 978.40 L924.78 998.20 L971.81 986.94 L1018.83 1108.46 L1065.86 1221.57 L1113.01 1300.78 L1160.03 1470.32 L1207.06 1600.39 L1254.21 1600.39 L1301.23 1730.45 L1348.26 1812.38 L1395.40 1965.09 L1442.43 1902.84 L1489.45 1939.59 L1536.60 1979.20 L1583.63 1942.44 L1630.65 1885.89 L1677.80 1928.33 L1724.83 1863.36 L1771.85 1764.36 L1819.00 1535.41 L1866.03 1456.21 L1913.05 1623.03 L1960.20 1693.70 L2007.22 1241.38 L2054.25 919.12 L2101.28 1088.66 L2148.42 1094.36 L2195.45 1119.72 L2242.47 969.98 L2289.62 902.04 L2336.65 865.29 L2383.67 783.36 L2430.82 772.10 L2477.85 695.74 L2524.87 647.60 L2572.02 723.96 L2619.05 763.56 L2666.07 786.21 L2713.22 808.86 L2760.24 950.18 L2807.27 1054.75 L2854.42 1153.76 L2901.44 1391.24 L2948.47 1540.98 L2995.62 1645.68 L3042.64 1699.39 L3089.67 1676.74 L3136.82 1637.14 L3183.84 1809.65 L3230.86 2047.14 L3277.89 2165.82 L3325.04 2188.46 L3372.06 2256.28 L3419.09 2261.97 L3466.24 2233.63 L3513.26 2270.39 L3560.29 2222.37 L3607.44 2188.46 L3654.46 2216.68 L3701.49 2219.53 L3748.64 2261.97 L3795.66 2273.23&quot; stroke-linejoin=&quot;round&quot; style=&quot;fill:none;stroke:#1A476F;stroke-width:8.64&quot;/&gt;\n",
       "\t&lt;line x1=&quot;390.80&quot; y1=&quot;2489.19&quot; x2=&quot;390.80&quot; y2=&quot;100.86&quot; style=&quot;stroke:#000000;stroke-width:5.76&quot;/&gt;\n",
       "\t&lt;line x1=&quot;390.80&quot; y1=&quot;2425.82&quot; x2=&quot;350.83&quot; y2=&quot;2425.82&quot; style=&quot;stroke:#000000;stroke-width:5.76&quot;/&gt;\n",
       "\t&lt;text x=&quot;300.72&quot; y=&quot;2425.82&quot; style=&quot;font-family:&#x27;Helvetica&#x27;;font-size:99.99px;fill:#000000&quot; transform=&quot;rotate(-90 300.72,2425.82)&quot; text-anchor=&quot;middle&quot;&gt;60&lt;/text&gt;\n",
       "\t&lt;line x1=&quot;390.80&quot; y1=&quot;1860.39&quot; x2=&quot;350.83&quot; y2=&quot;1860.39&quot; style=&quot;stroke:#000000;stroke-width:5.76&quot;/&gt;\n",
       "\t&lt;text x=&quot;300.72&quot; y=&quot;1860.39&quot; style=&quot;font-family:&#x27;Helvetica&#x27;;font-size:99.99px;fill:#000000&quot; transform=&quot;rotate(-90 300.72,1860.39)&quot; text-anchor=&quot;middle&quot;&gt;80&lt;/text&gt;\n",
       "\t&lt;line x1=&quot;390.80&quot; y1=&quot;1294.96&quot; x2=&quot;350.83&quot; y2=&quot;1294.96&quot; style=&quot;stroke:#000000;stroke-width:5.76&quot;/&gt;\n",
       "\t&lt;text x=&quot;300.72&quot; y=&quot;1294.96&quot; style=&quot;font-family:&#x27;Helvetica&#x27;;font-size:99.99px;fill:#000000&quot; transform=&quot;rotate(-90 300.72,1294.96)&quot; text-anchor=&quot;middle&quot;&gt;100&lt;/text&gt;\n",
       "\t&lt;line x1=&quot;390.80&quot; y1=&quot;729.53&quot; x2=&quot;350.83&quot; y2=&quot;729.53&quot; style=&quot;stroke:#000000;stroke-width:5.76&quot;/&gt;\n",
       "\t&lt;text x=&quot;300.72&quot; y=&quot;729.53&quot; style=&quot;font-family:&#x27;Helvetica&#x27;;font-size:99.99px;fill:#000000&quot; transform=&quot;rotate(-90 300.72,729.53)&quot; text-anchor=&quot;middle&quot;&gt;120&lt;/text&gt;\n",
       "\t&lt;line x1=&quot;390.80&quot; y1=&quot;164.22&quot; x2=&quot;350.83&quot; y2=&quot;164.22&quot; style=&quot;stroke:#000000;stroke-width:5.76&quot;/&gt;\n",
       "\t&lt;text x=&quot;300.72&quot; y=&quot;164.22&quot; style=&quot;font-family:&#x27;Helvetica&#x27;;font-size:99.99px;fill:#000000&quot; transform=&quot;rotate(-90 300.72,164.22)&quot; text-anchor=&quot;middle&quot;&gt;140&lt;/text&gt;\n",
       "\t&lt;text x=&quot;190.71&quot; y=&quot;1294.96&quot; style=&quot;font-family:&#x27;Helvetica&#x27;;font-size:99.99px;fill:#000000&quot; transform=&quot;rotate(-90 190.71,1294.96)&quot; text-anchor=&quot;middle&quot;&gt;gfr&lt;/text&gt;\n",
       "\t&lt;line x1=&quot;390.80&quot; y1=&quot;2489.19&quot; x2=&quot;3859.02&quot; y2=&quot;2489.19&quot; style=&quot;stroke:#000000;stroke-width:5.76&quot;/&gt;\n",
       "\t&lt;line x1=&quot;783.59&quot; y1=&quot;2489.19&quot; x2=&quot;783.59&quot; y2=&quot;2529.16&quot; style=&quot;stroke:#000000;stroke-width:5.76&quot;/&gt;\n",
       "\t&lt;text x=&quot;783.59&quot; y=&quot;2619.14&quot; style=&quot;font-family:&#x27;Helvetica&#x27;;font-size:99.99px;fill:#000000&quot; text-anchor=&quot;middle&quot;&gt;1920&lt;/text&gt;\n",
       "\t&lt;line x1=&quot;1724.83&quot; y1=&quot;2489.19&quot; x2=&quot;1724.83&quot; y2=&quot;2529.16&quot; style=&quot;stroke:#000000;stroke-width:5.76&quot;/&gt;\n",
       "\t&lt;text x=&quot;1724.83&quot; y=&quot;2619.14&quot; style=&quot;font-family:&#x27;Helvetica&#x27;;font-size:99.99px;fill:#000000&quot; text-anchor=&quot;middle&quot;&gt;1940&lt;/text&gt;\n",
       "\t&lt;line x1=&quot;2666.19&quot; y1=&quot;2489.19&quot; x2=&quot;2666.19&quot; y2=&quot;2529.16&quot; style=&quot;stroke:#000000;stroke-width:5.76&quot;/&gt;\n",
       "\t&lt;text x=&quot;2666.19&quot; y=&quot;2619.14&quot; style=&quot;font-family:&#x27;Helvetica&#x27;;font-size:99.99px;fill:#000000&quot; text-anchor=&quot;middle&quot;&gt;1960&lt;/text&gt;\n",
       "\t&lt;line x1=&quot;3607.44&quot; y1=&quot;2489.19&quot; x2=&quot;3607.44&quot; y2=&quot;2529.16&quot; style=&quot;stroke:#000000;stroke-width:5.76&quot;/&gt;\n",
       "\t&lt;text x=&quot;3607.44&quot; y=&quot;2619.14&quot; style=&quot;font-family:&#x27;Helvetica&#x27;;font-size:99.99px;fill:#000000&quot; text-anchor=&quot;middle&quot;&gt;1980&lt;/text&gt;\n",
       "\t&lt;text x=&quot;2124.91&quot; y=&quot;2729.16&quot; style=&quot;font-family:&#x27;Helvetica&#x27;;font-size:99.99px;fill:#000000&quot; text-anchor=&quot;middle&quot;&gt;year&lt;/text&gt;\n",
       "&lt;/svg&gt;\n",
       "</body></html>\"></iframe>\n"
      ],
      "text/plain": [
       "This front-end cannot display the desired image type."
      ]
     },
     "metadata": {
      "image/svg+xml": {
       "height": 436,
       "width": 600
      },
      "text/html": {
       "height": 436,
       "width": 600
      }
     },
     "output_type": "display_data"
    },
    {
     "name": "stdout",
     "output_type": "stream",
     "text": [
      "\n",
      "\n"
     ]
    }
   ],
   "source": [
    "use http://fmwww.bc.edu/ec-p/data/wooldridge/fertil3, clear\n",
    "\n",
    "tsset year\n",
    "\n",
    "tsline gfr"
   ]
  },
  {
   "cell_type": "code",
   "execution_count": 16,
   "id": "seasonal-nurse",
   "metadata": {},
   "outputs": [
    {
     "name": "stdout",
     "output_type": "stream",
     "text": [
      "\n",
      "      Source |       SS           df       MS      Number of obs   =        72\n",
      "-------------+----------------------------------   F(4, 67)        =     32.84\n",
      "       Model |  18441.2357         4  4610.30894   Prob > F        =    0.0000\n",
      "    Residual |  9406.65967        67  140.397905   R-squared       =    0.6622\n",
      "-------------+----------------------------------   Adj R-squared   =    0.6420\n",
      "       Total |  27847.8954        71  392.223879   Root MSE        =    11.849\n",
      "\n",
      "------------------------------------------------------------------------------\n",
      "         gfr |      Coef.   Std. Err.      t    P>|t|     [95% Conf. Interval]\n",
      "-------------+----------------------------------------------------------------\n",
      "          pe |   .2788778   .0400199     6.97   0.000     .1989978    .3587578\n",
      "         ww2 |  -35.59228   6.297377    -5.65   0.000     -48.1619   -23.02266\n",
      "        pill |   .9974479    6.26163     0.16   0.874    -11.50082    13.49571\n",
      "           t |  -1.149872   .1879038    -6.12   0.000    -1.524929   -.7748145\n",
      "       _cons |   111.7694   3.357765    33.29   0.000     105.0673    118.4716\n",
      "------------------------------------------------------------------------------\n"
     ]
    }
   ],
   "source": [
    "reg gfr pe ww2 pill t"
   ]
  },
  {
   "cell_type": "code",
   "execution_count": 17,
   "id": "fundamental-question",
   "metadata": {},
   "outputs": [
    {
     "name": "stdout",
     "output_type": "stream",
     "text": [
      "\n",
      "      Source |       SS           df       MS      Number of obs   =        72\n",
      "-------------+----------------------------------   F(5, 66)        =     35.09\n",
      "       Model |  20236.3981         5  4047.27961   Prob > F        =    0.0000\n",
      "    Residual |  7611.49734        66  115.325717   R-squared       =    0.7267\n",
      "-------------+----------------------------------   Adj R-squared   =    0.7060\n",
      "       Total |  27847.8954        71  392.223879   Root MSE        =    10.739\n",
      "\n",
      "------------------------------------------------------------------------------\n",
      "         gfr |      Coef.   Std. Err.      t    P>|t|     [95% Conf. Interval]\n",
      "-------------+----------------------------------------------------------------\n",
      "          pe |   .3478126   .0402599     8.64   0.000     .2674311     .428194\n",
      "         ww2 |  -35.88028   5.707921    -6.29   0.000    -47.27651   -24.48404\n",
      "        pill |  -10.11972   6.336094    -1.60   0.115    -22.77014    2.530696\n",
      "           t |  -2.531426   .3893863    -6.50   0.000    -3.308861   -1.753991\n",
      "         tsq |   .0196126    .004971     3.95   0.000     .0096876    .0295377\n",
      "       _cons |   124.0919   4.360738    28.46   0.000     115.3854    132.7984\n",
      "------------------------------------------------------------------------------\n"
     ]
    }
   ],
   "source": [
    "reg gfr pe ww2 pill t tsq"
   ]
  },
  {
   "cell_type": "markdown",
   "id": "christian-content",
   "metadata": {},
   "source": [
    "### 对含时间趋势回归的除趋势解释\n",
    "\n",
    "例如下述拟合方程\n",
    "\n",
    "$$\n",
    "\\hat{y}_{t}=\\hat{\\beta}_{0}+\\hat{\\beta}_{1} x_{t 1}+\\hat{\\beta}_{2} x_{t 2}+\\hat{\\beta}_{3} t\n",
    "$$\n",
    "\n",
    "可以由如下方式的得到估计值\n",
    "\n",
    "（1）将$y_{t}$、$x_{t1}$和$x_{t2}$分别对常数项和时间趋势$t$回归，并记录残差$\\ddot{y}_{t}$、$\\ddot{x}_{t1}$和$\\ddot{x}_{t2}$，例如\n",
    "\n",
    "$$\n",
    "\\ddot{y}_{t}=y_{t}-\\hat{\\alpha}_{0}-\\hat{\\alpha}_{1} t\n",
    "$$\n",
    "\n",
    "（2）做$\\ddot{y}_{t}$对$\\ddot{x}_{t1}$和$\\ddot{x}_{t2}$的回归"
   ]
  },
  {
   "cell_type": "markdown",
   "id": "cardiac-makeup",
   "metadata": {},
   "source": [
    "### 因变量有趋势时拟合优度的计算\n",
    "\n",
    "可以使用\n",
    "\n",
    "$$\n",
    "1-\\frac{\\mathrm{SSR}}{\\sum_{t=1}^{n} \\dot{y}_{t}^{2}}\n",
    "$$"
   ]
  },
  {
   "cell_type": "markdown",
   "id": "regular-examination",
   "metadata": {},
   "source": [
    "### 季节性\n",
    "\n",
    "使用虚拟变量进行季节调整\n",
    "\n",
    "例如\n",
    "\n",
    "$$\n",
    "\\begin{aligned}\n",
    "y_{t}=& \\beta_{0}+\\delta_{1} f e b_{t}+\\delta_{2} m a r_{t}+\\delta_{3} a p r_{t}+\\cdots+\\delta_{11} d e c_{t} \\\\\n",
    "&+\\beta_{1} x_{t 1}+\\cdots+\\beta_{k} x_{t k}+u_{t}\n",
    "\\end{aligned}\n",
    "$$"
   ]
  }
 ],
 "metadata": {
  "kernelspec": {
   "display_name": "Stata",
   "language": "stata",
   "name": "stata"
  },
  "language_info": {
   "codemirror_mode": "stata",
   "file_extension": ".do",
   "mimetype": "text/x-stata",
   "name": "stata",
   "version": "15.1"
  },
  "widgets": {
   "application/vnd.jupyter.widget-state+json": {
    "state": {},
    "version_major": 2,
    "version_minor": 0
   }
  }
 },
 "nbformat": 4,
 "nbformat_minor": 5
}
