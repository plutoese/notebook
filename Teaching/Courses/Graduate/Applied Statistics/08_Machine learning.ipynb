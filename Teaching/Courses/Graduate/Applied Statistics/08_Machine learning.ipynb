{
  "cells": [
    {
      "cell_type": "markdown",
      "source": [
        "# 机器学习与大数据初步"
      ],
      "metadata": {
        "Collapsed": "false"
      }
    },
    {
      "cell_type": "markdown",
      "source": [
        "## 目录\n",
        "\n",
        "- 简介\n",
        "- 决策树\n",
        "- 贝叶斯方法"
      ],
      "metadata": {
        "Collapsed": "false"
      }
    },
    {
      "cell_type": "markdown",
      "source": [
        "## 简介"
      ],
      "metadata": {
        "Collapsed": "false",
        "toc-hr-collapsed": true
      }
    },
    {
      "cell_type": "markdown",
      "source": [
        "### 概念与内涵\n",
        "\n",
        "\n",
        "机器学习是一门多学科交叉专业，涵盖概率论知识，统计学知识，近似理论知识和复杂算法知识，使用计算机作为工具并致力于真实实时的模拟人类学习方式，并将现有内容进行知识结构划分来有效提高学习效率。它是人工智能及模式识别领域的共同研究热点，其理论和方法已被广泛应用于解决工程应用和科学领域的复杂问题。机器学习研究怎样使用计算机模拟或实现人类学习活动，是人工智能中最具智能特征，最前沿的研究领域之一。"
      ],
      "metadata": {
        "Collapsed": "false"
      }
    },
    {
      "cell_type": "markdown",
      "source": [
        "### 机器学习与传统计量经济的研究范式\n",
        "\n",
        "- 传统的计量经济学关注因果关系，强调总结，估计，假设检验。其更加关注结果的无偏性和一致性。而机器学习更加强调预测。\n",
        "\n",
        "- 计量经济学和机器学习的出发点不同，计量需要依赖一定的主观逻辑，尤其强调因果性，而机器能够从庞大的数据集中找到一定规律并去研究，能够更基于数据规律给出预测，也能够发现新规律，帮助人们发现因果性。同时，人工智能技术得不到突破也正是因为机器学习不考虑因果性，无法进行反事实分析，进而无法应对复杂的现实情况。例如，一个个体服用感冒药后症状减轻，但是这本身并不足以说明服药和症状之间的因果性，还需要假设另外一个反事实状态，即如果个体没有服用药物的话，其症状会如何。很明显，如果不吃药，症状依旧减轻，那么我们就会说，吃药并没有对症状有因果效果。\n",
        "\n",
        "- 通过大数据甚至可以发现事物发展潜在的规律，以供经济学家解释，具有一定的 “智能性”，某种程度上超越了经济学研究的因果关系。例如，预测房价的时候，经济学家会是根据住房价格变化的影响因素来进行分析，如房子所在区域位置，周边配套设施，当时政策，当地经济发展水平等等。但谷歌预测房价时，根据住房搜索查询量变化进行预测，结果比不动产经济学家的预测更为准确及时。\n",
        "\n",
        "- 传统的因果关系有时是无法清楚验证的。传统经济学的核心是弄清事物之间的内在联系和作用机制，比如新的商品进入市场，人们会更青睐于新的商品，这样原先的商品的需求就会下降，价格会降低。但从另外一个角度看，价格降低又会导致需求增加，这样，大家知道这点后又会去购买原先的商品，如此下来，购买量增多，原先降低的价格就会又上涨。如此循环往复，价格究竟是涨是跌，需要看各种因素作用的强弱，而传统经济学研究方法难以验证。一个经典的案例是西雅图Decide.com公司，在大数据时代，该公司分析了近400万商品的超过250亿条价格信息，发现新的产品上市时，短期内旧的产品价格是上涨的，过一段时间才逐步回落。采用大数据，既可以知道多少人购买旧产品，也能知道多少人购买新产品，以及旧产品价格变化的规律。"
      ],
      "metadata": {
        "Collapsed": "false"
      }
    },
    {
      "cell_type": "markdown",
      "source": [
        "**归纳主义者火鸡**\n",
        "\n",
        "火鸡来到农村的第一个早晨，主人在早上9点喂它，但作为实实在在的归纳法优越论者，它不想过早下结论：主人每天都9点喂它们。首先它在不同情况下观察了很多天，收集了许多观察数据。主人连续多天都是9点喂它，最终它得出结论，认为主人每天早上9点喂火鸡，那么主人一直会在早上9点给它喂食。接下来是平安夜那天的早晨，主人没有喂它，因为它被宰了。"
      ],
      "metadata": {
        "Collapsed": "false"
      }
    },
    {
      "cell_type": "markdown",
      "source": [
        "**纸尿片与啤酒**\n",
        "\n",
        "沃尔玛一家分店的营销经理对超市的销售数量进行设定跟踪，有一次他发现了一个很奇怪的现象：啤酒与尿不湿的销量在周末总会出现成比例增长。他们立即对这个现象进行了分析和讨论，并且派出专门的人员在卖场内进行全天候的观察。他们发现这些顾客有几个共同的特点：\n",
        "\n",
        "- 一般是周末出现这种情况\n",
        "- 购买者以已婚男士为主\n",
        "- 他们家中有孩子且不到两岁，有尿不湿的刚需\n",
        "- 他们喜欢看体育比赛节目，并且喜欢边喝啤酒边看，顾客有喝啤酒的需求\n",
        "- 周末是体育比赛扎堆的日子，所以出现这种关联销售多在周末的时候\n",
        "\n",
        "这位营销经理从中受到启发，他对超市的物品摆放进行了调整，将卖场内原来相隔很远的妇婴用品区与酒类饮料区的空间距离拉近，减少顾客的行走时间，将啤酒与尿不湿摆放在一起，同时将牛肉干等一些简便的下酒食品也摆放在一起，这样全年下来，营业额增加了几百万美元。"
      ],
      "metadata": {
        "Collapsed": "false"
      }
    },
    {
      "cell_type": "markdown",
      "source": [
        "## 决策树\n",
        "\n",
        "<img src=\"./pic/decision_treedemo.png\" width = 70% height = 70% />\n",
        "\n",
        "案例学习：点击[此处](http://www.r2d3.us/visual-intro-to-machine-learning-part-1/)\n",
        "\n",
        "- 决策树包含一个根结点、若干个内部结点和若干个叶结点\n",
        "- 叶结点对应决策结果，内部结点对应属性测试\n",
        "- 每个结点包含的样本集合根据属性测试的结果被划分到子结点中\n",
        "- 根结点包含样本全集\n",
        "\n",
        "决策树学习的目的是为了产生一棵泛化能力强，即处理未见观测点能力强的决策树，其基本流程遵循简单而直观的“分而治之”策略"
      ],
      "metadata": {
        "Collapsed": "false",
        "toc-hr-collapsed": true
      }
    },
    {
      "cell_type": "markdown",
      "source": [
        "### 如何构建决策树\n",
        "\n",
        "<img src=\"./pic/decision_tree01.png\" width = 60% height = 60% />\n",
        "\n",
        "**分类指标**\n",
        "\n",
        "- 基尼系数 $G = \\sum_{x \\in X} p(x) (1 - p(x) )$\n",
        "\n",
        "- 熵 $H = -\\sum_{x \\in X} p(x) \\log _{2} p(x)$\n",
        "\n",
        "<img src=\"./pic/decision_tree02.png\" width = 60% height = 60% />\n",
        "\n",
        "<img src=\"./pic/decision_tree03.png\" width = 60% height = 60% />"
      ],
      "metadata": {
        "Collapsed": "false"
      }
    },
    {
      "cell_type": "markdown",
      "source": [
        "**信息增益**\n",
        "\n",
        "$$\\operatorname{Gain}(S, A)= Entropy(S) - \\sum_{v \\in V a l u e s(A)} \\frac{\\left|S_{v}\\right|}{|S|} \\operatorname{Entropy}\\left(S_{v}\\right)$$\n",
        "\n",
        "在每个结点，根据信息增益原则选择\n",
        "\n",
        "- 哪个变量（属性）\n",
        "- 变量（属性）的分割值\n",
        "\n",
        "<br>\n",
        "\n",
        "**案例**\n",
        "\n",
        "<img src=\"./pic/decision_tree04.png\" width = 40% height = 40% />\n",
        "\n",
        "因此，分类前\n",
        "\n",
        "$$H(10 / 20,10 / 20)=-10 / 20 \\log (10 / 20)-10 / 20 \\log (10 / 20)=1$$\n",
        "\n",
        "每个类的熵\n",
        "\n",
        "$$H(home) =-6 / 12 \\log (6 / 12)-6 / 12 \\log (6 / 12)=1$$\n",
        "\n",
        "$$H(away)=-4 / 8 \\log (6 / 8)-4 / 8 \\log (4 / 8)=1$$\n",
        "\n",
        "分类后的熵为\n",
        "\n",
        "$$12 / 20^{*} \\mathrm{H}(\\text { home })+8 / 20^{*} \\mathrm{H}(\\text { away })=1$$\n",
        "\n",
        "<br>\n",
        "\n",
        "<img src=\"./pic/decision_tree05.png\" width = 40% height = 40% />\n",
        "\n",
        "每个类的熵\n",
        "\n",
        "$$H(5pm)=-1 / 4 \\log (1 / 4)-3 / 4 \\log (3 / 4)$$\n",
        "\n",
        "$$H(7pm)=-9 / 12 \\log (9 / 12)-3 / 12 \\log (3 / 12)$$\n",
        "\n",
        "$$H(9pm)=-0 / 4 \\log (0 / 4)-4 / 4 \\log (4 / 4)=0$$\n",
        "\n",
        "分类后的熵为\n",
        "\n",
        "$$4 / 20^{*} \\mathrm{H}(1 / 4,3 / 4)+12 / 20^{*} \\mathrm{H}(9 / 12,3 / 12)+4 / 20^{*} \\mathrm{H}(0 / 4,4 / 4)=0.65$$\n",
        "\n",
        "因此信息增益为\n",
        "\n",
        "$$1-0.65=0.35$$\n",
        "\n",
        "所以，毫无疑问应该选择后者。每个节点都选择信息增益最大的属性进行叉裂。"
      ],
      "metadata": {
        "Collapsed": "false"
      }
    },
    {
      "cell_type": "markdown",
      "source": [
        "### 模型评价\n",
        "\n",
        "#### 交叉验证法\n",
        "\n",
        "交叉验证法（cross validation）先将数据集$D$划分为$k$个大小相似的互斥子集，即$D=D_{1} \\cup D_{2} \\cup \\ldots \\cup D_{k}, D_{i} \\cap D_{j}=\\varnothing(i \\neq j)$。每个子集$D_{i}$都尽可能保持数据分布的一致性。然后每次用$k-1$个子集的并集作为训练集，余下的那个子集作为测试集；从而可进行$k$此训练和测试，最终返回的是$k$个测试结果的均值。\n",
        "\n",
        "<img src=\"./pic/decision_tree08.png\" width = 40% height = 40% />\n",
        "\n",
        "<br>\n",
        "\n",
        "#### 错误率、偏差与方差 \n",
        "\n",
        "错误率的类型\n",
        "\n",
        "- 训练错误率\n",
        "- 测试错误率\n",
        "\n",
        "理解偏差与方差\n",
        "\n",
        "<br>\n",
        "\n",
        "#### 树的规模与准确率\n",
        "\n",
        "<img src=\"./pic/decision_tree06.png\" width = 50% height = 50% />\n",
        "\n",
        "<br>\n",
        "\n",
        "#### 过拟合\n",
        "\n",
        "<img src=\"./pic/decision_tree07.png\" width = 60% height = 60% />"
      ],
      "metadata": {
        "Collapsed": "false"
      }
    },
    {
      "cell_type": "code",
      "source": [
        "# Example: to tell a person good or bad\n",
        "# Reference：https://www.guru99.com/r-decision-trees.html\n",
        "\n",
        "# import library\n",
        "library(rio)\n",
        "library(tidyverse)\n",
        "library(rpart)\n",
        "library(rpart.plot)\n",
        "\n",
        "# import data\n",
        "setwd(getwd())\n",
        "train_data <- import(\"./data/hero_train.csv\")\n",
        "train_data"
      ],
      "outputs": [
        {
          "output_type": "display_data",
          "data": {
            "text/html": [
              "<table>\n",
              "<caption>A data.frame: 6 × 8</caption>\n",
              "<thead>\n",
              "\t<tr><th scope=col>name</th><th scope=col>sex</th><th scope=col>mask</th><th scope=col>cape</th><th scope=col>tie</th><th scope=col>ears</th><th scope=col>smokes</th><th scope=col>class</th></tr>\n",
              "\t<tr><th scope=col>&lt;chr&gt;</th><th scope=col>&lt;chr&gt;</th><th scope=col>&lt;chr&gt;</th><th scope=col>&lt;chr&gt;</th><th scope=col>&lt;chr&gt;</th><th scope=col>&lt;chr&gt;</th><th scope=col>&lt;chr&gt;</th><th scope=col>&lt;chr&gt;</th></tr>\n",
              "</thead>\n",
              "<tbody>\n",
              "\t<tr><td>batman  </td><td>Male  </td><td>Yes</td><td>Yes</td><td>No </td><td>Yes</td><td>No </td><td>Good</td></tr>\n",
              "\t<tr><td>robin   </td><td>Male  </td><td>Yes</td><td>Yes</td><td>No </td><td>No </td><td>No </td><td>Good</td></tr>\n",
              "\t<tr><td>alfred  </td><td>Male  </td><td>No </td><td>No </td><td>Yes</td><td>No </td><td>No </td><td>Good</td></tr>\n",
              "\t<tr><td>penguin </td><td>Male  </td><td>No </td><td>No </td><td>Yes</td><td>No </td><td>Yes</td><td>Bad </td></tr>\n",
              "\t<tr><td>catwoman</td><td>Female</td><td>Yes</td><td>No </td><td>No </td><td>Yes</td><td>No </td><td>Bad </td></tr>\n",
              "\t<tr><td>joker   </td><td>Male  </td><td>No </td><td>No </td><td>No </td><td>No </td><td>No </td><td>Bad </td></tr>\n",
              "</tbody>\n",
              "</table>\n"
            ],
            "text/latex": [
              "A data.frame: 6 × 8\n",
              "\\begin{tabular}{r|llllllll}\n",
              " name & sex & mask & cape & tie & ears & smokes & class\\\\\n",
              " <chr> & <chr> & <chr> & <chr> & <chr> & <chr> & <chr> & <chr>\\\\\n",
              "\\hline\n",
              "\t batman   & Male   & Yes & Yes & No  & Yes & No  & Good\\\\\n",
              "\t robin    & Male   & Yes & Yes & No  & No  & No  & Good\\\\\n",
              "\t alfred   & Male   & No  & No  & Yes & No  & No  & Good\\\\\n",
              "\t penguin  & Male   & No  & No  & Yes & No  & Yes & Bad \\\\\n",
              "\t catwoman & Female & Yes & No  & No  & Yes & No  & Bad \\\\\n",
              "\t joker    & Male   & No  & No  & No  & No  & No  & Bad \\\\\n",
              "\\end{tabular}\n"
            ],
            "text/markdown": [
              "\n",
              "A data.frame: 6 × 8\n",
              "\n",
              "| name &lt;chr&gt; | sex &lt;chr&gt; | mask &lt;chr&gt; | cape &lt;chr&gt; | tie &lt;chr&gt; | ears &lt;chr&gt; | smokes &lt;chr&gt; | class &lt;chr&gt; |\n",
              "|---|---|---|---|---|---|---|---|\n",
              "| batman   | Male   | Yes | Yes | No  | Yes | No  | Good |\n",
              "| robin    | Male   | Yes | Yes | No  | No  | No  | Good |\n",
              "| alfred   | Male   | No  | No  | Yes | No  | No  | Good |\n",
              "| penguin  | Male   | No  | No  | Yes | No  | Yes | Bad  |\n",
              "| catwoman | Female | Yes | No  | No  | Yes | No  | Bad  |\n",
              "| joker    | Male   | No  | No  | No  | No  | No  | Bad  |\n",
              "\n"
            ],
            "text/plain": [
              "  name     sex    mask cape tie ears smokes class\n",
              "1 batman   Male   Yes  Yes  No  Yes  No     Good \n",
              "2 robin    Male   Yes  Yes  No  No   No     Good \n",
              "3 alfred   Male   No   No   Yes No   No     Good \n",
              "4 penguin  Male   No   No   Yes No   Yes    Bad  \n",
              "5 catwoman Female Yes  No   No  Yes  No     Bad  \n",
              "6 joker    Male   No   No   No  No   No     Bad  "
            ]
          },
          "metadata": {}
        }
      ],
      "execution_count": 32,
      "metadata": {
        "Collapsed": "false"
      }
    },
    {
      "cell_type": "code",
      "source": [
        "# data clean\n",
        "for (colname in colnames(train_data)){\n",
        "    train_data[colname] <- factor(train_data[[colname]])\n",
        "}\n",
        "train_data"
      ],
      "outputs": [
        {
          "output_type": "display_data",
          "data": {
            "text/html": [
              "<table>\n",
              "<caption>A data.frame: 6 × 8</caption>\n",
              "<thead>\n",
              "\t<tr><th scope=col>name</th><th scope=col>sex</th><th scope=col>mask</th><th scope=col>cape</th><th scope=col>tie</th><th scope=col>ears</th><th scope=col>smokes</th><th scope=col>class</th></tr>\n",
              "\t<tr><th scope=col>&lt;fct&gt;</th><th scope=col>&lt;fct&gt;</th><th scope=col>&lt;fct&gt;</th><th scope=col>&lt;fct&gt;</th><th scope=col>&lt;fct&gt;</th><th scope=col>&lt;fct&gt;</th><th scope=col>&lt;fct&gt;</th><th scope=col>&lt;fct&gt;</th></tr>\n",
              "</thead>\n",
              "<tbody>\n",
              "\t<tr><td>batman  </td><td>Male  </td><td>Yes</td><td>Yes</td><td>No </td><td>Yes</td><td>No </td><td>Good</td></tr>\n",
              "\t<tr><td>robin   </td><td>Male  </td><td>Yes</td><td>Yes</td><td>No </td><td>No </td><td>No </td><td>Good</td></tr>\n",
              "\t<tr><td>alfred  </td><td>Male  </td><td>No </td><td>No </td><td>Yes</td><td>No </td><td>No </td><td>Good</td></tr>\n",
              "\t<tr><td>penguin </td><td>Male  </td><td>No </td><td>No </td><td>Yes</td><td>No </td><td>Yes</td><td>Bad </td></tr>\n",
              "\t<tr><td>catwoman</td><td>Female</td><td>Yes</td><td>No </td><td>No </td><td>Yes</td><td>No </td><td>Bad </td></tr>\n",
              "\t<tr><td>joker   </td><td>Male  </td><td>No </td><td>No </td><td>No </td><td>No </td><td>No </td><td>Bad </td></tr>\n",
              "</tbody>\n",
              "</table>\n"
            ],
            "text/latex": [
              "A data.frame: 6 × 8\n",
              "\\begin{tabular}{r|llllllll}\n",
              " name & sex & mask & cape & tie & ears & smokes & class\\\\\n",
              " <fct> & <fct> & <fct> & <fct> & <fct> & <fct> & <fct> & <fct>\\\\\n",
              "\\hline\n",
              "\t batman   & Male   & Yes & Yes & No  & Yes & No  & Good\\\\\n",
              "\t robin    & Male   & Yes & Yes & No  & No  & No  & Good\\\\\n",
              "\t alfred   & Male   & No  & No  & Yes & No  & No  & Good\\\\\n",
              "\t penguin  & Male   & No  & No  & Yes & No  & Yes & Bad \\\\\n",
              "\t catwoman & Female & Yes & No  & No  & Yes & No  & Bad \\\\\n",
              "\t joker    & Male   & No  & No  & No  & No  & No  & Bad \\\\\n",
              "\\end{tabular}\n"
            ],
            "text/markdown": [
              "\n",
              "A data.frame: 6 × 8\n",
              "\n",
              "| name &lt;fct&gt; | sex &lt;fct&gt; | mask &lt;fct&gt; | cape &lt;fct&gt; | tie &lt;fct&gt; | ears &lt;fct&gt; | smokes &lt;fct&gt; | class &lt;fct&gt; |\n",
              "|---|---|---|---|---|---|---|---|\n",
              "| batman   | Male   | Yes | Yes | No  | Yes | No  | Good |\n",
              "| robin    | Male   | Yes | Yes | No  | No  | No  | Good |\n",
              "| alfred   | Male   | No  | No  | Yes | No  | No  | Good |\n",
              "| penguin  | Male   | No  | No  | Yes | No  | Yes | Bad  |\n",
              "| catwoman | Female | Yes | No  | No  | Yes | No  | Bad  |\n",
              "| joker    | Male   | No  | No  | No  | No  | No  | Bad  |\n",
              "\n"
            ],
            "text/plain": [
              "  name     sex    mask cape tie ears smokes class\n",
              "1 batman   Male   Yes  Yes  No  Yes  No     Good \n",
              "2 robin    Male   Yes  Yes  No  No   No     Good \n",
              "3 alfred   Male   No   No   Yes No   No     Good \n",
              "4 penguin  Male   No   No   Yes No   Yes    Bad  \n",
              "5 catwoman Female Yes  No   No  Yes  No     Bad  \n",
              "6 joker    Male   No   No   No  No   No     Bad  "
            ]
          },
          "metadata": {}
        }
      ],
      "execution_count": 36,
      "metadata": {
        "Collapsed": "false"
      }
    },
    {
      "cell_type": "code",
      "source": [
        "cleaned_train_data <- as.data.frame(select(train_data, -name))\n",
        "fit <- rpart(class~., data = cleaned_train_data, method = \"class\", control = rpart.control(minsplit=1))\n",
        "rpart.plot(fit, extra = 106)"
      ],
      "outputs": [
        {
          "output_type": "display_data",
          "data": {
            "image/png": "[encoded data removed]",
            "text/plain": [
              "plot without title"
            ]
          },
          "metadata": {
            "image/png": {
              "height": 420,
              "width": 420
            },
            "text/plain": {
              "height": 420,
              "width": 420
            }
          }
        }
      ],
      "execution_count": 70,
      "metadata": {
        "Collapsed": "false"
      }
    },
    {
      "cell_type": "markdown",
      "source": [
        "## 贝叶斯推断"
      ],
      "metadata": {
        "Collapsed": "false",
        "toc-hr-collapsed": true
      }
    },
    {
      "cell_type": "markdown",
      "source": [
        "### 贝叶斯定理\n",
        "\n",
        "$$P(c | \\boldsymbol{x})=\\frac{P(c) P(\\boldsymbol{x} | c)}{P(\\boldsymbol{x})}$$\n",
        "\n",
        "> 贝叶斯学派对于概率的观点\n",
        "> - 概率并非频率，而是一种主观程度上的信任。\n",
        "\n",
        "> 贝叶斯推理\n",
        "> - 通过新证据来修正你之前相信的东西，得到后来相信的东西。\n",
        "\n",
        "**案例**\n",
        "\n",
        "假设你是一位医生，上个月已经为100名病人进行诊断，其中的14名病人患流感，20名发烧，11名既感冒又发烧，那么若病人发烧，他患流感的概率是多少？"
      ],
      "metadata": {
        "Collapsed": "false"
      }
    },
    {
      "cell_type": "markdown",
      "source": [
        "**案例**\n",
        "\n",
        "假设检测一种罕见的疾病，他在人群中的发病率只有$1\\%$。我们的测试方法具有很高的精度，其表现为\n",
        "\n",
        "- $99\\%$的病人可以被检测出患有此病（测试结果为阳性）\n",
        "- $99\\%$的健康人可以被检测出未患有此病（测试结果为阴性）\n",
        "\n",
        "如果一个的测试结果为阳性，那么他真正患有此病的概率是多少？\n",
        "\n",
        "<img src=\"./pic/bayes01.png\" width = 50% height = 50% />\n",
        "\n",
        "毫无疑问，利用贝叶斯公式就可以直接计算得到\n",
        "\n",
        "$$p(\\text {sick} |+)=\\frac{p(+| \\text {sick}) p(\\text {sick})}{p(+)}=\\frac{0.99 \\cdot 0.01}{0.99 \\cdot 0.01+0.01 \\cdot 0.99}=0.50=50 \\%$$"
      ],
      "metadata": {
        "Collapsed": "false"
      }
    },
    {
      "cell_type": "markdown",
      "source": [
        "### 朴素贝叶斯\n",
        "\n",
        "若医生要考虑$n$个症状，那么病人就有可能有$2^{n}$种症状的组合，那么如何来计算概率问题？\n",
        "\n",
        "**假设**\n",
        "\n",
        "在给定原因的情况下，所有的结果都相互独立。（属性条件独立性假设）\n",
        "\n",
        "那么，可以得到\n",
        "\n",
        "$$P(c | \\boldsymbol{x})=\\frac{P(c) P(\\boldsymbol{x} | c)}{P(\\boldsymbol{x})}=\\frac{P(c)}{P(\\boldsymbol{x})} \\prod_{i=1}^{d} P\\left(x_{i} | c\\right)$$"
      ],
      "metadata": {
        "Collapsed": "false"
      }
    },
    {
      "cell_type": "markdown",
      "source": [
        "### 贝叶斯网络\n",
        "\n",
        "贝叶斯网络（Bayesian network），它借助有向无环图（Directed Acyclic Graph, 简称DAG）来刻画属性之间的依赖关系，并使用条件概率表（Conditional Probability Table，简称CPT）来描述属性的联合概率分布。\n",
        "\n",
        "<img src=\"./pic/bayes02.png\" width = 40% height = 40% />\n",
        "\n",
        "<img src=\"./pic/bayes03.png\" width = 45% height = 45% />\n",
        "\n",
        "<img src=\"./pic/bayes04.png\" width = 45% height = 45% />\n",
        "\n",
        "<br>\n",
        "\n",
        "请问：John和Marry都打来电话，警报器响了，但是没有地震和偷盗的概率是多少？\n",
        "\n",
        "$$\n",
        "\\begin{array}{l}{P(j \\wedge m \\wedge a \\wedge \\neg b \\wedge \\neg e)} \\\\ {\\quad=P(J | a) P(m | a) P(a | \\neg b \\wedge \\neg e) P(\\neg e) P(\\neg b)} \\\\ {\\quad=\\quad 0.90 \\times 0.70 \\times 0.001 \\times 0.999 \\times 0.998=0.00062}\\end{array}\n",
        "$$"
      ],
      "metadata": {
        "Collapsed": "false"
      }
    }
  ],
  "metadata": {
    "kernelspec": {
      "display_name": "R",
      "language": "R",
      "name": "ir"
    },
    "language_info": {
      "name": "R",
      "codemirror_mode": "r",
      "pygments_lexer": "r",
      "mimetype": "text/x-r-source",
      "file_extension": ".r",
      "version": "3.6.3"
    },
    "nteract": {
      "version": "0.23.1"
    }
  },
  "nbformat": 4,
  "nbformat_minor": 4
}