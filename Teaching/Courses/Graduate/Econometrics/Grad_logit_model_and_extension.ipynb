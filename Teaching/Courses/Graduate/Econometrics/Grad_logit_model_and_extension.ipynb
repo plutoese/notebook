{
 "cells": [
  {
   "cell_type": "markdown",
   "metadata": {},
   "source": [
    "# 限值因变量模型"
   ]
  },
  {
   "cell_type": "markdown",
   "metadata": {},
   "source": [
    "## 二值（或有限值）的结果\n",
    "\n",
    "- 二值结果的例子到处可见（例如已婚妇女的劳动力市场参与、迁移决策等）\n",
    "\n",
    "- 想要理解某个变量（无论是连续变量还是虚拟变量）对二值结果概率的影响"
   ]
  },
  {
   "cell_type": "markdown",
   "metadata": {},
   "source": [
    "## 线性概率模型（Linear Probability Models）\n",
    "\n",
    "模型\n",
    "\n",
    "$$E(y|x)=P(y=1|x) \\times 1 + P(y=0) \\times 0= P(y=1|x) =\\beta_{0}+\\beta_{1} x_{1}+\\beta_{2} x_{2}+\\ldots+\\beta_{k} x_{k}+\\mu$$\n",
    "\n",
    "其中$y$是二值变量（或虚拟变量），模型中解释变量前的系数则表示当$x$变化一个单位时，$y$成功概率的变动。\n",
    "\n",
    "**例如**\n",
    "\n",
    "我们构建下列模型\n",
    "\n",
    "$$died_{i}=\\beta_{0}+\\beta_{1} age_{i}+\\mu_{i}$$\n",
    "\n",
    "请说明这个模型中系数的含义。\n",
    "\n",
    "<br>\n",
    "\n",
    "**讨论**：LPM模型存在的问题\n",
    "\n",
    "- LPM模型并不是一个完全正确的模型。考虑对于线性模型而言，我们假定\n",
    "\n",
    "$$Y \\sim N\\left(\\beta_{0}+\\beta_{1} X_{1}+\\cdots+\\beta_{p} X_{p}, \\sigma^{2}\\right)$$\n",
    "\n",
    "这意味着以$X$为条件，$Y$服从正态分布。但毫无疑问，对于一个二值变量，它不可能是正态分布的。\n",
    "\n",
    "- 异方差问题。当$y$是一个二值变量时，以$x$为条件的方差为 $\\operatorname{var}(y | \\mathbf{x})=p(\\mathbf{x})[1-p(\\mathbf{x})]$\n",
    "\n",
    "- 如果代入自变量的某些特定组合数值，就能得到小于0或大于1的预测值\n",
    "\n",
    "<br>\n",
    "\n",
    "> 模型是有用的，特别是作为建模的起点\n",
    "\n",
    "> 若结果的均值远离0或者1时，LPM和logit或probit模型没有大的差异\n",
    "\n",
    "> 解释是简洁的\n",
    "\n",
    "> 正态性假定只在推断时需要"
   ]
  },
  {
   "cell_type": "markdown",
   "metadata": {},
   "source": [
    "**案例：孩子出生体重**"
   ]
  },
  {
   "cell_type": "code",
   "execution_count": 57,
   "metadata": {},
   "outputs": [],
   "source": [
    "library(rio)\n",
    "library(skimr)\n",
    "library(tidyverse)\n",
    "library(stargazer)"
   ]
  },
  {
   "cell_type": "code",
   "execution_count": 2,
   "metadata": {},
   "outputs": [],
   "source": [
    "data <- import(\"http://www.stata-press.com/data/r14/lbw.dta\")\n",
    "\n",
    "data <- select(data, c(id, low, age, race, smoke, ht))\n",
    "data$race <- factor(data$race)"
   ]
  },
  {
   "cell_type": "code",
   "execution_count": 3,
   "metadata": {},
   "outputs": [
    {
     "name": "stdout",
     "output_type": "stream",
     "text": [
      "-- Data Summary ------------------------\n",
      "                           Values\n",
      "Name                       data  \n",
      "Number of rows             189   \n",
      "Number of columns          6     \n",
      "_______________________          \n",
      "Column type frequency:           \n",
      "  factor                   1     \n",
      "  numeric                  5     \n",
      "________________________         \n",
      "Group variables            None  \n",
      "\n",
      "-- Variable type: factor -------------------------------------------------------\n",
      "# A tibble: 1 x 6\n",
      "  skim_variable n_missing complete_rate ordered n_unique top_counts         \n",
      "* <chr>             <int>         <dbl> <lgl>      <int> <chr>              \n",
      "1 race                  0             1 FALSE          3 1: 96, 3: 67, 2: 26\n",
      "\n",
      "-- Variable type: numeric ------------------------------------------------------\n",
      "# A tibble: 5 x 11\n",
      "  skim_variable n_missing complete_rate     mean     sd    p0   p25   p50   p75\n",
      "* <chr>             <int>         <dbl>    <dbl>  <dbl> <dbl> <dbl> <dbl> <dbl>\n",
      "1 id                    0             1 121.     63.3       4    68   123   176\n",
      "2 low                   0             1   0.312   0.465     0     0     0     1\n",
      "3 age                   0             1  23.2     5.30     14    19    23    26\n",
      "4 smoke                 0             1   0.392   0.489     0     0     0     1\n",
      "5 ht                    0             1   0.0635  0.244     0     0     0     0\n",
      "   p100 hist \n",
      "* <dbl> <chr>\n",
      "1   226 ▆▆▇▇▇\n",
      "2     1 ▇▁▁▁▃\n",
      "3    45 ▇▇▃▁▁\n",
      "4     1 ▇▁▁▁▅\n",
      "5     1 ▇▁▁▁▁\n"
     ]
    }
   ],
   "source": [
    "skim(data)"
   ]
  },
  {
   "cell_type": "code",
   "execution_count": 4,
   "metadata": {},
   "outputs": [
    {
     "data": {
      "text/plain": [
       "\n",
       "Call:\n",
       "lm(formula = low ~ age + race + smoke + ht, data = data)\n",
       "\n",
       "Residuals:\n",
       "    Min      1Q  Median      3Q     Max \n",
       "-0.6173 -0.3369 -0.1355  0.4682  0.9158 \n",
       "\n",
       "Coefficients:\n",
       "             Estimate Std. Error t value Pr(>|t|)   \n",
       "(Intercept)  0.249336   0.169076   1.475  0.14201   \n",
       "age         -0.005693   0.006333  -0.899  0.36987   \n",
       "race2        0.184372   0.101615   1.814  0.07125 . \n",
       "race3        0.197529   0.077161   2.560  0.01128 * \n",
       "smoke        0.211903   0.071307   2.972  0.00336 **\n",
       "ht           0.264236   0.133944   1.973  0.05003 . \n",
       "---\n",
       "Signif. codes:  0 '***' 0.001 '**' 0.01 '*' 0.05 '.' 0.1 ' ' 1\n",
       "\n",
       "Residual standard error: 0.4473 on 183 degrees of freedom\n",
       "Multiple R-squared:  0.09792,\tAdjusted R-squared:  0.07327 \n",
       "F-statistic: 3.973 on 5 and 183 DF,  p-value: 0.001913\n"
      ]
     },
     "metadata": {},
     "output_type": "display_data"
    }
   ],
   "source": [
    "lmobj <- lm(low ~ age + race + smoke + ht, data=data)\n",
    "summary(lmobj)"
   ]
  },
  {
   "cell_type": "code",
   "execution_count": 5,
   "metadata": {},
   "outputs": [
    {
     "data": {
      "text/html": [
       "<table>\n",
       "<caption>A data.frame: 1 × 7</caption>\n",
       "<thead>\n",
       "\t<tr><th scope=col>id</th><th scope=col>low</th><th scope=col>age</th><th scope=col>race</th><th scope=col>smoke</th><th scope=col>ht</th><th scope=col>yhat</th></tr>\n",
       "\t<tr><th scope=col>&lt;dbl&gt;</th><th scope=col>&lt;dbl&gt;</th><th scope=col>&lt;dbl&gt;</th><th scope=col>&lt;fct&gt;</th><th scope=col>&lt;dbl&gt;</th><th scope=col>&lt;dbl&gt;</th><th scope=col>&lt;dbl&gt;</th></tr>\n",
       "</thead>\n",
       "<tbody>\n",
       "\t<tr><td>226</td><td>0</td><td>45</td><td>1</td><td>0</td><td>0</td><td>-0.006855462</td></tr>\n",
       "</tbody>\n",
       "</table>\n"
      ],
      "text/latex": [
       "A data.frame: 1 × 7\n",
       "\\begin{tabular}{lllllll}\n",
       " id & low & age & race & smoke & ht & yhat\\\\\n",
       " <dbl> & <dbl> & <dbl> & <fct> & <dbl> & <dbl> & <dbl>\\\\\n",
       "\\hline\n",
       "\t 226 & 0 & 45 & 1 & 0 & 0 & -0.006855462\\\\\n",
       "\\end{tabular}\n"
      ],
      "text/markdown": [
       "\n",
       "A data.frame: 1 × 7\n",
       "\n",
       "| id &lt;dbl&gt; | low &lt;dbl&gt; | age &lt;dbl&gt; | race &lt;fct&gt; | smoke &lt;dbl&gt; | ht &lt;dbl&gt; | yhat &lt;dbl&gt; |\n",
       "|---|---|---|---|---|---|---|\n",
       "| 226 | 0 | 45 | 1 | 0 | 0 | -0.006855462 |\n",
       "\n"
      ],
      "text/plain": [
       "  id  low age race smoke ht yhat        \n",
       "1 226 0   45  1    0     0  -0.006855462"
      ]
     },
     "metadata": {},
     "output_type": "display_data"
    }
   ],
   "source": [
    "data$yhat <- lmobj$fitted.values\n",
    "filter(data, yhat < 0)"
   ]
  },
  {
   "cell_type": "markdown",
   "metadata": {},
   "source": [
    "## 对数单位和概率单位模型（Logit or Probit model）"
   ]
  },
  {
   "cell_type": "markdown",
   "metadata": {},
   "source": [
    "一个通常的考虑是寻找函数$F$，使得\n",
    "\n",
    "$$p_{i}=P\\left(y_{i}=1 | X_{1}, \\ldots, X_{p}\\right)=F\\left(\\beta_{0}+\\beta_{1} X_{1}+\\cdots+\\beta_{p} X_{p}\\right)$$\n",
    "\n",
    "$F()$通常是累积分布函数，最常用的是logistic分布以及标准正态累积分布函数。若使用前者则得到logistic模型，后者则得到probit模型。\n",
    "\n",
    "logistic响应函数为\n",
    "\n",
    "$$\\pi=\\frac{e^{x}}{1+e^{x}}=\\frac{1}{1+e^{-x}}$$\n",
    "\n",
    "其中$x$是任意实数。"
   ]
  },
  {
   "cell_type": "markdown",
   "metadata": {},
   "source": [
    "另一种考虑是利用潜变量模型。假设$y^{*}$是一个无法观测的变量或潜变量，有\n",
    "\n",
    "$$y^{*}=\\beta_{0}+x\\beta+\\mu, y=1\\left[y^{*}>0\\right]$$\n",
    "\n",
    "其中$1[\\cdot]$是一个指示函数，若$y^{*}>0$时$y$为1，否则为0。我们假设$\\mu$是独立于$x$的，并且$\\mu$符合logistic分布或者标准正态分布。这意味着$\\mu$是以0为中心对称的，即对于任何实数$z$都有 $1-F(-z)=F(z)$。\n",
    "\n",
    "因此有\n",
    "\n",
    "$$\\begin{aligned} \\mathrm{P}(y=1 | \\mathbf{x}) &=\\mathrm{P}\\left(y^{*}>0 | \\mathbf{x}\\right)=\\mathrm{P}\\left[\\mu>-\\left(\\beta_{0}+\\mathbf{x} \\boldsymbol{\\beta}\\right) | \\mathbf{x}\\right] \\\\ &=1-F\\left[-\\left(\\beta_{0}+\\mathbf{x} \\boldsymbol{\\beta}\\right)\\right]=F\\left(\\beta_{0}+\\mathbf{x} \\boldsymbol{\\beta}\\right) \\end{aligned}$$"
   ]
  },
  {
   "cell_type": "markdown",
   "metadata": {},
   "source": [
    "### 估计方法 - 极大似然估计\n",
    "\n",
    "鉴于Logit和Probit模型不再是线性模型，因此不能用OLS模型进行估计。常用的估计方法是极大似然估计（MLE）"
   ]
  },
  {
   "cell_type": "markdown",
   "metadata": {},
   "source": [
    "#### 一个正态分布的案例\n",
    "\n",
    "假设得到一组数，例如\n",
    "\n",
    "90.46561\n",
    "105.1319\n",
    "117.5445\n",
    "102.7179\n",
    "102.7788\n",
    "107.6234\n",
    "94.87266\n",
    "95.48918\n",
    "75.63886\n",
    "87.40594\n",
    "\n",
    "我们认为来自于正态分布的总体，其中参数为$\\mu$和$\\sigma^{2}$，并且它们相互独立。我们需要从中猜测最可能的参数值。\n",
    "\n",
    "我们知道正态分布的概率密度函数，考虑到这些观测值是独立的，所以联合分布函数可以写为\n",
    "\n",
    "$$L\\left(\\mu, \\sigma^{2}\\right)=\\prod_{i=1}^{n} \\frac{1}{\\sqrt{2 \\pi \\sigma^{2}}} \\exp \\left(\\frac{-\\left(y_{i}-\\mu\\right)^{2}}{2 \\sigma^{2}}\\right)$$\n",
    "\n",
    "为了简化计算，写出它的对数形式\n",
    "\n",
    "$$\\log (L(x ; \\mu, \\sigma))=-\\frac{1}{2} N \\log (2 \\pi)-N \\log (\\sigma)-\\frac{1}{2} \\sum_{i=1}^{N} \\frac{\\left(x_{i}-\\mu\\right)^{2}}{\\sigma^{2}}$$\n",
    "\n",
    "对未知参数求偏导等于$0$，即可解得极大似然估计量。\n",
    "\n",
    "例如，对于$\\mu$\n",
    "\n",
    "$$\\frac{\\partial \\ln \\left(L\\left(\\mu, \\sigma^{2}\\right)\\right)}{\\partial \\mu}=2 \\frac{1}{2 \\sigma^{2}} \\sum_{i=1}^{n}\\left(y_{i}-\\mu\\right)=0$$\n",
    "\n",
    "解得$\\hat{\\mu}=\\frac{\\sum_{i=1}^{n} y_{i}}{n}=\\bar{y}$，即$\\mu$的极大似然估计量是样本均值。"
   ]
  },
  {
   "cell_type": "code",
   "execution_count": 41,
   "metadata": {},
   "outputs": [],
   "source": [
    "library(maxLik)\n",
    "\n",
    "set.seed(123)\n",
    "x <- rnorm(100, mean = 1, sd = 2)"
   ]
  },
  {
   "cell_type": "code",
   "execution_count": 42,
   "metadata": {},
   "outputs": [],
   "source": [
    "logLikFun <- function(param) {\n",
    "    mu <- param[1]\n",
    "    sigma <- param[2]\n",
    "    sum(dnorm(x, mean = mu, sd = sigma, log = TRUE))\n",
    "}"
   ]
  },
  {
   "cell_type": "code",
   "execution_count": 43,
   "metadata": {},
   "outputs": [
    {
     "data": {
      "text/plain": [
       "--------------------------------------------\n",
       "Maximum Likelihood estimation\n",
       "Newton-Raphson maximisation, 7 iterations\n",
       "Return code 1: gradient close to zero\n",
       "Log-Likelihood: -201.5839 \n",
       "2  free parameters\n",
       "Estimates:\n",
       "      Estimate Std. error t value  Pr(> t)    \n",
       "mu      1.1808     0.1816   6.503 7.89e-11 ***\n",
       "sigma   1.8165     0.1285  14.140  < 2e-16 ***\n",
       "---\n",
       "Signif. codes:  0 '***' 0.001 '**' 0.01 '*' 0.05 '.' 0.1 ' ' 1\n",
       "--------------------------------------------"
      ]
     },
     "metadata": {},
     "output_type": "display_data"
    }
   ],
   "source": [
    "mle <- maxLik(logLik = logLikFun, start = c(mu = 0, sigma = 1))\n",
    "summary(mle)"
   ]
  },
  {
   "cell_type": "markdown",
   "metadata": {},
   "source": [
    "或者也可以略改动代码"
   ]
  },
  {
   "cell_type": "code",
   "execution_count": 45,
   "metadata": {},
   "outputs": [
    {
     "data": {
      "text/plain": [
       "--------------------------------------------\n",
       "Maximum Likelihood estimation\n",
       "Newton-Raphson maximisation, 7 iterations\n",
       "Return code 1: gradient close to zero\n",
       "Log-Likelihood: -201.5839 \n",
       "2  free parameters\n",
       "Estimates:\n",
       "      Estimate Std. error t value  Pr(> t)    \n",
       "mu      1.1808     0.1817    6.50 8.06e-11 ***\n",
       "sigma   1.8165     0.1285   14.14  < 2e-16 ***\n",
       "---\n",
       "Signif. codes:  0 '***' 0.001 '**' 0.01 '*' 0.05 '.' 0.1 ' ' 1\n",
       "--------------------------------------------"
      ]
     },
     "metadata": {},
     "output_type": "display_data"
    }
   ],
   "source": [
    "fn_mle <- function(x){\n",
    "    force(x)\n",
    "    function(param) {\n",
    "        mu <- param[1]\n",
    "        sigma <- param[2]\n",
    "        sum((-1/2)*log(2*pi) - log(sigma) - (1/2)*((x-mu)^2/(sigma^2)))\n",
    "    }\n",
    "}\n",
    "\n",
    "mle <- maxLik(logLik = fn_mle(x), start = c(mu = 0, sigma = 1))\n",
    "summary(mle)"
   ]
  },
  {
   "cell_type": "markdown",
   "metadata": {},
   "source": [
    "**计量经济学导论的案例**"
   ]
  },
  {
   "cell_type": "code",
   "execution_count": 49,
   "metadata": {},
   "outputs": [
    {
     "data": {
      "text/plain": [
       "\n",
       "Call:\n",
       "lm(formula = lwage ~ educ + exper + tenure, data = wage1)\n",
       "\n",
       "Residuals:\n",
       "     Min       1Q   Median       3Q      Max \n",
       "-2.05802 -0.29645 -0.03265  0.28788  1.42809 \n",
       "\n",
       "Coefficients:\n",
       "            Estimate Std. Error t value Pr(>|t|)    \n",
       "(Intercept) 0.284360   0.104190   2.729  0.00656 ** \n",
       "educ        0.092029   0.007330  12.555  < 2e-16 ***\n",
       "exper       0.004121   0.001723   2.391  0.01714 *  \n",
       "tenure      0.022067   0.003094   7.133 3.29e-12 ***\n",
       "---\n",
       "Signif. codes:  0 '***' 0.001 '**' 0.01 '*' 0.05 '.' 0.1 ' ' 1\n",
       "\n",
       "Residual standard error: 0.4409 on 522 degrees of freedom\n",
       "Multiple R-squared:  0.316,\tAdjusted R-squared:  0.3121 \n",
       "F-statistic: 80.39 on 3 and 522 DF,  p-value: < 2.2e-16\n"
      ]
     },
     "metadata": {},
     "output_type": "display_data"
    }
   ],
   "source": [
    "options(warn=-1)\n",
    "\n",
    "# load wooldridge dataset\n",
    "library(\"wooldridge\")\n",
    "\n",
    "data(wage1)\n",
    "\n",
    "# regression\n",
    "lmobj <- lm(lwage ~ educ + exper + tenure, data = wage1)\n",
    "summary(lmobj)"
   ]
  },
  {
   "cell_type": "code",
   "execution_count": 56,
   "metadata": {},
   "outputs": [
    {
     "data": {
      "text/plain": [
       "--------------------------------------------\n",
       "Maximum Likelihood estimation\n",
       "Newton-Raphson maximisation, 16 iterations\n",
       "Return code 1: gradient close to zero\n",
       "Log-Likelihood: -313.5478 \n",
       "5  free parameters\n",
       "Estimates:\n",
       "         Estimate Std. error t value  Pr(> t)    \n",
       "sigma    0.439183   0.013541  32.434  < 2e-16 ***\n",
       "constant 0.284360   0.103795   2.740  0.00615 ** \n",
       "educ     0.092029   0.007302  12.603  < 2e-16 ***\n",
       "exper    0.004121   0.001717   2.401  0.01637 *  \n",
       "tenure   0.022067   0.003082   7.160 8.05e-13 ***\n",
       "---\n",
       "Signif. codes:  0 '***' 0.001 '**' 0.01 '*' 0.05 '.' 0.1 ' ' 1\n",
       "--------------------------------------------"
      ]
     },
     "metadata": {},
     "output_type": "display_data"
    }
   ],
   "source": [
    "ols.lf <- function(param) {\n",
    "    beta <- param[-1] # Regression Coefficients\n",
    "    sigma <- param[1] # Standard Deviation\n",
    "    y <- as.vector(wage1$lwage) # DV\n",
    "    x <- cbind(1, wage1$educ, wage1$exper, wage1$tenure) # IV\n",
    "    mu <- x%*%beta # multiply matrices\n",
    "    sum(dnorm(y, mu, sigma, log = TRUE)) # normal distribution(vector of observations, mean, sd)\n",
    "}\n",
    "\n",
    "mle_ols <- maxLik(logLik = ols.lf, start = c(sigma = 1, constant = 1, educ = 1, exper=1, tenure=1))\n",
    "summary(mle_ols)"
   ]
  },
  {
   "cell_type": "markdown",
   "metadata": {},
   "source": [
    "**对数单位案例：已婚妇女的劳动力市场参与**"
   ]
  },
  {
   "cell_type": "code",
   "execution_count": 6,
   "metadata": {},
   "outputs": [
    {
     "name": "stdout",
     "output_type": "stream",
     "text": [
      "-- Data Summary ------------------------\n",
      "                           Values\n",
      "Name                       data  \n",
      "Number of rows             753   \n",
      "Number of columns          22    \n",
      "_______________________          \n",
      "Column type frequency:           \n",
      "  numeric                  22    \n",
      "________________________         \n",
      "Group variables            None  \n",
      "\n",
      "-- Variable type: numeric ------------------------------------------------------\n",
      "# A tibble: 22 x 11\n",
      "   skim_variable n_missing complete_rate      mean         sd        p0\n",
      " * <chr>             <int>         <dbl>     <dbl>      <dbl>     <dbl>\n",
      " 1 inlf                  0         1         0.568     0.496     0     \n",
      " 2 hours                 0         1       741.      871.        0     \n",
      " 3 kidslt6               0         1         0.238     0.524     0     \n",
      " 4 kidsge6               0         1         1.35      1.32      0     \n",
      " 5 age                   0         1        42.5       8.07     30     \n",
      " 6 educ                  0         1        12.3       2.28      5     \n",
      " 7 wage                325         0.568     4.18      3.31      0.128 \n",
      " 8 repwage               0         1         1.85      2.42      0     \n",
      " 9 hushrs                0         1      2267.      596.      175     \n",
      "10 husage                0         1        45.1       8.06     30     \n",
      "11 huseduc               0         1        12.5       3.02      3     \n",
      "12 huswage               0         1         7.48      4.23      0.412 \n",
      "13 faminc                0         1     23081.    12190.     1500     \n",
      "14 mtr                   0         1         0.679     0.0835    0.442 \n",
      "15 motheduc              0         1         9.25      3.37      0     \n",
      "16 fatheduc              0         1         8.81      3.57      0     \n",
      "17 unem                  0         1         8.62      3.11      3     \n",
      "18 city                  0         1         0.643     0.480     0     \n",
      "19 exper                 0         1        10.6       8.07      0     \n",
      "20 nwifeinc              0         1        20.1      11.6      -0.0291\n",
      "21 lwage               325         0.568     1.19      0.723    -2.05  \n",
      "22 expersq               0         1       178.      250.        0     \n",
      "         p25       p50       p75      p100 hist \n",
      " *     <dbl>     <dbl>     <dbl>     <dbl> <chr>\n",
      " 1     0         1         1         1     ▆▁▁▁▇\n",
      " 2     0       288      1516      4950     ▇▃▁▁▁\n",
      " 3     0         0         0         3     ▇▂▁▁▁\n",
      " 4     0         1         2         8     ▇▅▁▁▁\n",
      " 5    36        43        49        60     ▇▅▇▅▂\n",
      " 6    12        12        13        17     ▁▁▇▂▂\n",
      " 7     2.26      3.48      4.97     25     ▇▂▁▁▁\n",
      " 8     0         0         3.58      9.98  ▇▃▂▁▁\n",
      " 9  1928      2164      2553      5010     ▁▇▇▂▁\n",
      "10    38        46        52        60     ▆▆▇▇▅\n",
      "11    11        12        15        17     ▁▂▂▇▅\n",
      "12     4.79      6.98      9.17     40.5   ▇▃▁▁▁\n",
      "13 15428     20880     28200     96000     ▇▇▁▁▁\n",
      "14     0.622     0.692     0.721     0.942 ▁▃▇▃▁\n",
      "15     7        10        12        17     ▁▁▇▅▂\n",
      "16     7         7        12        17     ▁▁▇▃▂\n",
      "17     7.5       7.5      11        14     ▃▁▇▂▂\n",
      "18     0         1         1         1     ▅▁▁▁▇\n",
      "19     4         9        15        45     ▇▅▂▁▁\n",
      "20    13.0      17.7      24.5      96     ▇▅▁▁▁\n",
      "21     0.817     1.25      1.60      3.22  ▁▁▆▇▁\n",
      "22    16        81       225      2025     ▇▁▁▁▁\n"
     ]
    }
   ],
   "source": [
    "data <- import(\"https://p193.p3.n0.cdn.getcloudapp.com/items/kpu5Q9Br/MROZ.DTA\")\n",
    "skim(data)"
   ]
  },
  {
   "cell_type": "markdown",
   "metadata": {},
   "source": [
    "我们想要估计下列logistic模型\n",
    "\n",
    "$$\\log \\left(\\frac{inlf_{i}}{1-inlf_{i}}\\right)=\\beta_{0}+\\beta_{1} h s p_{i}$$\n",
    "\n",
    "另外，我们也可以把模型写为\n",
    "\n",
    "$$\\log \\left(\\frac{inlf_{i}}{1-inlf_{i}}\\right)=\\beta_{0}+\\beta_{1} h s p_{i}$$\n",
    "\n",
    "或者\n",
    "\n",
    "$$\\operatorname{logit}\\left(inlf_{i}\\right)=\\beta_{0}+\\beta_{1} h s p_{i}$$"
   ]
  },
  {
   "cell_type": "code",
   "execution_count": 7,
   "metadata": {},
   "outputs": [
    {
     "data": {
      "text/plain": [
       "\n",
       "Call:\n",
       "glm(formula = inlf ~ hsp, family = binomial(link = \"logit\"), \n",
       "    data = data)\n",
       "\n",
       "Deviance Residuals: \n",
       "    Min       1Q   Median       3Q      Max  \n",
       "-1.5080  -1.2201   0.8795   1.1353   1.1353  \n",
       "\n",
       "Coefficients:\n",
       "            Estimate Std. Error z value Pr(>|z|)    \n",
       "(Intercept)  0.09990    0.08609   1.160 0.245911    \n",
       "hsp          0.65041    0.17048   3.815 0.000136 ***\n",
       "---\n",
       "Signif. codes:  0 '***' 0.001 '**' 0.01 '*' 0.05 '.' 0.1 ' ' 1\n",
       "\n",
       "(Dispersion parameter for binomial family taken to be 1)\n",
       "\n",
       "    Null deviance: 1029.7  on 752  degrees of freedom\n",
       "Residual deviance: 1014.7  on 751  degrees of freedom\n",
       "AIC: 1018.7\n",
       "\n",
       "Number of Fisher Scoring iterations: 4\n"
      ]
     },
     "metadata": {},
     "output_type": "display_data"
    }
   ],
   "source": [
    "data$hsp = 0\n",
    "data[data$educ > 12 & !is.na(data$educ), \"hsp\"] = 1\n",
    "logit_model <- glm(inlf~hsp, family=binomial(link=\"logit\"),data=data)\n",
    "summary(logit_model)"
   ]
  },
  {
   "cell_type": "markdown",
   "metadata": {},
   "source": [
    "- 对于$hsp = 1$的群体，其模型为$\\log \\left(\\frac{inlf_{hsp}}{1-inlf_{hsp}}\\right)=\\beta_{0}+\\beta_{1}$\n",
    "\n",
    "- 对于$hsp = 0$的群体，其模型为$\\log \\left(\\frac{inlf_{nohsp}}{1-inlf_{nohsp}}\\right)=\\beta_{0}$\n",
    "\n",
    "两者的差异为\n",
    "\n",
    "$$\\log \\left(\\frac{inlf_{hsp}}{1-inlf_{hsp}}\\right) - \\log \\left(\\frac{inlf_{hsp}}{1-inlf_{hsp}}\\right) = \\beta_{1}$$\n",
    "\n",
    "因此比值比为\n",
    "\n",
    "$$\\frac{\\frac{inlf_{hsp}}{1-inlf_{hsp}}}{\\frac{inlf_{nohsp}}{1-inlf_{nohsp}}}=e^{\\beta_{1}}$$\n",
    "\n",
    "在我们的例子里$e^{.6504074} = 1.92$。即大学毕业的群体进入劳动力市场的比率约为非大学群体的两倍。\n",
    "\n",
    "考虑到对于$\\log \\left(\\frac{p}{1-p}\\right)=\\beta_{0}+\\beta_{1} x$，我们解得\n",
    "\n",
    "$$p=\\frac{e^{\\beta_{0}+\\beta_{1} x}}{1+e^{\\beta_{0}+\\beta_{1} x}}$$\n",
    "\n",
    "因此，我们可以确切计算得到两个群体的概率。"
   ]
  },
  {
   "cell_type": "code",
   "execution_count": 8,
   "metadata": {},
   "outputs": [
    {
     "name": "stdout",
     "output_type": "stream",
     "text": [
      "\n",
      "==================================================================\n",
      "                                 Dependent variable:              \n",
      "                    ----------------------------------------------\n",
      "                                         inlf                     \n",
      "                              OLS             logistic    probit  \n",
      "                              (1)               (2)        (3)    \n",
      "------------------------------------------------------------------\n",
      "nwifeinc                   -0.0034**         -0.0213**  -0.0120** \n",
      "                            (0.0014)          (0.0084)   (0.0049) \n",
      "                                                                  \n",
      "educ                       0.0380***         0.2212***  0.1309*** \n",
      "                            (0.0074)          (0.0434)   (0.0254) \n",
      "                                                                  \n",
      "exper                      0.0395***         0.2059***  0.1233*** \n",
      "                            (0.0057)          (0.0321)   (0.0188) \n",
      "                                                                  \n",
      "expersq                    -0.0006***        -0.0032*** -0.0019***\n",
      "                            (0.0002)          (0.0010)   (0.0006) \n",
      "                                                                  \n",
      "age                        -0.0161***        -0.0880*** -0.0529***\n",
      "                            (0.0025)          (0.0146)   (0.0085) \n",
      "                                                                  \n",
      "kidslt6                    -0.2618***        -1.4434*** -0.8683***\n",
      "                            (0.0335)          (0.2036)   (0.1184) \n",
      "                                                                  \n",
      "kidsge6                      0.0130            0.0601     0.0360  \n",
      "                            (0.0132)          (0.0748)   (0.0440) \n",
      "                                                                  \n",
      "Constant                   0.5855***           0.4255     0.2701  \n",
      "                            (0.1542)          (0.8604)   (0.5081) \n",
      "                                                                  \n",
      "------------------------------------------------------------------\n",
      "Observations                  753               753        753    \n",
      "R2                           0.2642                               \n",
      "Adjusted R2                  0.2573                               \n",
      "Log Likelihood                               -401.7652  -401.3022 \n",
      "Akaike Inf. Crit.                             819.5303   818.6044 \n",
      "Residual Std. Error    0.4271 (df = 745)                          \n",
      "F Statistic         38.2179*** (df = 7; 745)                      \n",
      "==================================================================\n",
      "Note:                                  *p<0.1; **p<0.05; ***p<0.01\n"
     ]
    }
   ],
   "source": [
    "ols_model <- lm(inlf~nwifeinc+educ+exper+expersq+age+kidslt6+kidsge6, data=data)\n",
    "logit_model <- glm(inlf~nwifeinc+educ+exper+expersq+age+kidslt6+kidsge6, family=binomial(link=\"logit\"),data=data)\n",
    "probit_model <- glm(inlf~nwifeinc+educ+exper+expersq+age+kidslt6+kidsge6, family=binomial(link=\"probit\"),data=data)\n",
    "\n",
    "stargazer(ols_model, logit_model, probit_model, type=\"text\", header = TRUE, digits = 4)"
   ]
  },
  {
   "cell_type": "code",
   "execution_count": 9,
   "metadata": {},
   "outputs": [
    {
     "data": {
      "text/html": [
       "<table>\n",
       "<caption>A summary.margins: 7 × 7</caption>\n",
       "<thead>\n",
       "\t<tr><th></th><th scope=col>factor</th><th scope=col>AME</th><th scope=col>SE</th><th scope=col>z</th><th scope=col>p</th><th scope=col>lower</th><th scope=col>upper</th></tr>\n",
       "\t<tr><th></th><th scope=col>&lt;chr&gt;</th><th scope=col>&lt;dbl&gt;</th><th scope=col>&lt;dbl&gt;</th><th scope=col>&lt;dbl&gt;</th><th scope=col>&lt;dbl&gt;</th><th scope=col>&lt;dbl&gt;</th><th scope=col>&lt;dbl&gt;</th></tr>\n",
       "</thead>\n",
       "<tbody>\n",
       "\t<tr><th scope=row>1</th><td>age     </td><td>-0.0157193592</td><td>0.0023807440</td><td>-6.6027087</td><td>4.037123e-11</td><td>-0.0203855317</td><td>-0.0110531867</td></tr>\n",
       "\t<tr><th scope=row>2</th><td>educ    </td><td> 0.0394965219</td><td>0.0072946429</td><td> 5.4144558</td><td>6.147537e-08</td><td> 0.0251992846</td><td> 0.0537937593</td></tr>\n",
       "\t<tr><th scope=row>3</th><td>exper   </td><td> 0.0367640951</td><td>0.0051500235</td><td> 7.1386267</td><td>9.426797e-13</td><td> 0.0266702345</td><td> 0.0468579557</td></tr>\n",
       "\t<tr><th scope=row>4</th><td>expersq </td><td>-0.0005632587</td><td>0.0001773538</td><td>-3.1759039</td><td>1.493704e-03</td><td>-0.0009108657</td><td>-0.0002156516</td></tr>\n",
       "\t<tr><th scope=row>5</th><td>kidsge6 </td><td> 0.0107348186</td><td>0.0133329508</td><td> 0.8051345</td><td>4.207421e-01</td><td>-0.0153972847</td><td> 0.0368669219</td></tr>\n",
       "\t<tr><th scope=row>6</th><td>kidslt6 </td><td>-0.2577536390</td><td>0.0319413851</td><td>-8.0695824</td><td>7.053902e-16</td><td>-0.3203576035</td><td>-0.1951496746</td></tr>\n",
       "\t<tr><th scope=row>7</th><td>nwifeinc</td><td>-0.0038118134</td><td>0.0014823782</td><td>-2.5714177</td><td>1.012831e-02</td><td>-0.0067172212</td><td>-0.0009064056</td></tr>\n",
       "</tbody>\n",
       "</table>\n"
      ],
      "text/latex": [
       "A summary.margins: 7 × 7\n",
       "\\begin{tabular}{r|lllllll}\n",
       "  & factor & AME & SE & z & p & lower & upper\\\\\n",
       "  & <chr> & <dbl> & <dbl> & <dbl> & <dbl> & <dbl> & <dbl>\\\\\n",
       "\\hline\n",
       "\t1 & age      & -0.0157193592 & 0.0023807440 & -6.6027087 & 4.037123e-11 & -0.0203855317 & -0.0110531867\\\\\n",
       "\t2 & educ     &  0.0394965219 & 0.0072946429 &  5.4144558 & 6.147537e-08 &  0.0251992846 &  0.0537937593\\\\\n",
       "\t3 & exper    &  0.0367640951 & 0.0051500235 &  7.1386267 & 9.426797e-13 &  0.0266702345 &  0.0468579557\\\\\n",
       "\t4 & expersq  & -0.0005632587 & 0.0001773538 & -3.1759039 & 1.493704e-03 & -0.0009108657 & -0.0002156516\\\\\n",
       "\t5 & kidsge6  &  0.0107348186 & 0.0133329508 &  0.8051345 & 4.207421e-01 & -0.0153972847 &  0.0368669219\\\\\n",
       "\t6 & kidslt6  & -0.2577536390 & 0.0319413851 & -8.0695824 & 7.053902e-16 & -0.3203576035 & -0.1951496746\\\\\n",
       "\t7 & nwifeinc & -0.0038118134 & 0.0014823782 & -2.5714177 & 1.012831e-02 & -0.0067172212 & -0.0009064056\\\\\n",
       "\\end{tabular}\n"
      ],
      "text/markdown": [
       "\n",
       "A summary.margins: 7 × 7\n",
       "\n",
       "| <!--/--> | factor &lt;chr&gt; | AME &lt;dbl&gt; | SE &lt;dbl&gt; | z &lt;dbl&gt; | p &lt;dbl&gt; | lower &lt;dbl&gt; | upper &lt;dbl&gt; |\n",
       "|---|---|---|---|---|---|---|---|\n",
       "| 1 | age      | -0.0157193592 | 0.0023807440 | -6.6027087 | 4.037123e-11 | -0.0203855317 | -0.0110531867 |\n",
       "| 2 | educ     |  0.0394965219 | 0.0072946429 |  5.4144558 | 6.147537e-08 |  0.0251992846 |  0.0537937593 |\n",
       "| 3 | exper    |  0.0367640951 | 0.0051500235 |  7.1386267 | 9.426797e-13 |  0.0266702345 |  0.0468579557 |\n",
       "| 4 | expersq  | -0.0005632587 | 0.0001773538 | -3.1759039 | 1.493704e-03 | -0.0009108657 | -0.0002156516 |\n",
       "| 5 | kidsge6  |  0.0107348186 | 0.0133329508 |  0.8051345 | 4.207421e-01 | -0.0153972847 |  0.0368669219 |\n",
       "| 6 | kidslt6  | -0.2577536390 | 0.0319413851 | -8.0695824 | 7.053902e-16 | -0.3203576035 | -0.1951496746 |\n",
       "| 7 | nwifeinc | -0.0038118134 | 0.0014823782 | -2.5714177 | 1.012831e-02 | -0.0067172212 | -0.0009064056 |\n",
       "\n"
      ],
      "text/plain": [
       "  factor   AME           SE           z          p            lower        \n",
       "1 age      -0.0157193592 0.0023807440 -6.6027087 4.037123e-11 -0.0203855317\n",
       "2 educ      0.0394965219 0.0072946429  5.4144558 6.147537e-08  0.0251992846\n",
       "3 exper     0.0367640951 0.0051500235  7.1386267 9.426797e-13  0.0266702345\n",
       "4 expersq  -0.0005632587 0.0001773538 -3.1759039 1.493704e-03 -0.0009108657\n",
       "5 kidsge6   0.0107348186 0.0133329508  0.8051345 4.207421e-01 -0.0153972847\n",
       "6 kidslt6  -0.2577536390 0.0319413851 -8.0695824 7.053902e-16 -0.3203576035\n",
       "7 nwifeinc -0.0038118134 0.0014823782 -2.5714177 1.012831e-02 -0.0067172212\n",
       "  upper        \n",
       "1 -0.0110531867\n",
       "2  0.0537937593\n",
       "3  0.0468579557\n",
       "4 -0.0002156516\n",
       "5  0.0368669219\n",
       "6 -0.1951496746\n",
       "7 -0.0009064056"
      ]
     },
     "metadata": {},
     "output_type": "display_data"
    }
   ],
   "source": [
    "library(margins)\n",
    "\n",
    "summary(margins(logit_model))"
   ]
  },
  {
   "cell_type": "code",
   "execution_count": 10,
   "metadata": {},
   "outputs": [
    {
     "data": {
      "text/html": [
       "<table>\n",
       "<caption>A summary.margins: 7 × 7</caption>\n",
       "<thead>\n",
       "\t<tr><th></th><th scope=col>factor</th><th scope=col>AME</th><th scope=col>SE</th><th scope=col>z</th><th scope=col>p</th><th scope=col>lower</th><th scope=col>upper</th></tr>\n",
       "\t<tr><th></th><th scope=col>&lt;chr&gt;</th><th scope=col>&lt;dbl&gt;</th><th scope=col>&lt;dbl&gt;</th><th scope=col>&lt;dbl&gt;</th><th scope=col>&lt;dbl&gt;</th><th scope=col>&lt;dbl&gt;</th><th scope=col>&lt;dbl&gt;</th></tr>\n",
       "</thead>\n",
       "<tbody>\n",
       "\t<tr><th scope=row>1</th><td>age     </td><td>-0.0158956635</td><td>0.0023586800</td><td>-6.7392199</td><td>1.592392e-11</td><td>-0.0205185915</td><td>-0.0112727356</td></tr>\n",
       "\t<tr><th scope=row>2</th><td>educ    </td><td> 0.0393700931</td><td>0.0072657023</td><td> 5.4186218</td><td>6.006021e-08</td><td> 0.0251295782</td><td> 0.0536106079</td></tr>\n",
       "\t<tr><th scope=row>3</th><td>exper   </td><td> 0.0370973344</td><td>0.0051682526</td><td> 7.1779260</td><td>7.077686e-13</td><td> 0.0269677455</td><td> 0.0472269233</td></tr>\n",
       "\t<tr><th scope=row>4</th><td>expersq </td><td>-0.0005675459</td><td>0.0001770802</td><td>-3.2050227</td><td>1.350518e-03</td><td>-0.0009146167</td><td>-0.0002204752</td></tr>\n",
       "\t<tr><th scope=row>5</th><td>kidsge6 </td><td> 0.0108288871</td><td>0.0132241237</td><td> 0.8188737</td><td>4.128585e-01</td><td>-0.0150899191</td><td> 0.0367476933</td></tr>\n",
       "\t<tr><th scope=row>6</th><td>kidslt6 </td><td>-0.2611534478</td><td>0.0319024151</td><td>-8.1860087</td><td>2.700322e-16</td><td>-0.3236810325</td><td>-0.1986258632</td></tr>\n",
       "\t<tr><th scope=row>7</th><td>nwifeinc</td><td>-0.0036161755</td><td>0.0014697224</td><td>-2.4604479</td><td>1.387637e-02</td><td>-0.0064967785</td><td>-0.0007355724</td></tr>\n",
       "</tbody>\n",
       "</table>\n"
      ],
      "text/latex": [
       "A summary.margins: 7 × 7\n",
       "\\begin{tabular}{r|lllllll}\n",
       "  & factor & AME & SE & z & p & lower & upper\\\\\n",
       "  & <chr> & <dbl> & <dbl> & <dbl> & <dbl> & <dbl> & <dbl>\\\\\n",
       "\\hline\n",
       "\t1 & age      & -0.0158956635 & 0.0023586800 & -6.7392199 & 1.592392e-11 & -0.0205185915 & -0.0112727356\\\\\n",
       "\t2 & educ     &  0.0393700931 & 0.0072657023 &  5.4186218 & 6.006021e-08 &  0.0251295782 &  0.0536106079\\\\\n",
       "\t3 & exper    &  0.0370973344 & 0.0051682526 &  7.1779260 & 7.077686e-13 &  0.0269677455 &  0.0472269233\\\\\n",
       "\t4 & expersq  & -0.0005675459 & 0.0001770802 & -3.2050227 & 1.350518e-03 & -0.0009146167 & -0.0002204752\\\\\n",
       "\t5 & kidsge6  &  0.0108288871 & 0.0132241237 &  0.8188737 & 4.128585e-01 & -0.0150899191 &  0.0367476933\\\\\n",
       "\t6 & kidslt6  & -0.2611534478 & 0.0319024151 & -8.1860087 & 2.700322e-16 & -0.3236810325 & -0.1986258632\\\\\n",
       "\t7 & nwifeinc & -0.0036161755 & 0.0014697224 & -2.4604479 & 1.387637e-02 & -0.0064967785 & -0.0007355724\\\\\n",
       "\\end{tabular}\n"
      ],
      "text/markdown": [
       "\n",
       "A summary.margins: 7 × 7\n",
       "\n",
       "| <!--/--> | factor &lt;chr&gt; | AME &lt;dbl&gt; | SE &lt;dbl&gt; | z &lt;dbl&gt; | p &lt;dbl&gt; | lower &lt;dbl&gt; | upper &lt;dbl&gt; |\n",
       "|---|---|---|---|---|---|---|---|\n",
       "| 1 | age      | -0.0158956635 | 0.0023586800 | -6.7392199 | 1.592392e-11 | -0.0205185915 | -0.0112727356 |\n",
       "| 2 | educ     |  0.0393700931 | 0.0072657023 |  5.4186218 | 6.006021e-08 |  0.0251295782 |  0.0536106079 |\n",
       "| 3 | exper    |  0.0370973344 | 0.0051682526 |  7.1779260 | 7.077686e-13 |  0.0269677455 |  0.0472269233 |\n",
       "| 4 | expersq  | -0.0005675459 | 0.0001770802 | -3.2050227 | 1.350518e-03 | -0.0009146167 | -0.0002204752 |\n",
       "| 5 | kidsge6  |  0.0108288871 | 0.0132241237 |  0.8188737 | 4.128585e-01 | -0.0150899191 |  0.0367476933 |\n",
       "| 6 | kidslt6  | -0.2611534478 | 0.0319024151 | -8.1860087 | 2.700322e-16 | -0.3236810325 | -0.1986258632 |\n",
       "| 7 | nwifeinc | -0.0036161755 | 0.0014697224 | -2.4604479 | 1.387637e-02 | -0.0064967785 | -0.0007355724 |\n",
       "\n"
      ],
      "text/plain": [
       "  factor   AME           SE           z          p            lower        \n",
       "1 age      -0.0158956635 0.0023586800 -6.7392199 1.592392e-11 -0.0205185915\n",
       "2 educ      0.0393700931 0.0072657023  5.4186218 6.006021e-08  0.0251295782\n",
       "3 exper     0.0370973344 0.0051682526  7.1779260 7.077686e-13  0.0269677455\n",
       "4 expersq  -0.0005675459 0.0001770802 -3.2050227 1.350518e-03 -0.0009146167\n",
       "5 kidsge6   0.0108288871 0.0132241237  0.8188737 4.128585e-01 -0.0150899191\n",
       "6 kidslt6  -0.2611534478 0.0319024151 -8.1860087 2.700322e-16 -0.3236810325\n",
       "7 nwifeinc -0.0036161755 0.0014697224 -2.4604479 1.387637e-02 -0.0064967785\n",
       "  upper        \n",
       "1 -0.0112727356\n",
       "2  0.0536106079\n",
       "3  0.0472269233\n",
       "4 -0.0002204752\n",
       "5  0.0367476933\n",
       "6 -0.1986258632\n",
       "7 -0.0007355724"
      ]
     },
     "metadata": {},
     "output_type": "display_data"
    }
   ],
   "source": [
    "summary(margins(probit_model))"
   ]
  },
  {
   "cell_type": "markdown",
   "metadata": {},
   "source": [
    "对于连续变量，它对于因变量$p(\\mathbf{x})=\\mathrm{P}(y=1 | \\mathbf{x})$的偏效应为\n",
    "\n",
    "$$\\frac{\\partial p(\\mathbf{x})}{\\partial x_{j}}=f\\left(\\beta_{0}+\\mathbf{x} \\boldsymbol{\\beta}\\right) \\beta_{j}$$\n",
    "\n",
    "其中$f(z) \\equiv \\frac{d F}{d z}(z)$\n",
    "\n",
    "一般而言，有两种衡量偏效应\n",
    "\n",
    "- 在均值的偏效应（PEA）\n",
    "\n",
    "$$f\\left(\\hat{\\beta}_{0}+\\overline{\\mathbf{x}} \\hat{\\boldsymbol{\\beta}}\\right)=f\\left(\\hat{\\beta}_{0}+\\hat{\\beta}_{1} \\overline{x}_{1}+\\hat{\\beta}_{2} \\overline{x}_{2}+\\ldots+\\hat{\\beta}_{k} \\overline{x}_{k}\\right)$$\n",
    "\n",
    "- 平均偏效应（APE）\n",
    "\n",
    "$$n^{-1} \\sum_{i=1}^{n}\\left[f\\left(\\hat{\\beta}_{0}+\\mathbf{x}_{i} \\hat{\\boldsymbol{\\beta}}\\right) \\hat{\\beta}_{j}\\right]=\\left[n^{-1} \\sum_{i=1}^{n} f\\left(\\hat{\\beta}_{0}+\\mathbf{x}_{i} \\hat{\\boldsymbol{\\beta}}\\right)\\right] \\hat{\\beta}_{j}$$\n",
    "\n",
    "为了简便计算，也可以使用粗略计算。对于概率单位而言，$f(0)\\approx0.4$，对于对数单位而言，$f(0)\\approx0.25$。在上述例子中，这些比例因子约为$0.301$（概率单位）和$0.179$（对数单位）。"
   ]
  },
  {
   "cell_type": "markdown",
   "metadata": {},
   "source": [
    "### 模型评价\n",
    "\n",
    "我们无法像线性回归模型一样把方差分解为解释和不能解释的部分，因此惯常的$R^{2}$无法使用。"
   ]
  },
  {
   "cell_type": "markdown",
   "metadata": {},
   "source": [
    "#### 伪$R^{2}$\n",
    "\n",
    "- 使用似然函数进行比较\n",
    "\n",
    "- 比较当前模型与不包括任何解释变量的模型\n",
    "\n",
    "- 伪$R^{2}$的公式为$1-\\frac{ll_{cm}}{ll_{null}}$，其中$ll_{cm}$是当前模型的对数似然函数，$ll_{null}$是零模型的对数似然函数\n",
    "\n",
    "- 如果当前模型与零模型一样好，那么$\\frac{ll_{cm}}{ll_{null}}$趋于$1$，则伪$R^{2}$就趋于$0$；否则，它就大于$0$\n",
    "\n",
    "- 伪$R^{2}$并不是衡量模型对于数据的拟合有多好，而是和零模型相比有多好"
   ]
  },
  {
   "cell_type": "markdown",
   "metadata": {},
   "source": [
    "#### 正确预测百分比\n",
    "\n",
    "一个拟合优度的指标"
   ]
  },
  {
   "cell_type": "code",
   "execution_count": 35,
   "metadata": {},
   "outputs": [],
   "source": [
    "# predict value of logit and probit model\n",
    "logit_y_hat <- predict(logit_model, data, type=\"response\")\n",
    "probit_y_hat <- predict(probit_model, data, type=\"response\")"
   ]
  },
  {
   "cell_type": "code",
   "execution_count": 39,
   "metadata": {},
   "outputs": [
    {
     "data": {
      "text/html": [
       "'Percent correctly predicted of logit model is 73.57 %'"
      ],
      "text/latex": [
       "'Percent correctly predicted of logit model is 73.57 \\%'"
      ],
      "text/markdown": [
       "'Percent correctly predicted of logit model is 73.57 %'"
      ],
      "text/plain": [
       "[1] \"Percent correctly predicted of logit model is 73.57 %\""
      ]
     },
     "metadata": {},
     "output_type": "display_data"
    },
    {
     "data": {
      "text/html": [
       "'Percent correctly predicted of probit model is 73.44 %'"
      ],
      "text/latex": [
       "'Percent correctly predicted of probit model is 73.44 \\%'"
      ],
      "text/markdown": [
       "'Percent correctly predicted of probit model is 73.44 %'"
      ],
      "text/plain": [
       "[1] \"Percent correctly predicted of probit model is 73.44 %\""
      ]
     },
     "metadata": {},
     "output_type": "display_data"
    }
   ],
   "source": [
    "# to calculate percent correctly predicted\n",
    "logit_y_predict <- rep(1, length(logit_y_hat))\n",
    "logit_y_predict[logit_y_hat < 0.5] <- 0\n",
    "logit_pcp <- sum(logit_y_predict == data$inlf) / length(logit_y_predict) * 100\n",
    "\n",
    "probit_y_predict <- rep(1, length(probit_y_hat))\n",
    "probit_y_predict[probit_y_hat < 0.5] <- 0\n",
    "probit_pcp <- sum(probit_y_predict == data$inlf) / length(probit_y_predict) * 100\n",
    "\n",
    "sprintf(\"Percent correctly predicted of logit model is %.2f %%\", logit_pcp)\n",
    "sprintf(\"Percent correctly predicted of probit model is %.2f %%\", probit_pcp)"
   ]
  }
 ],
 "metadata": {
  "kernelspec": {
   "display_name": "R",
   "language": "R",
   "name": "ir"
  },
  "language_info": {
   "codemirror_mode": "r",
   "file_extension": ".r",
   "mimetype": "text/x-r-source",
   "name": "R",
   "pygments_lexer": "r",
   "version": "3.6.3"
  },
  "widgets": {
   "application/vnd.jupyter.widget-state+json": {
    "state": {},
    "version_major": 2,
    "version_minor": 0
   }
  }
 },
 "nbformat": 4,
 "nbformat_minor": 4
}
