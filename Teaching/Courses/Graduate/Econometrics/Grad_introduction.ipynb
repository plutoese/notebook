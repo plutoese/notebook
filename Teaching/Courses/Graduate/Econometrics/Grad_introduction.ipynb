{
 "cells": [
  {
   "cell_type": "markdown",
   "id": "magnetic-andrews",
   "metadata": {},
   "source": [
    "# 中级计量经济学\n",
    "------"
   ]
  },
  {
   "cell_type": "markdown",
   "id": "challenging-diving",
   "metadata": {},
   "source": [
    "## 课程简介"
   ]
  },
  {
   "cell_type": "markdown",
   "id": "confirmed-director",
   "metadata": {},
   "source": [
    "### 教材\n",
    "\n",
    "**主要教材**\n",
    "\n",
    "- 伍德里奇《计量经济学导论》\n",
    "- 安格利斯《基本无害的计量经济学》\n",
    "\n",
    "<br>\n",
    "\n",
    "**参考教材**\n",
    "\n",
    "- 斯托克沃森《计量经济学》\n",
    "- 格林《计量经济分析》\n",
    "- 伍德里奇《横截面和面板数据的计量经济分析》"
   ]
  },
  {
   "cell_type": "markdown",
   "id": "uniform-spray",
   "metadata": {},
   "source": [
    "### 课程内容\n",
    "\n",
    "**基础模块**\n",
    "\n",
    "- 导论\n",
    "- 横截面的线性回归分析\n",
    "- 时间序列分析\n",
    "- 面板数据分析\n",
    "- 工具变量估计\n",
    "- 二值因变量模型\n",
    "\n",
    "<br>\n",
    "\n",
    "**拓展模块**\n",
    "\n",
    "- 政策评估的计量方法\n",
    "- 空间计量分析初步\n",
    "- 机器学习与计量经济分析"
   ]
  },
  {
   "cell_type": "markdown",
   "id": "threaded-religion",
   "metadata": {},
   "source": [
    "### 其他\n",
    "\n",
    "**课程评分**\n",
    "\n",
    "- 期末测评（60%或70%）\n",
    "- 平时测评（40%或30%）\n",
    "    - 签到（20%）\n",
    "    - 作业（40%）\n",
    "    - 课堂表现（40%）\n",
    "    \n",
    "<br>\n",
    "\n",
    "**软件**\n",
    "\n",
    "- Stata\n",
    "- Python\n",
    "- R"
   ]
  },
  {
   "cell_type": "markdown",
   "id": "expected-convert",
   "metadata": {},
   "source": [
    "## 计量经济学引言"
   ]
  },
  {
   "cell_type": "markdown",
   "id": "affected-arrangement",
   "metadata": {},
   "source": [
    "### 什么是计量经济学？\n",
    "\n",
    "> 计量经济学的主要目标应该是推动研究经济问题的理论定量方法和经验定量方法的统一，并促进具有创造性和严密思想的研究，这些思想与支配着自然科学的思想类似。 \n",
    ">\n",
    "> 我们不能把计量经济学看成是数学在经济学中的应用。经验表明，要真正理解现代经济生活中的数理关系，统计学、经济理论和数学三方面都是必需的，但没有哪一个方面是足够的，这三个方面的结合才是有力的。正是这种结合构成了计量经济学的内容。\n",
    ">                                                           \n",
    ">                                                                                         --- Fisher（1933，计量经济学学刊(Econometrica)创刊号）"
   ]
  },
  {
   "cell_type": "markdown",
   "id": "manual-fundamentals",
   "metadata": {},
   "source": [
    "### 计量经济学与统计学\n",
    "\n",
    "> 计量经济学主要考虑在搜集和分析非实验经济数据（或观测数据）时的固有问题。计量经济学家总会借用数理统计学家的一些方法。多元回归分析方法虽然在上述两个领域都是主要支柱，但其着眼点和内涵可以极为不同。"
   ]
  },
  {
   "cell_type": "markdown",
   "id": "previous-message",
   "metadata": {},
   "source": [
    "### 计量经济学的目标 —— 因果关系\n",
    "\n",
    "**因果关系**\n",
    "\n",
    "> 因果关系首先是一个哲学概念，但哲学上迄今没有给出普遍、严格、可量化的定义，社会科学对因果关系的测度更多地是基于某一角度的考虑。\n",
    "\n",
    "<br>\n",
    "\n",
    "**有效识别因果关系的困难之处**\n",
    "\n",
    "> Stock和Watson( 2007) 指出，因果效应(casual effect)可以定义为，在一个理想的随机化控制实验中，一个给定的行为或处理对某一结果的影响。Wold(1969)明确指出，计量经济学想成为一种基础创新的科学方法，关键在于必须克服由于缺少实验所带来的局限性。\n",
    "\n",
    "<br>\n",
    "\n",
    "**计量经济学如何识别因果效应**\n",
    "\n",
    "研究者往往通过在回归方程中引入足够多的控制变量来构造一种类似于实验的环境，即获得关注变量的净效应(Woodridge，2003; Stock，2010)。"
   ]
  }
 ],
 "metadata": {
  "kernelspec": {
   "display_name": "Stata",
   "language": "stata",
   "name": "stata"
  },
  "language_info": {
   "codemirror_mode": "stata",
   "file_extension": ".do",
   "mimetype": "text/x-stata",
   "name": "stata",
   "version": "15.1"
  },
  "widgets": {
   "application/vnd.jupyter.widget-state+json": {
    "state": {},
    "version_major": 2,
    "version_minor": 0
   }
  }
 },
 "nbformat": 4,
 "nbformat_minor": 5
}
