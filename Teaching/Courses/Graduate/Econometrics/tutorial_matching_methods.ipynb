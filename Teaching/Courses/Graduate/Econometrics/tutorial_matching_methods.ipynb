{
 "cells": [
  {
   "cell_type": "markdown",
   "metadata": {},
   "source": [
    "# 因果关系的匹配研究方法概述"
   ]
  },
  {
   "cell_type": "markdown",
   "metadata": {},
   "source": [
    "## 使用匹配的动因：观测数据与因果推断的基本问题\n",
    "\n",
    "我们可以使用Lalonde数据集来作为一个案例加以阐述。数据集中包含了个体的特征背景，其中一些人选择了参加工作培训，另一些则没有。这个培训项目是美国人力资源拓展公司（the Manpower Demonstration Research Corporation）针对近期失业的妇女、前吸毒成瘾者、有犯罪前科者以及高中辍学者在十个州实施的项目。数据集中包括了参与项目和未参与项目个体在培训后一年的年收入。\n",
    "\n",
    "均值差异估计（即处理组与控制组的平均收入差异）得到的结论是接受培训项目的个体比未参与的平均少挣635美元一年。\n",
    "\n",
    "<div align=center>\n",
    "<img src=\"https://humboldt-wi.github.io/blog/img/seminar/mathcing_methods_1819/SN1.png\" width = \"50%\" />\n",
    "</div>\n",
    "\n",
    "从这个项目本身来看，是否参与项目是由个体的特征所决定的，因此控制组和处理组有显著差异，最终导致估计的处理效应有偏误。\n",
    "\n",
    "对于因果效应，最简洁和基础的方法是随机抽取，从而使得处理组和控制组的特征没有系统性差异，即两组特征是平衡的（successfully balance subject’s characteristics across the different treatment groups），从而去除选择性偏误。"
   ]
  },
  {
   "cell_type": "markdown",
   "metadata": {},
   "source": [
    "## 匹配的界定、历史及因果论证\n",
    "\n",
    "**匹配**\n",
    "\n",
    "- 最初的文献来自于Rosenbaum和Rubin（1983）\n",
    "\n",
    "- 它是估计处理效应两步法的第一步\n",
    "\n",
    "- 它为后续统计分析准备数据，本身并不是一个独立的估计方法\n",
    "\n",
    "\n",
    "\n",
    "<div align=center>\n",
    "<img src=\"https://humboldt-wi.github.io/blog/img/seminar/mathcing_methods_1819/SN2.png\" width = \"40%\" />\n",
    "</div>\n",
    "\n",
    "**如何实现匹配**\n",
    "\n",
    "- 定义“接近（closeness）”的度量\n",
    "\n",
    "<div align=center>\n",
    "<img src=\"https://humboldt-wi.github.io/blog/img/seminar/mathcing_methods_1819/SN3.png\" width = \"40%\" />\n",
    "</div>\n",
    "\n",
    "- 协变量平衡\n",
    "\n",
    "<div align=center>\n",
    "<img src=\"https://humboldt-wi.github.io/blog/img/seminar/mathcing_methods_1819/SN4.png\" width = \"40%\" />\n",
    "</div>\n",
    "\n",
    "\n",
    "<div align=center>\n",
    "<img src=\"https://humboldt-wi.github.io/blog/img/seminar/mathcing_methods_1819/SN5.png\" width = \"70%\" />\n",
    "</div>\n",
    "\n",
    "- 估计ATT\n",
    "\n",
    "<div align=center>\n",
    "<img src=\"https://humboldt-wi.github.io/blog/img/seminar/mathcing_methods_1819/SN6.png\" width = \"50%\" />\n",
    "</div>"
   ]
  },
  {
   "cell_type": "markdown",
   "metadata": {},
   "source": [
    "## 统计框架和假设\n",
    "\n",
    "- 对于个体$i(i=1, \\ldots, n)$，$T_{i}$代表处理变量，因此$T_{i}=1$代表在处理组的个体，而$T_{i}=0$代表不在处理组的个体。\n",
    "\n",
    "- 假设$Y_{i}(t)$（其中$t=0,1$）代表结果变量。对于每个观测值，$Y_{i}(0)$或者$Y_{i}(1)$中只有一个能观察到。\n",
    "\n",
    "- 假设$X$为协变量向量\n",
    "\n",
    "- 假设$TE_{i}$为个体处理效应，定义为$TE_{i}= Y_{i}(1) - Y_{i}(0)$。对于处理组的个体，只有$Y_{i}(1)$能被观察到。\n",
    "\n",
    "<div align=center>\n",
    "<img src=\"https://humboldt-wi.github.io/blog/img/seminar/mathcing_methods_1819/SN7.png\" width = \"40%\" />\n",
    "</div>\n",
    "\n",
    "**为什么使用匹配**\n",
    "\n",
    "<div align=center>\n",
    "<img src=\"https://humboldt-wi.github.io/blog/img/seminar/mathcing_methods_1819/SN9.png\" width = \"60%\" />\n",
    "</div>"
   ]
  },
  {
   "cell_type": "markdown",
   "metadata": {},
   "source": [
    "## 匹配家族数\n",
    "\n",
    "<div align=center>\n",
    "<img src=\"https://humboldt-wi.github.io/blog/img/seminar/mathcing_methods_1819/SN10.png\" width = \"80%\" />\n",
    "</div>"
   ]
  },
  {
   "cell_type": "code",
   "execution_count": null,
   "metadata": {},
   "outputs": [],
   "source": []
  }
 ],
 "metadata": {
  "kernelspec": {
   "display_name": "R",
   "language": "R",
   "name": "ir"
  },
  "language_info": {
   "codemirror_mode": "r",
   "file_extension": ".r",
   "mimetype": "text/x-r-source",
   "name": "R",
   "pygments_lexer": "r",
   "version": "3.6.3"
  },
  "widgets": {
   "application/vnd.jupyter.widget-state+json": {
    "state": {},
    "version_major": 2,
    "version_minor": 0
   }
  }
 },
 "nbformat": 4,
 "nbformat_minor": 4
}
