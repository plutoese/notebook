{
 "cells": [
  {
   "cell_type": "markdown",
   "metadata": {},
   "source": [
    "# 双重差分法及其拓展"
   ]
  },
  {
   "cell_type": "markdown",
   "metadata": {},
   "source": [
    "双重差分法是政策分析中常用的方法之一。"
   ]
  },
  {
   "cell_type": "markdown",
   "metadata": {},
   "source": [
    "## 一个阐述性的案例"
   ]
  },
  {
   "cell_type": "markdown",
   "metadata": {},
   "source": [
    "### 简要说明\n",
    "\n",
    "假设存在两个组，分别是控制组和处理组，在政策干预前后见下图。\n",
    "\n",
    "<div align=center>\n",
    "<img src=\"https://ds4ps.org/PROG-EVAL-III/DiffInDiff_files/figure-html/diffindiff-1.png\" width = \"60%\" />\n",
    "</div>\n",
    "\n",
    "因此可见，所谓的双重差分法其实是两个组均值差异的差异。具体用公式表达为\n",
    "\n",
    "$$(Treatment_post - Treatment_pre) - (Control_post - Control_pre) = DID estimate$$\n",
    "\n",
    "那么上图中的DD估计值为\n",
    "\n",
    "$$(85-50)-(55-35)=15$$\n",
    "\n",
    "也可以用下表来表示\n",
    "\n",
    "<div align=center>\n",
    "<img src=\"https://ds4ps.org/PROG-EVAL-III/FIGURE/DiffInDiff/Picture1.1.png\" width = \"50%\" />\n",
    "</div>"
   ]
  },
  {
   "cell_type": "markdown",
   "metadata": {},
   "source": [
    "### DID的计量模型\n",
    "\n",
    "$$Y =\\beta_{0}+\\beta_{1} \\times Treatment +\\beta_{2} \\times Post +\\beta_{3} \\times Treatment \\times Post +\\mu $$"
   ]
  },
  {
   "cell_type": "markdown",
   "metadata": {},
   "source": [
    "#### 样本数据"
   ]
  },
  {
   "cell_type": "code",
   "execution_count": 2,
   "metadata": {},
   "outputs": [
    {
     "data": {
      "text/html": [
       "<table>\n",
       "<caption>A data.frame: 8 × 3</caption>\n",
       "<thead>\n",
       "\t<tr><th scope=col>Y</th><th scope=col>T</th><th scope=col>P</th></tr>\n",
       "\t<tr><th scope=col>&lt;dbl&gt;</th><th scope=col>&lt;dbl&gt;</th><th scope=col>&lt;dbl&gt;</th></tr>\n",
       "</thead>\n",
       "<tbody>\n",
       "\t<tr><td>74</td><td>1</td><td>1</td></tr>\n",
       "\t<tr><td>46</td><td>1</td><td>0</td></tr>\n",
       "\t<tr><td>96</td><td>1</td><td>1</td></tr>\n",
       "\t<tr><td>54</td><td>1</td><td>0</td></tr>\n",
       "\t<tr><td>50</td><td>0</td><td>1</td></tr>\n",
       "\t<tr><td>30</td><td>0</td><td>0</td></tr>\n",
       "\t<tr><td>60</td><td>0</td><td>1</td></tr>\n",
       "\t<tr><td>40</td><td>0</td><td>0</td></tr>\n",
       "</tbody>\n",
       "</table>\n"
      ],
      "text/latex": [
       "A data.frame: 8 × 3\n",
       "\\begin{tabular}{lll}\n",
       " Y & T & P\\\\\n",
       " <dbl> & <dbl> & <dbl>\\\\\n",
       "\\hline\n",
       "\t 74 & 1 & 1\\\\\n",
       "\t 46 & 1 & 0\\\\\n",
       "\t 96 & 1 & 1\\\\\n",
       "\t 54 & 1 & 0\\\\\n",
       "\t 50 & 0 & 1\\\\\n",
       "\t 30 & 0 & 0\\\\\n",
       "\t 60 & 0 & 1\\\\\n",
       "\t 40 & 0 & 0\\\\\n",
       "\\end{tabular}\n"
      ],
      "text/markdown": [
       "\n",
       "A data.frame: 8 × 3\n",
       "\n",
       "| Y &lt;dbl&gt; | T &lt;dbl&gt; | P &lt;dbl&gt; |\n",
       "|---|---|---|\n",
       "| 74 | 1 | 1 |\n",
       "| 46 | 1 | 0 |\n",
       "| 96 | 1 | 1 |\n",
       "| 54 | 1 | 0 |\n",
       "| 50 | 0 | 1 |\n",
       "| 30 | 0 | 0 |\n",
       "| 60 | 0 | 1 |\n",
       "| 40 | 0 | 0 |\n",
       "\n"
      ],
      "text/plain": [
       "  Y  T P\n",
       "1 74 1 1\n",
       "2 46 1 0\n",
       "3 96 1 1\n",
       "4 54 1 0\n",
       "5 50 0 1\n",
       "6 30 0 0\n",
       "7 60 0 1\n",
       "8 40 0 0"
      ]
     },
     "metadata": {},
     "output_type": "display_data"
    }
   ],
   "source": [
    "DID_demo_data <- data.frame(Y=c(74,46,96,54,50,30,60,40),T=c(1,1,1,1,0,0,0,0),P=c(1,0,1,0,1,0,1,0))\n",
    "DID_demo_data"
   ]
  },
  {
   "cell_type": "markdown",
   "metadata": {},
   "source": [
    "#### 回归结果\n",
    "\n",
    "假设上述模型可以得到的回归结果如下"
   ]
  },
  {
   "cell_type": "code",
   "execution_count": 7,
   "metadata": {},
   "outputs": [
    {
     "name": "stdout",
     "output_type": "stream",
     "text": [
      "\n",
      "===============================================\n",
      "                        Dependent variable:    \n",
      "                    ---------------------------\n",
      "                              Outcome          \n",
      "                                               \n",
      "-----------------------------------------------\n",
      "Intercept (B0)               35.00***          \n",
      "                              (6.84)           \n",
      "                                               \n",
      "Treatment (B1)                 15.00           \n",
      "                              (9.67)           \n",
      "                                               \n",
      "Post-treatment (B2)            20.00           \n",
      "                              (9.67)           \n",
      "                                               \n",
      "DID (B3)                       15.00           \n",
      "                              (13.67)          \n",
      "                                               \n",
      "===============================================\n",
      "===============================================\n",
      "Note:               *p<0.1; **p<0.05; ***p<0.01\n"
     ]
    }
   ],
   "source": [
    "library(stargazer)\n",
    "\n",
    "reg = lm(Y ~ T + P + T*P, data=DID_demo_data)\n",
    "\n",
    "stargazer( reg, \n",
    "           type = \"text\", \n",
    "           dep.var.labels = (\"Outcome\"),\n",
    "           column.labels = c(\"\"),\n",
    "           covariate.labels = c(\"Intercept (B0)\", \"Treatment (B1)\", \"Post-treatment (B2)\", \"DID (B3)\"),\n",
    "           omit.stat = \"all\", \n",
    "           digits = 2, intercept.bottom = FALSE )"
   ]
  },
  {
   "cell_type": "markdown",
   "metadata": {},
   "source": [
    "#### 系数解释\n",
    "\n",
    "对于系数的基本含义，用下列图片解释\n",
    "\n",
    "<div align=center>\n",
    "<img src=\"https://ds4ps.org/PROG-EVAL-III/DiffInDiff_files/figure-html/beta0-1.png\" width = \"60%\" />\n",
    "</div>\n",
    "\n",
    "<div align=center>\n",
    "<img src=\"https://ds4ps.org/PROG-EVAL-III/DiffInDiff_files/figure-html/beta1-1.png\" width = \"60%\" />\n",
    "</div>\n",
    "\n",
    "<div align=center>\n",
    "<img src=\"https://ds4ps.org/PROG-EVAL-III/DiffInDiff_files/figure-html/beta2-1.png\" width = \"60%\" />\n",
    "</div>\n",
    "\n",
    "<div align=center>\n",
    "<img src=\"https://ds4ps.org/PROG-EVAL-III/DiffInDiff_files/figure-html/beta3-1.png\" width = \"60%\" />\n",
    "</div>"
   ]
  },
  {
   "cell_type": "markdown",
   "metadata": {},
   "source": [
    "### 反事实（counterfactural）\n",
    "\n",
    "为了更好地理解交互项前面的系数，就需要理解反事实。这里的反事实是指处理组，如果政策干预没有实施的潜在结果。如下图所示\n",
    "\n",
    "<div align=center>\n",
    "<img src=\"https://ds4ps.org/PROG-EVAL-III/DiffInDiff_files/figure-html/counterfactual-1.png\" width = \"60%\" />\n",
    "</div>\n",
    "\n",
    "<div align=center>\n",
    "<img src=\"https://ds4ps.org/PROG-EVAL-III/DiffInDiff_files/figure-html/CF-1.png\" width = \"60%\" />\n",
    "</div>"
   ]
  },
  {
   "cell_type": "markdown",
   "metadata": {},
   "source": [
    "### 平行趋势假设\n",
    "\n",
    "DID成立的一个关键假定在于，如果没有政策干预，那么处理组和控制组有相同的变化趋势，我们称之为平行趋势假设。见下图所示。\n",
    "\n",
    "<div align=center>\n",
    "<img src=\"https://ds4ps.org/PROG-EVAL-III/DiffInDiff_files/figure-html/pline-1.png\" width = \"60%\" />\n",
    "</div>"
   ]
  },
  {
   "cell_type": "markdown",
   "metadata": {},
   "source": [
    "### 参考\n",
    "\n",
    "点击[此处](https://ds4ps.org/PROG-EVAL-III/DiffInDiff.html)"
   ]
  },
  {
   "cell_type": "markdown",
   "metadata": {},
   "source": [
    "## 双重差分法基础\n",
    "\n",
    "政策评估方法\n",
    "\n",
    "- 事前事后比较 —— 无法控制时间趋势\n",
    "\n",
    "- 控制组和处理组比较 —— 自选择问题"
   ]
  },
  {
   "cell_type": "markdown",
   "metadata": {},
   "source": [
    "### Card和Krueger的例子\n",
    "\n",
    "**基本情况**\n",
    "\n",
    "- 讨论最低工资对就业的影响\n",
    "\n",
    "- 考虑两个州：New Jersey和Pennsylvania\n",
    "\n",
    "- New Jersey的最低工资在1992年4月1日从4.25提高到5.05\n",
    "\n",
    "- Pennsylvania的最低工资一直保持在4.25\n",
    "\n",
    "<br>\n",
    "\n",
    "**模型**\n",
    "\n",
    "- $y_{1}$是最低工资在高点时快餐业的就业\n",
    "\n",
    "- $y_{0}$是最低工资在低点时快餐业的就业\n",
    "\n",
    "则条件期望为\n",
    "\n",
    "$$E\\left(y_{0} | X\\right)=E\\left(y_{0} | s, t\\right)=\\gamma_{s}+\\lambda_{t}$$\n",
    "\n",
    "其中$s$代表州（New Jersey或Pennsylvania），$t$代表时期（2月，即最低工资提高前；11月，即最低工资提高后）。这意味如果没有最低工资的变动，两个州就业的变动是相同的。现在，加上处理效应，则\n",
    "\n",
    "$$E\\left(y_{1} | s, t\\right)=E\\left(y_{0} | s, t\\right)+\\beta=\\gamma_{s}+\\lambda_{t}+\\beta$$\n",
    "\n",
    "所以第$i$个餐厅的就业为\n",
    "\n",
    "$$y_{i}=\\gamma_{s}+\\lambda_{t}+\\beta D_{s t}+\\varepsilon_{i}$$\n",
    "\n",
    "其中$D_{st}$是虚拟变量，其中在11月的New Jersey为1，否则为0。由此可见\n",
    "\n",
    "$$E\\left(y_{i} | s=P A, t=N o v\\right)-E\\left(y_{i} | s=P A, t=F e b\\right)=\\lambda_{N o v}-\\lambda_{F e b}$$\n",
    "\n",
    "和\n",
    "\n",
    "$$E\\left(y_{i} | s=N J, t=N o v\\right)-E\\left(y_{i} | s=N J, t=F e b\\right)=\\lambda_{N o v}-\\lambda_{F e b}+\\beta_{-}$$\n",
    "\n",
    "因此\n",
    "\n",
    "$$\\begin{array}{c}\n",
    "{\\left[E\\left(y_{i} | s=P A, t=N o v\\right)-E\\left(y_{i} | s=P A, t=F e b\\right)\\right]} \\\\\n",
    "-\\left[E\\left(y_{i} | s=N J, t=N o v\\right)-E\\left(y_{i} | s=N J, t=F e b\\right)\\right]=\\beta\n",
    "\\end{array}$$\n",
    "\n",
    "那么其中的关键假设就是两个州在最低工资不提高时具有相同的就业趋势。"
   ]
  },
  {
   "cell_type": "markdown",
   "metadata": {},
   "source": [
    "### DID的回归形式"
   ]
  },
  {
   "cell_type": "markdown",
   "metadata": {},
   "source": [
    "如同上述例子，只有两个时期和两个组，那么其形式如下\n",
    "\n",
    "$$\\begin{aligned}\n",
    "y_{i} &=\\gamma_{s}+\\lambda_{t}+\\beta D_{s t}+\\varepsilon_{i} \\\\\n",
    "&=\\alpha+\\gamma 1(s=N J)+\\lambda 1(t=N o v)+\\beta 1(s=N J) \\cdot 1(t=N o v)+\\varepsilon_{i}\n",
    "\\end{aligned}$$\n",
    "\n",
    "其中$1(\\cdot)$是指示函数。\n",
    "\n",
    "由此可得\n",
    "\n",
    "$$\\begin{aligned}\n",
    "\\alpha=& E\\left(y_{i} | s=P A, t=F e b\\right) \\\\\n",
    "\\gamma=& E\\left(y_{i} | s=N J, t=F e b\\right)-E\\left(y_{i} | s=P A, t=F e b\\right) \\\\\n",
    "\\lambda=& E\\left(y_{i} | s=P A, t=N o v\\right)-E\\left(y_{i} | s=P A, t=F e b\\right) \\\\\n",
    "\\beta=&\\left[E\\left(y_{i} | s=P A, t=N o v\\right)-E\\left(y_{i} | s=P A, t=F e b\\right)\\right] \\\\\n",
    "&-\\left[E\\left(y_{i} | s=N J, t=N o v\\right)-E\\left(y_{i} | s=N J, t=F e b\\right)\\right]\n",
    "\\end{aligned}$$\n",
    "\n",
    "若存在多个州和多个时期，那么模型可写为\n",
    "\n",
    "$$y_{s t}=\\gamma_{s}+\\lambda_{t}+\\beta D_{s t}+\\epsilon_{s t}$$\n",
    "\n",
    "若用个体层面，模型可写为\n",
    "\n",
    "$$y_{i s t}=\\gamma_{s}+\\lambda_{t}+\\beta D_{s t}+X_{i s t} \\delta+\\varepsilon_{i s t}$$"
   ]
  },
  {
   "cell_type": "markdown",
   "metadata": {},
   "source": [
    "### 固定效应\n",
    "\n",
    "我们对上述个体层面的模型进行简化，得到\n",
    "\n",
    "$$y_{i t}=\\alpha_{i}+\\lambda_{t}+\\beta D_{i t}+X_{i t} \\delta+\\varepsilon_{i t}$$\n",
    "\n",
    "这个实际上就是双效应的固定效应模型"
   ]
  },
  {
   "cell_type": "code",
   "execution_count": 11,
   "metadata": {},
   "outputs": [
    {
     "name": "stdout",
     "output_type": "stream",
     "text": [
      "\n",
      "======================================\n",
      "              Dependent variable:     \n",
      "         -----------------------------\n",
      "                       y              \n",
      "            OLS           felm        \n",
      "                                      \n",
      "            (1)       (2)       (3)   \n",
      "--------------------------------------\n",
      "Constant  0.50***                     \n",
      "          (0.09)                      \n",
      "                                      \n",
      "time      0.38***                     \n",
      "          (0.12)                      \n",
      "                                      \n",
      "treated   0.42***                     \n",
      "          (0.14)                      \n",
      "                                      \n",
      "did       -0.40**   -0.40**   -0.40** \n",
      "          (0.19)    (0.19)    (0.18)  \n",
      "                                      \n",
      "======================================\n",
      "======================================\n",
      "Note:      *p<0.1; **p<0.05; ***p<0.01\n"
     ]
    }
   ],
   "source": [
    "library(tidyverse)\n",
    "library(haven)\n",
    "library(texreg)\n",
    "library(lfe)\n",
    "library(stargazer)\n",
    "\n",
    "\n",
    "dat <- read_dta(\"http://dss.princeton.edu/training/Panel101.dta\")  %>% \n",
    "  mutate(time = (year>=1994) ,\n",
    "         treated = (country>4),\n",
    "         did = time*treated)\n",
    "\n",
    "reg_ols <- lm(y_bin~ time+ treated+ did, data = dat)\n",
    "reg_fe_a <- felm(y_bin~ did | time+ treated, data = dat)\n",
    "reg_fe_b <- felm(y_bin~ did | time+ country, data = dat)\n",
    "\n",
    "stargazer( reg_ols, reg_fe_a, reg_fe_b,\n",
    "           type = \"text\", \n",
    "           dep.var.labels = (\"y_bin\"),\n",
    "           column.labels = c(\"\"),\n",
    "           omit.stat = \"all\", \n",
    "           digits = 2, intercept.bottom = FALSE )"
   ]
  },
  {
   "cell_type": "markdown",
   "metadata": {},
   "source": [
    "### 最低饮酒年龄法案的例子\n",
    "\n",
    "在1975年，阿拉巴马州将最低法定饮酒年龄降低到19岁，而与之字母顺序和地理方位上接近的阿肯色州，其最低法定饮酒年龄是21岁。那么阿拉巴马州对年轻饮酒者的放纵，是否牺牲了更多人的生命呢？\n",
    "\n",
    "利用1970-1983年间介于18-20岁的年轻人数据，构建下述双重差分回归模型\n",
    "\n",
    "$$\n",
    "\\begin{aligned}\n",
    "Y_{s t}=\\alpha &+\\beta T R E A T_{s}+\\gamma P O S T_{t} \\\\\n",
    "&+\\delta_{r D D}\\left(T R E A T_{s} \\times P O S T_{t}\\right)+e_{s t}\n",
    "\\end{aligned}\n",
    "$$\n",
    "\n",
    "<br>\n",
    "\n",
    "若存在多个州，双重差分回归模型拓展为\n",
    "\n",
    "$$\n",
    "\\begin{aligned}\n",
    "Y_{s t}=\\alpha &+\\delta_{r D D} L E G A L_{s t} \\\\\n",
    "&+\\sum_{k=\\text { Alaska }}^{\\text {Wyoming }} \\beta_{k} S T A T E_{k s}+\\sum_{j=1971}^{1983} \\gamma_{j} Y E A R_{j t}+e_{s t}\n",
    "\\end{aligned}\n",
    "$$\n",
    "\n",
    "<br>\n",
    "\n",
    "<div align=center>\n",
    "<img src=\"./pics/DID01.jpg\" width = \"45%\" />\n",
    "</div>\n",
    "\n",
    "<div align=center>\n",
    "<img src=\"./pics/DID02.jpg\" width = \"45%\" />\n",
    "</div>\n",
    "\n",
    "<div align=center>\n",
    "<img src=\"./pics/DID03.jpg\" width = \"45%\" />\n",
    "</div>\n",
    "\n",
    "<br>\n",
    "\n",
    "在包含许多州和许多年份的样本允许我们可以放松共同趋势假设，对州趋势进行控制的双重差分回归模型形如\n",
    "\n",
    "$$\n",
    "\\begin{aligned}\n",
    "Y_{s t}=\\alpha+& \\delta_{r D D} L E G A L_{s t} \\\\\n",
    "&+\\sum_{k=\\text { Alaska }}^{\\text {Wyoming }} \\beta_{k} S T A T E_{k s}+\\sum_{j=1971}^{1983} \\gamma_{j} Y E A R_{j t} \\\\\n",
    "&+\\sum_{k=\\text { Alaska }}^{\\text {Wyoming }} \\theta_{k}\\left(S T A T E_{k s} \\times t\\right)+e_{s t}\n",
    "\\end{aligned}\n",
    "$$\n",
    "\n",
    "<br>\n",
    "\n",
    "<div align=center>\n",
    "<img src=\"./pics/DID04.jpg\" width = \"50%\" />\n",
    "</div>"
   ]
  }
 ],
 "metadata": {
  "kernelspec": {
   "display_name": "R",
   "language": "R",
   "name": "ir"
  },
  "language_info": {
   "codemirror_mode": "r",
   "file_extension": ".r",
   "mimetype": "text/x-r-source",
   "name": "R",
   "pygments_lexer": "r",
   "version": "3.6.3"
  },
  "widgets": {
   "application/vnd.jupyter.widget-state+json": {
    "state": {},
    "version_major": 2,
    "version_minor": 0
   }
  }
 },
 "nbformat": 4,
 "nbformat_minor": 4
}
