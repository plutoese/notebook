{
 "cells": [
  {
   "cell_type": "markdown",
   "metadata": {},
   "source": [
    "# 多元回归分析：推断\n",
    "---"
   ]
  },
  {
   "cell_type": "markdown",
   "metadata": {},
   "source": [
    "## OLS估计量的抽样分布\n",
    "\n",
    "我们需要知道$\\hat{\\beta}_{j}$的抽样分布，所以需要对误差进行概率分布的假定。\n",
    "\n",
    "**假定MLR.6 (正态性)**\n",
    "\n",
    "总体误差$\\mu$独立于解释变量$X_{1}, X_{2}, \\ldots, X_{k}$，而且服从均值为零和方差为$\\sigma^{2}$的正态分布:$u \\sim \\text { Normal }\\left(0, \\sigma^{2}\\right)$。\n",
    "\n",
    "假定MLR.1到假定MLR.6被称为**经典线性模型（CLM）假定**。我们将这六个假定下的模型称为**经典线性模型**。\n",
    "\n",
    "总结CLM总体假定的一种简洁方法是\n",
    "\n",
    "$$y | \\mathbf{x} \\sim \\operatorname{Normal}\\left(\\beta_{0}+\\beta_{1} x_{1}+\\beta_{2} x_{2}+\\ldots+\\beta_{k} x_{k}, \\sigma^{2}\\right)$$\n",
    "\n",
    "<br>\n",
    "\n",
    "**定理4.1 正态抽样分布**\n",
    "\n",
    "在CLM假定MLR.1到MLR.6下，以自变量的样本值为条件，有\n",
    "\n",
    "$$\\hat{\\beta}_{j} \\sim \\text { Normal } \\beta_{j}, \\operatorname{Var}\\left(\\hat{\\beta}_{j}\\right) ]$$\n",
    "\n",
    "其中，$\\operatorname{Var}\\left(\\hat{\\beta}_{j}\\right)=\\frac{\\sigma^{2}}{\\operatorname{SST}_{j}\\left(1-R_{j}^{2}\\right)}$。因此\n",
    "\n",
    "$$\\left(\\hat{\\beta}_{j}-\\beta_{j}\\right) / \\operatorname{sd}\\left(\\hat{\\beta}_{j}\\right) \\sim \\text { Normal }(0,1)$$"
   ]
  },
  {
   "cell_type": "code",
   "execution_count": 1,
   "metadata": {},
   "outputs": [],
   "source": [
    "import ipystata"
   ]
  },
  {
   "cell_type": "markdown",
   "metadata": {},
   "source": [
    "## 检验对单个总体参数的假设：$t$检验\n",
    "\n",
    "**定理4.2 标准化估计量的$t$分布**\n",
    "\n",
    "在CLM假定MLR.1到MLR.6下，\n",
    "\n",
    "$$\\left(\\hat{\\beta}_{j}-\\beta_{j}\\right) / \\operatorname{se}\\left(\\hat{\\beta}_{j}\\right) \\sim t_{n-k-1}=t_{d f}$$\n",
    "\n",
    "其中，$k+1$是总体模型$y=\\beta_{0}+\\beta_{1} x_{1}+\\ldots+\\beta_{k} x_{k}+\\mu$中未知参数的个数（$k$个斜率参数和截距$\\beta_{0}$），$n-k-1$是自由度（df）。\n",
    "\n",
    "<br>\n",
    "\n",
    "在多数应用中，我们主要的兴趣在于检验**原假设（null hypothesis）**\n",
    "\n",
    "$$\\mathrm{H}_{0} : \\beta_{j}=0$$\n",
    "\n",
    "对应的**$t$统计量**被定义为\n",
    "\n",
    "$$t_{\\hat{\\beta}_{j}} \\equiv \\hat{\\beta}_{j} / \\operatorname{se}\\left(\\hat{\\beta}_{j}\\right)$$"
   ]
  },
  {
   "cell_type": "code",
   "execution_count": 2,
   "metadata": {},
   "outputs": [
    {
     "name": "stdout",
     "output_type": "stream",
     "text": [
      "\n",
      "D:\\github\\notebook\\Teaching\\Courses\\Undergraduate\\Econometrics\\data\n",
      "\n"
     ]
    }
   ],
   "source": [
    "%%stata\n",
    "\n",
    "cd \"D:\\github\\notebook\\Teaching\\Courses\\Undergraduate\\Econometrics\\data\""
   ]
  },
  {
   "cell_type": "code",
   "execution_count": 3,
   "metadata": {},
   "outputs": [
    {
     "name": "stdout",
     "output_type": "stream",
     "text": [
      "\n",
      "      Source |       SS           df       MS      Number of obs   =       141\n",
      "-------------+----------------------------------   F(3, 137)       =     13.92\n",
      "       Model |  4.53313314         3  1.51104438   Prob > F        =    0.0000\n",
      "    Residual |  14.8729663       137  .108561798   R-squared       =    0.2336\n",
      "-------------+----------------------------------   Adj R-squared   =    0.2168\n",
      "       Total |  19.4060994       140  .138614996   Root MSE        =    .32949\n",
      "\n",
      "------------------------------------------------------------------------------\n",
      "      colGPA |      Coef.   Std. Err.      t    P>|t|     [95% Conf. Interval]\n",
      "-------------+----------------------------------------------------------------\n",
      "       hsGPA |   .4118162   .0936742     4.40   0.000     .2265819    .5970505\n",
      "         ACT |   .0147202   .0105649     1.39   0.166    -.0061711    .0356115\n",
      "     skipped |  -.0831131   .0259985    -3.20   0.002    -.1345234   -.0317028\n",
      "       _cons |   1.389554   .3315535     4.19   0.000     .7339295    2.045178\n",
      "------------------------------------------------------------------------------\n",
      "\n"
     ]
    }
   ],
   "source": [
    "%%stata\n",
    "\n",
    "use GPA1, clear\n",
    "\n",
    "reg colGPA hsGPA ACT skipped"
   ]
  },
  {
   "cell_type": "markdown",
   "metadata": {},
   "source": [
    "## 检验关于参数的一个线性组合假设\n",
    "\n",
    "**例子：比较两年制大专和四年制本科教育的回报**\n",
    "\n",
    "计量模型如下\n",
    "\n",
    "$$\\log (\\text {wage})=\\beta_{0}+\\beta_{1} j c+\\beta_{2} u n i v+\\beta_{3} \\text {exper}+\\mu$$\n",
    "\n",
    "其中$jc$是就读两年制大专的年数，$univ$是就读四年制大学的年数。我们所关心的假设是$H_{0}:\\beta_{1}=\\beta_{2}$。在大多数情况下，备择假设为$H_{0}:\\beta_{1}<\\beta_{2}$。\n",
    "\n",
    "我们构建统计量如下\n",
    "\n",
    "$$t=\\frac{\\hat{\\beta}_{1}-\\hat{\\beta}_{2}}{\\operatorname{se}\\left(\\hat{\\beta}_{1}-\\hat{\\beta}_{2}\\right)}$$\n",
    "\n",
    "我们通过回归可以得到"
   ]
  },
  {
   "cell_type": "code",
   "execution_count": 6,
   "metadata": {},
   "outputs": [
    {
     "name": "stdout",
     "output_type": "stream",
     "text": [
      "\n",
      "      Source |       SS           df       MS      Number of obs   =     6,763\n",
      "-------------+----------------------------------   F(3, 6759)      =    644.53\n",
      "       Model |  357.752575         3  119.250858   Prob > F        =    0.0000\n",
      "    Residual |  1250.54352     6,759  .185019014   R-squared       =    0.2224\n",
      "-------------+----------------------------------   Adj R-squared   =    0.2221\n",
      "       Total |  1608.29609     6,762  .237843255   Root MSE        =    .43014\n",
      "\n",
      "------------------------------------------------------------------------------\n",
      "       lwage |      Coef.   Std. Err.      t    P>|t|     [95% Conf. Interval]\n",
      "-------------+----------------------------------------------------------------\n",
      "          jc |   .0666967   .0068288     9.77   0.000     .0533101    .0800833\n",
      "        univ |   .0768762   .0023087    33.30   0.000     .0723504    .0814021\n",
      "       exper |   .0049442   .0001575    31.40   0.000     .0046355    .0052529\n",
      "       _cons |   1.472326   .0210602    69.91   0.000     1.431041     1.51361\n",
      "------------------------------------------------------------------------------\n",
      "\n"
     ]
    }
   ],
   "source": [
    "%%stata\n",
    "\n",
    "use twoyear,clear\n",
    "\n",
    "reg lwage jc univ exper"
   ]
  },
  {
   "cell_type": "markdown",
   "metadata": {},
   "source": [
    "不幸的是，回归结果并没有包括$\\hat{\\boldsymbol{\\beta}}_{1}-\\hat{\\boldsymbol{\\beta}}_{2}$的标准误所需要的足够信息。因为\n",
    "\n",
    "$$\\operatorname{var}\\left(\\hat{\\beta}_{1}-\\hat{\\beta}_{2}\\right)=\\operatorname{Var}\\left(\\hat{\\beta}_{1}\\right)+\\operatorname{Var}\\left(\\hat{\\beta}_{2}\\right)-2 \\operatorname{Cov}\\left(\\hat{\\beta}_{1}, \\hat{\\beta}_{2}\\right)$$\n",
    "\n",
    "其中$\\operatorname{Cov}\\left(\\hat{\\beta}_{1}, \\hat{\\beta}_{2}\\right)$无法通过回归结果直接得到。\n",
    "\n",
    "我们可以通过对于模型的转换，得到一个可以直接给出我们所需标准误（或检验）的模型。在这个例子中，定义一个新参数$\\theta_{1}=\\beta_{1}-\\beta_{2}$，于是我们的原假设和对立假设分别变为$\\mathrm{H}_{0} : \\theta_{1}=0$和$\\mathrm{H}_{1} : \\theta_{1}<0$。我们把$\\beta_{1}=\\theta_{1}+\\beta_{2}$代入原模型，则给出方程\n",
    "\n",
    "$$\\begin{aligned} \\log (w a g e) &=\\beta_{0}+\\left(\\theta_{1}+\\beta_{2}\\right) j c+\\beta_{2} u n i v+\\beta_{3} \\text {exper}+\\mu \\\\ &=\\beta_{0}+\\theta_{1} j c+\\beta_{2}(j c+u n i v)+\\beta_{3} \\text { exper }+\\mu \\end{aligned}$$"
   ]
  },
  {
   "cell_type": "code",
   "execution_count": 12,
   "metadata": {},
   "outputs": [
    {
     "name": "stdout",
     "output_type": "stream",
     "text": [
      "\n",
      "      Source |       SS           df       MS      Number of obs   =     6,763\n",
      "-------------+----------------------------------   F(3, 6759)      =    644.53\n",
      "       Model |  357.752575         3  119.250858   Prob > F        =    0.0000\n",
      "    Residual |  1250.54352     6,759  .185019014   R-squared       =    0.2224\n",
      "-------------+----------------------------------   Adj R-squared   =    0.2221\n",
      "       Total |  1608.29609     6,762  .237843255   Root MSE        =    .43014\n",
      "\n",
      "------------------------------------------------------------------------------\n",
      "       lwage |      Coef.   Std. Err.      t    P>|t|     [95% Conf. Interval]\n",
      "-------------+----------------------------------------------------------------\n",
      "          jc |  -.0101795   .0069359    -1.47   0.142    -.0237761     .003417\n",
      "     totcoll |   .0768762   .0023087    33.30   0.000     .0723504    .0814021\n",
      "       exper |   .0049442   .0001575    31.40   0.000     .0046355    .0052529\n",
      "       _cons |   1.472326   .0210602    69.91   0.000     1.431041     1.51361\n",
      "------------------------------------------------------------------------------\n",
      "\n",
      "t statistics: -1.4782609  and P value: .06969228\n",
      "\n"
     ]
    }
   ],
   "source": [
    "%%stata\n",
    "\n",
    "reg lwage jc totcoll exper\n",
    "\n",
    "di \"t statistics:\", -0.0102/0.0069, \" and P value:\", 1-ttail(6763-4,-0.0102/0.0069)"
   ]
  },
  {
   "cell_type": "markdown",
   "metadata": {},
   "source": [
    "## 对多个线性约束的检验：F检验\n",
    "\n",
    "### 对排除性约束的检验\n",
    "\n",
    "将具有$k$个自变量的**不受约束模型**写为\n",
    "\n",
    "$$y=\\beta_{0}+\\beta_{1} x_{1}+\\ldots+\\beta_{k} x_{k}+\\mu$$\n",
    "\n",
    "原假设为\n",
    "\n",
    "$$\\mathrm{H}_{0} : \\beta_{k-q+1}=0, \\ldots, \\beta_{k}=0$$\n",
    "\n",
    "则当我们施加在$H_{0}$下的约束时，**受约束模型**为\n",
    "\n",
    "$$y=\\beta_{0}+\\beta_{1} x_{1}+\\ldots+\\beta_{k-q} x_{k-q}+\\mu$$\n",
    "\n",
    "定义**$F$统计量**为\n",
    "\n",
    "$$F \\equiv \\frac{\\left(\\mathrm{SSR}_{r}-\\mathrm{SSR}_{u r}\\right) / q}{\\mathrm{SSR}_{u r} /(n-k-1)}$$\n",
    "\n",
    "其中，$\\mathrm{SSR}_{r}$是受约束模型的残差平方和，$\\mathrm{SSR}_{u r}$是不受约束模型的残差平方和，$q$是所施加的约束数。\n",
    "\n",
    "在$H_{0}$下,$F$统计量服从自由度为$(q, n-k-1)$的$F$随机变量的分布，可写为\n",
    "\n",
    "$$F \\sim F_{q, n-k-1}$$\n",
    "\n",
    "### $F$统计量的$R^{2}$型\n",
    "\n",
    "$$F=\\frac{\\left(R_{u r}^{2}-R_{r}^{2}\\right) / q}{\\left(1-R_{u r}^{2}\\right) /(n-k-1)}=\\frac{\\left(R_{u r}^{2}-R_{r}^{2}\\right) / q}{\\left(1-R_{u r}^{2}\\right) / d f_{u r}}$$\n",
    "\n",
    "**例子：孩子出生体重方程中父母的受教育程度**"
   ]
  },
  {
   "cell_type": "code",
   "execution_count": 13,
   "metadata": {},
   "outputs": [
    {
     "name": "stdout",
     "output_type": "stream",
     "text": [
      "\n",
      "      Source |       SS           df       MS      Number of obs   =     1,191\n",
      "-------------+----------------------------------   F(5, 1185)      =      9.55\n",
      "       Model |  18705.5567         5  3741.11135   Prob > F        =    0.0000\n",
      "    Residual |  464041.135     1,185  391.595895   R-squared       =    0.0387\n",
      "-------------+----------------------------------   Adj R-squared   =    0.0347\n",
      "       Total |  482746.692     1,190  405.669489   Root MSE        =    19.789\n",
      "\n",
      "------------------------------------------------------------------------------\n",
      "       bwght |      Coef.   Std. Err.      t    P>|t|     [95% Conf. Interval]\n",
      "-------------+----------------------------------------------------------------\n",
      "        cigs |  -.5959362   .1103479    -5.40   0.000    -.8124352   -.3794373\n",
      "      parity |   1.787603   .6594055     2.71   0.007     .4938709    3.081336\n",
      "      faminc |   .0560414   .0365616     1.53   0.126    -.0156913    .1277742\n",
      "    motheduc |  -.3704503   .3198551    -1.16   0.247    -.9979957    .2570951\n",
      "    fatheduc |   .4723944   .2826433     1.67   0.095    -.0821426    1.026931\n",
      "       _cons |   114.5243   3.728453    30.72   0.000     107.2092    121.8394\n",
      "------------------------------------------------------------------------------\n",
      "\n",
      " ( 1)  motheduc = 0\n",
      " ( 2)  fatheduc = 0\n",
      "\n",
      "       F(  2,  1185) =    1.44\n",
      "            Prob > F =    0.2380\n",
      "\n",
      "      Source |       SS           df       MS      Number of obs   =     1,191\n",
      "-------------+----------------------------------   F(3, 1187)      =     14.95\n",
      "       Model |  17579.8997         3  5859.96658   Prob > F        =    0.0000\n",
      "    Residual |  465166.792     1,187  391.884408   R-squared       =    0.0364\n",
      "-------------+----------------------------------   Adj R-squared   =    0.0340\n",
      "       Total |  482746.692     1,190  405.669489   Root MSE        =    19.796\n",
      "\n",
      "------------------------------------------------------------------------------\n",
      "       bwght |      Coef.   Std. Err.      t    P>|t|     [95% Conf. Interval]\n",
      "-------------+----------------------------------------------------------------\n",
      "        cigs |  -.5978519   .1087701    -5.50   0.000    -.8112549   -.3844489\n",
      "      parity |   1.832274   .6575402     2.79   0.005     .5422035    3.122345\n",
      "      faminc |   .0670618   .0323938     2.07   0.039     .0035063    .1306173\n",
      "       _cons |   115.4699   1.655898    69.73   0.000     112.2211    118.7187\n",
      "------------------------------------------------------------------------------\n",
      "\n"
     ]
    }
   ],
   "source": [
    "%%stata\n",
    "\n",
    "use BWGHT, clear\n",
    "\n",
    "reg bwght cigs parity faminc motheduc fatheduc\n",
    "\n",
    "test motheduc fatheduc\n",
    "\n",
    "reg bwght cigs parity faminc if e(sample)"
   ]
  },
  {
   "cell_type": "markdown",
   "metadata": {},
   "source": [
    "### 回归整体显著性的$F$统计量\n",
    "\n",
    "在含有$k$个自变量的模型中，原假设可以写为\n",
    "\n",
    "$$\\mathrm{H}_{0} : \\beta_{1}=\\beta_{2}=\\ldots=\\beta_{k}=0$$\n",
    "\n",
    "则受约束模型为\n",
    "\n",
    "$$y=\\beta_{0}+\\mu$$\n",
    "\n",
    "因此$F$统计量可以写为\n",
    "\n",
    "$$\\frac{R^{2} / k}{\\left(1-R^{2}\\right) /(n-k-1)}$$\n",
    "\n",
    "<br>\n",
    "\n",
    "### 检验一般的线性约束\n",
    "\n",
    "考虑模型\n",
    "\n",
    "$$y=\\beta_{0}+\\beta_{1} x_{1}+\\beta_{2} x_{2}+\\beta_{3} x_{3}+\\beta_{4} x_{4}+\\mu$$\n",
    "\n",
    "若原假设为\n",
    "\n",
    "$$\\mathrm{H}_{0} : \\beta_{1}=1, \\beta_{2}=0, \\beta_{3}=0, \\beta_{4}=0$$\n",
    "\n",
    "则受约束模型为\n",
    "\n",
    "$$y-x_{1}=\\beta_{0}+\\mu$$\n",
    "\n",
    "此时不能使用$F$统计量的$R^{2}$型。"
   ]
  }
 ],
 "metadata": {
  "kernelspec": {
   "display_name": "Python 3",
   "language": "python",
   "name": "python3"
  },
  "language_info": {
   "codemirror_mode": {
    "name": "ipython",
    "version": 3
   },
   "file_extension": ".py",
   "mimetype": "text/x-python",
   "name": "python",
   "nbconvert_exporter": "python",
   "pygments_lexer": "ipython3",
   "version": "3.7.4"
  },
  "widgets": {
   "application/vnd.jupyter.widget-state+json": {
    "state": {},
    "version_major": 2,
    "version_minor": 0
   }
  }
 },
 "nbformat": 4,
 "nbformat_minor": 4
}
