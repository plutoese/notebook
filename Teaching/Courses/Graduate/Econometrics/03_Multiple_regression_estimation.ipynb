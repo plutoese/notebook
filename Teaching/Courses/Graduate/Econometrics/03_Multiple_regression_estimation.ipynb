{
 "cells": [
  {
   "cell_type": "markdown",
   "metadata": {},
   "source": [
    "# 多元回归分析：估计\n",
    "---"
   ]
  },
  {
   "cell_type": "markdown",
   "metadata": {},
   "source": [
    "## 使用多元回归的动因\n",
    "\n",
    "### 含有两个自变量的模型\n",
    "\n",
    "一般地，两个自变量的模型写成\n",
    "\n",
    "$$y=\\beta_{0}+\\beta_{1} x_{1}+\\beta_{2} x_{2}+\\mu$$\n",
    "\n",
    "其中$\\beta_{0}$是截距，$\\beta_{1}$度量了在其他条件不变的情况下$y$相对$x_{1}$的变化，而$\\beta_{2}$度量了在其他条件不变的情况下$y$相对$x_{2}$的变化。\n",
    "\n",
    "关于$\\mu$与$x_{1}$和$x_{2}$相关性的关键假定是\n",
    "\n",
    "$$\\mathrm{E}\\left(u | x_{1}, x_{2}\\right)=0$$\n",
    "\n",
    "### 含有$k$个自变量的模型\n",
    "\n",
    "一般的多元线性回归模型写成\n",
    "\n",
    "$$y=\\beta_{0}+\\beta_{1} x_{1}+\\beta_{2} x_{2}+\\beta_{3} x_{3}+\\ldots+\\beta_{k} x_{k}+\\mu$$\n",
    "\n",
    "一般多元回归模型的关键假定表示为\n",
    "\n",
    "$$\\mathrm{E}\\left(u | x_{1}, x_{2}, \\ldots, x_{k}\\right)=0$$"
   ]
  },
  {
   "cell_type": "markdown",
   "metadata": {},
   "source": [
    "## 普通最小二乘法的操作和解释\n",
    "\n",
    "### 多元线性回归模型的最小二乘估计量\n",
    "\n",
    "残差可以定义为\n",
    "\n",
    "$$e=y-X \\hat{\\beta}$$\n",
    "\n",
    "最小化残差平方和\n",
    "\n",
    "$$\\begin{aligned} e^{\\prime} e &=(y-X \\hat{\\beta})^{\\prime}(y-X \\hat{\\beta}) \\\\ &=y^{\\prime} y-\\hat{\\beta}^{\\prime} X^{\\prime} y-y^{\\prime} X \\hat{\\beta}+\\hat{\\beta}^{\\prime} X^{\\prime} X \\hat{\\beta} \\\\ &=y^{\\prime} y-2 \\hat{\\beta}^{\\prime} X^{\\prime} y+\\hat{\\beta}^{\\prime} X^{\\prime} X \\hat{\\beta} \\end{aligned}$$\n",
    "\n",
    "一阶条件\n",
    "\n",
    "$$\\frac{\\partial e^{\\prime} e}{\\partial \\hat{\\beta}}=-2 X^{\\prime} y+2 X^{\\prime} X \\hat{\\beta}=0$$\n",
    "\n",
    "OLS估计量\n",
    "\n",
    "$$\\hat{\\beta}=\\left(X^{\\prime} X\\right)^{-1} X^{\\prime} y$$"
   ]
  },
  {
   "cell_type": "markdown",
   "metadata": {},
   "source": [
    "### 对OLS回归方程的解释\n",
    "\n",
    "对于含有两个自变量的回归模型\n",
    "\n",
    "$$\\hat{y}=\\hat{\\beta}_{0}+\\hat{\\beta}_{1} x_{1}+\\hat{\\beta}_{2} x_{2}$$\n",
    "\n",
    "估计值$\\hat{\\beta}_{1}$和$\\hat{\\beta}_{2}$具有偏效应（partial effect）或其他条件不变的解释。从方程得到\n",
    "\n",
    "$$\\Delta \\hat{y}=\\hat{\\beta}_{1} \\Delta x_{1}+\\hat{\\beta}_{2} \\Delta x_{2}$$\n",
    "\n",
    "当$x_{2}$固定，即$\\Delta x_{2}=0$时，可以得到\n",
    "\n",
    "$$\\Delta \\hat{y}=\\hat{\\beta}_{1} \\Delta x_{1}$$\n",
    "\n",
    "**例：大学GPA的决定因素**"
   ]
  },
  {
   "cell_type": "code",
   "execution_count": 2,
   "metadata": {},
   "outputs": [
    {
     "name": "stdout",
     "output_type": "stream",
     "text": [
      "Terminated 1 unattached Stata session(s).\n"
     ]
    }
   ],
   "source": [
    "import ipystata"
   ]
  },
  {
   "cell_type": "code",
   "execution_count": 4,
   "metadata": {},
   "outputs": [
    {
     "name": "stdout",
     "output_type": "stream",
     "text": [
      "D:\\github\\notebook\\Teaching\\Courses\\Undergraduate\\Econometrics\\data\n",
      "\n"
     ]
    }
   ],
   "source": [
    "%%stata\n",
    "\n",
    "cd \"D:\\github\\notebook\\Teaching\\Courses\\Undergraduate\\Econometrics\\data\""
   ]
  },
  {
   "cell_type": "code",
   "execution_count": 3,
   "metadata": {},
   "outputs": [
    {
     "name": "stdout",
     "output_type": "stream",
     "text": [
      "\n",
      "(est1 stored)\n",
      "\n",
      "(est2 stored)\n",
      "\n",
      "--------------------------------------------\n",
      "                      (1)             (2)   \n",
      "                   colGPA          colGPA   \n",
      "--------------------------------------------\n",
      "ACT                0.0271*        0.00943   \n",
      "                 (0.0109)        (0.0108)   \n",
      "\n",
      "hsGPA                               0.453***\n",
      "                                 (0.0958)   \n",
      "\n",
      "_cons               2.403***        1.286***\n",
      "                  (0.264)         (0.341)   \n",
      "--------------------------------------------\n",
      "N                     141             141   \n",
      "R-sq                0.043           0.176   \n",
      "--------------------------------------------\n",
      "Standard errors in parentheses\n",
      "* p<0.05, ** p<0.01, *** p<0.001\n",
      "\n"
     ]
    }
   ],
   "source": [
    "%%stata\n",
    "\n",
    "use GPA1, clear\n",
    "\n",
    "eststo clear\n",
    "eststo: quietly reg colGPA ACT\n",
    "eststo: quietly reg colGPA hsGPA ACT\n",
    "esttab, se r2"
   ]
  },
  {
   "cell_type": "markdown",
   "metadata": {},
   "source": [
    "多于两个自变量的情况与此类似。OLS回归方程为\n",
    "\n",
    "$$\\hat{y}=\\hat{\\beta}_{0}+\\hat{\\beta}_{1} x_{1}+\\hat{\\beta}_{2} x_{2}+\\ldots+\\hat{\\beta}_{k} x_{k}$$\n",
    "\n",
    "用变化量表示为\n",
    "\n",
    "$$\\Delta \\hat{y}=\\hat{\\beta}_{1} \\Delta x_{1}+\\hat{\\beta}_{2} \\Delta x_{2}+\\ldots+\\hat{\\beta}_{k} \\Delta x_{k}$$\n",
    "\n",
    "$x_{1}$的系数度量的是，在所有其他条件不变的情况下，因提高一个单位的$x_{1}$而导致的$\\hat{y}$的变化，即在保持$x_{2}, x_{3}, \\ldots, x_{k}$不变的情况下\n",
    "\n",
    "$$\\Delta \\hat{y}=\\hat{\\beta}_{1} \\Delta x_{1}$$"
   ]
  },
  {
   "cell_type": "markdown",
   "metadata": {},
   "source": [
    "### 多元回归中“保持其他因素不变”的含义\n",
    "\n",
    "多元回归分析使我们能在非实验环境中去做自然科学家在受控实验中所能做的事情：保持其他条件不变。"
   ]
  },
  {
   "cell_type": "markdown",
   "metadata": {},
   "source": [
    "### 对多元回归“排除其他变量影响”的解释\n",
    "\n",
    "考虑两个自变量的回归模型\n",
    "\n",
    "$$\\hat{y}=\\hat{\\beta}_{0}+\\hat{\\beta}_{1} x_{1}+\\hat{\\beta}_{2} x_{2}$$\n",
    "\n",
    "$\\hat{\\beta}_{1}$的一种表达形式是\n",
    "\n",
    "$$\\hat{\\beta}_{1}=\\left(\\sum_{i=1}^{n} \\hat{r}_{i 1} y_{i}\\right) /\\left(\\sum_{i=1}^{n} \\hat{r}_{i 1}^{2}\\right)$$\n",
    "\n",
    "其中，$\\hat{r}_{i 1}$是利用现有样本将$x_{1}$对$x_{2}$进行简单回归得到的OLS残差。\n",
    "\n",
    "偏回归系数$\\hat{\\beta}_{1}$可以通过以下两个步骤回归得到：\n",
    "\n",
    "1. 将$x_{1}$对$x_{2}$进行简单回归得到的OLS残差$\\hat{r}_{i 1}$\n",
    "\n",
    "2. 将$y$对$\\hat{r}_{i 1}$进行简单回归就能得到$\\hat{\\beta}_{1}$"
   ]
  },
  {
   "cell_type": "markdown",
   "metadata": {},
   "source": [
    "### 简单回归和多元回归估计值的比较\n",
    "\n",
    "模型一：$$\\tilde{y} = \\tilde{\\beta}_{0} + \\tilde{\\beta}_{1} x_{1}$$\n",
    "\n",
    "模型二：$$\\hat{y} = \\hat{\\beta}_{0} + \\hat{\\beta}_{1} x_{1} + \\hat{\\beta}_{2} x_{2}$$\n",
    "\n",
    "如果模型二是正确的模型，则\n",
    "\n",
    "$$\\tilde{\\beta}_{1} = \\hat{\\beta}_{1} + \\hat{\\beta}_{2}\\tilde{\\delta}_{1}$$\n",
    "\n",
    "其中，$\\tilde{\\delta}_{1}$是$x_{i2}$对$x_{i1}$进行简单回归的斜率系数。"
   ]
  },
  {
   "cell_type": "markdown",
   "metadata": {},
   "source": [
    "### 拟合优度\n",
    "\n",
    "- 在回归中增加一个自变量后，它绝对不会减少，而且通常会增大\n",
    "\n",
    "- 判断一个解释变量是否应放入模型的依据应该是，这个解释变量在总体中对$y$的偏效应是否非零"
   ]
  },
  {
   "cell_type": "markdown",
   "metadata": {},
   "source": [
    "## OLS估计量的期望值\n",
    "\n",
    "**多元线性回归模型假定**\n",
    "\n",
    "- MLR.1 线性于参数\n",
    "\n",
    "- MLR.2 随机抽样\n",
    "\n",
    "- MLR.3 不存在完全共线性 —— 没有一个自变量是常数，自变量之间也不存在严格的线性关系\n",
    "\n",
    "- MLR.4 零条件均值 $E(\\mu|x_{1},x_{2},...x_{k}) = 0$\n",
    "\n",
    "当满足假定MLR.4时，我们常说具有**外生解释变量**，否则，$x_{j}$就被称为**内生解释变量**。\n",
    "\n",
    "- MLR.5 同方差性 $Var(\\mu|x_{1},x_{2},...x_{k}) = \\sigma^{2}$\n",
    "\n",
    "**OLS的无偏性**\n",
    "\n",
    "在假定MLR.1至MLR.4下，下式对总体参数对$\\beta_{j}$的任意值都成立，\n",
    "\n",
    "$$E(\\hat{\\beta}_{j}) = \\beta_{j},j=0,1,...,k$$\n",
    "\n",
    "即OLS估计量是总体参数的无偏估计量。"
   ]
  },
  {
   "cell_type": "markdown",
   "metadata": {},
   "source": [
    "### 在回归模型中包含了无关变量\n",
    "\n",
    "在一个多元回归模型中包含一个或多个无关变量，对模型进行了过度设定，并不会影响到OLS估计量的无偏性"
   ]
  },
  {
   "cell_type": "markdown",
   "metadata": {},
   "source": [
    "### 遗漏变量的偏误：简单情形\n",
    "\n",
    "若在模型中遗漏了重要变量$x_{2}$，则\n",
    "\n",
    "<div align=center>\n",
    "<img src=\"./pic/w005.jpg\" width = \"50%\" />\n",
    "</div>"
   ]
  },
  {
   "cell_type": "markdown",
   "metadata": {},
   "source": [
    "### 遗漏变量的偏误：更一般的情形\n",
    "\n",
    "假设总体模型\n",
    "\n",
    "$$y=\\beta_{0}+\\beta_{1} x_{1}+\\beta_{2} x_{2}+\\beta_{3} x_{3}+u$$\n",
    "\n",
    "但我们遗漏了变量$x_{3}$，并估计了模型\n",
    "\n",
    "$$\\widetilde{Y}=\\widetilde{\\beta}_{0}+\\widetilde{\\beta}_{1} x_{1}+\\widetilde{\\beta}_{2} x_{2}$$\n",
    "\n",
    "假设$x_{1}$与被遗漏变量$x_{3}$相关，但$x_{2}$却与$x_{3}$无关。那么$\\tilde{\\beta}_{1}$和$\\tilde{\\beta}_{2}$通常都是有偏误的。"
   ]
  },
  {
   "cell_type": "markdown",
   "metadata": {},
   "source": [
    "**OLS斜率估计量的抽样方差**\n",
    "\n",
    "在假定MLR.1至MLR.5下，以自变量的样本值为条件，对所有的$j=1,2,...,k$，都有\n",
    "\n",
    "$$Var(\\hat{\\beta}_{j}) = \\frac{\\sigma^{2}}{SST_{j}(1-R_{j}^{2})}$$\n",
    "\n",
    "其中，$SST_{j} = \\sum^{n}_{i=1} (x_{i}-\\bar{x})^{2}$是$x_{j}$的总样本变异，而$R_{j}^{2}$则是将$x_{j}$对所有其他自变量（并包括一个截距项）进行回归得到的$R^{2}$。\n",
    "\n",
    "$\\hat{\\beta}_{j}$的方差取决于三个因素：\n",
    "\n",
    "- 误差方差$\\sigma^{2}$\n",
    "\n",
    "- $x_{j}$的总样本波动$SST_{j}$\n",
    "\n",
    "- 自变量之间的线性关系$R^{2}_{j}$\n",
    "\n",
    "**多重共线性**\n",
    "\n",
    "两个或多个自变量之间高度（但不完全）相关被称为多重共线性。\n",
    "\n",
    "**方差膨胀因子**\n",
    "\n",
    "方差膨胀因子为$VIF_{j}=\\frac{1}{1-R^{2}_{j}}$，则\n",
    "\n",
    "$$\\operatorname{Var}\\left(\\hat{\\beta}_{j}\\right)=\\frac{\\sigma^{2}}{\\operatorname{SST}_{j}} \\cdot \\mathrm{VIF}_{j}$$"
   ]
  },
  {
   "cell_type": "markdown",
   "metadata": {},
   "source": [
    "### 误设模型中的方差\n",
    "\n",
    "假定真实总体模型写为\n",
    "\n",
    "$$y=\\beta_{0}+\\beta_{1} x_{1}+\\beta_{2} x_{2}+u$$\n",
    "\n",
    "考虑两个变量的回归模型\n",
    "\n",
    "$$\\hat{y}=\\hat{\\beta}_{0}+\\hat{\\beta}_{1} x_{1}+\\hat{\\beta}_{2} x_{2}$$\n",
    "\n",
    "$\\hat{\\beta}_{1}$的抽样方差为\n",
    "\n",
    "$$\\operatorname{Var}\\left(\\hat{\\beta}_{1}\\right)=\\sigma^{2} /\\left[\\operatorname{SST}_{1}\\left(1-R_{1}^{2}\\right)\\right]$$\n",
    "\n",
    "若模型中遗漏了变量$x_{2}$，并将$y$对$x_{1}$进行简单回归\n",
    "\n",
    "$$\\widetilde{y}=\\widetilde{\\beta}_{0}+\\widetilde{\\beta}_{1} x_{1}$$\n",
    "\n",
    "$\\tilde{\\beta}_{1}$的抽样方差为\n",
    "\n",
    "$$\\operatorname{Var}\\left(\\widetilde{\\beta}_{1}\\right)=\\sigma^{2} / \\mathrm{SST}_{1}$$\n",
    "\n",
    "讨论\n",
    "\n",
    "- 当$\\beta_{2} \\neq 0$时，$\\tilde{\\beta}_{1}$是有偏的，$\\hat{\\beta}_{1}$是无偏的，而且$\\operatorname{Var}\\left(\\widetilde{\\beta}_{1}\\right)<\\operatorname{Var}\\left(\\hat{\\beta}_{1}\\right)$\n",
    "\n",
    "- 当$\\beta_{2}=0$时，$\\tilde{\\beta}_{1}$和$\\hat{\\beta}_{1}$都是无偏的，而且$\\operatorname{Var}\\left(\\widetilde{\\beta}_{1}\\right)<\\operatorname{Var}\\left(\\hat{\\beta}_{1}\\right)$\n",
    "\n",
    "哪个估计量更好？"
   ]
  },
  {
   "cell_type": "markdown",
   "metadata": {},
   "source": [
    "### 估计$\\sigma^{2}$：OLS估计量的标准误\n",
    "\n",
    "在一般多元回归情形中，$\\sigma^{2}$的无偏估计量是\n",
    "\n",
    "$$\\hat{\\sigma}^{2}=\\left(\\sum_{i=1}^{n} \\hat{u}_{i}^{2}\\right) /(n-k-1)=\\operatorname{SSR} /(n-k-1)$$\n",
    "\n",
    "**$\\sigma^{2}$的无偏估计**\n",
    "\n",
    "在高斯-马尔可夫假定MLR.1至MLR.5下，有\n",
    "\n",
    "$$ E(\\hat{\\sigma}^{2}) = \\sigma^{2}$$"
   ]
  },
  {
   "cell_type": "markdown",
   "metadata": {},
   "source": [
    "## OLS的有效性：高斯-马尔科夫定理\n",
    "\n",
    "在假定MLR.1至MLR.5下，$\\hat{\\beta}_{0},\\hat{\\beta}_{1},...,\\hat{\\beta}_{k}$分别是$\\beta_{0},\\beta_{1},...,\\beta_{k}$的最优线性无偏估计量。"
   ]
  },
  {
   "cell_type": "markdown",
   "metadata": {},
   "source": [
    "**案例**\n",
    "\n",
    "研究问题：快餐店是否在黑人更集中的区域收更高的价格？\n",
    "\n",
    "搜集新泽西和宾夕法尼亚的各个邮区，搜集快餐店各种商品价格和人口特征方面的数据，回答以上问题。\n",
    "\n",
    "实证模型\n",
    "\n",
    "$$psoda=\\beta_{0}+\\beta_{1} prpblck+\\beta_{2} \\text { income }+ \\mu$$\n",
    "\n",
    "其中\n",
    "- 被解释变量$psoda$是苏打饮料的价格\n",
    "- $prpblck$是黑人在总人口中的比例\n",
    "- $income$是收入中位数"
   ]
  },
  {
   "cell_type": "code",
   "execution_count": 8,
   "metadata": {},
   "outputs": [
    {
     "name": "stdout",
     "output_type": "stream",
     "text": [
      "\n",
      "variable lincome already defined\n",
      "r(110);\n",
      "\n",
      "    Variable |        Obs        Mean    Std. Dev.       Min        Max\n",
      "-------------+---------------------------------------------------------\n",
      "       psoda |        402    1.044876    .0886873        .73       1.49\n",
      "     prpblck |        409    .1134864    .1824165          0   .9816579\n",
      "      income |        409    47053.78    13179.29      15919     136529\n",
      "     lincome |        409    10.71994    .2844794   9.675268   11.82429\n",
      "\n"
     ]
    }
   ],
   "source": [
    "%%stata\n",
    "\n",
    "use discrim, clear\n",
    "\n",
    "gen lincome = log(income)\n",
    "\n",
    "su psoda prpblck income lincome"
   ]
  },
  {
   "cell_type": "code",
   "execution_count": 9,
   "metadata": {},
   "outputs": [
    {
     "name": "stdout",
     "output_type": "stream",
     "text": [
      "\n",
      "(est1 stored)\n",
      "\n",
      "(est2 stored)\n",
      "\n",
      "--------------------------------------------\n",
      "                      (1)             (2)   \n",
      "                    psoda           psoda   \n",
      "--------------------------------------------\n",
      "prpblck             0.115***        0.126***\n",
      "                 (0.0260)        (0.0270)   \n",
      "\n",
      "income         0.00000160***                \n",
      "             (0.000000362)                   \n",
      "\n",
      "lincome                            0.0788***\n",
      "                                 (0.0174)   \n",
      "\n",
      "_cons               0.956***        0.186   \n",
      "                 (0.0190)         (0.188)   \n",
      "--------------------------------------------\n",
      "N                     401             401   \n",
      "R-sq                0.064           0.066   \n",
      "--------------------------------------------\n",
      "Standard errors in parentheses\n",
      "* p<0.05, ** p<0.01, *** p<0.001\n",
      "\n"
     ]
    }
   ],
   "source": [
    "%%stata\n",
    "\n",
    "eststo clear\n",
    "eststo: quietly reg psoda prpblck income\n",
    "eststo: quietly reg psoda prpblck lincome\n",
    "esttab, se r2"
   ]
  }
 ],
 "metadata": {
  "kernelspec": {
   "display_name": "Python 3",
   "language": "python",
   "name": "python3"
  },
  "language_info": {
   "codemirror_mode": {
    "name": "ipython",
    "version": 3
   },
   "file_extension": ".py",
   "mimetype": "text/x-python",
   "name": "python",
   "nbconvert_exporter": "python",
   "pygments_lexer": "ipython3",
   "version": "3.6.13"
  },
  "widgets": {
   "application/vnd.jupyter.widget-state+json": {
    "state": {},
    "version_major": 2,
    "version_minor": 0
   }
  }
 },
 "nbformat": 4,
 "nbformat_minor": 4
}
