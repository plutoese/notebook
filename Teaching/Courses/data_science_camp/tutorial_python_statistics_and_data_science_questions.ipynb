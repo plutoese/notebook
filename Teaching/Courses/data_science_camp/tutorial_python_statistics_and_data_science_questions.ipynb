{
 "cells": [
  {
   "cell_type": "markdown",
   "metadata": {},
   "source": [
    "# 基于Python的统计学与数据科学习题"
   ]
  },
  {
   "cell_type": "markdown",
   "metadata": {},
   "source": [
    "## 选择题"
   ]
  },
  {
   "cell_type": "markdown",
   "metadata": {},
   "source": [
    "1. 下面哪个软件（或程序语言）不能用作统计分析？（D）\n",
    "\n",
    "- A. R\n",
    "- B. Stata\n",
    "- C. Python\n",
    "- D. Photoshop"
   ]
  },
  {
   "cell_type": "markdown",
   "metadata": {},
   "source": [
    "2. 下面哪个Python库不用来作统计分析？（A）\n",
    "\n",
    "- requests\n",
    "- pandas\n",
    "- scipy\n",
    "- numpy"
   ]
  },
  {
   "cell_type": "markdown",
   "metadata": {},
   "source": [
    "3. 下面哪个函数是可以用来求矩阵的行列式？（C）\n",
    "\n",
    "- A. numpy.eye()\n",
    "- B. numpy.inv()\n",
    "- C. numpy.det()\n",
    "- D. numpy.linalg.eig()"
   ]
  },
  {
   "cell_type": "markdown",
   "metadata": {},
   "source": [
    "4. 若colname1是pandas库中DataFrame对象pd中的一个列名称（它是String类型），请问如果分别用pd[colname1]，pd.loc[:,colname1]和pd[[colname1]]提取子集，其返回的类型分别为（C）\n",
    "\n",
    "- A. pandas.core.frame.DataFrame，pandas.core.frame.DataFrame，pandas.core.frame.DataFrame\n",
    "- B. pandas.core.series.Series，pandas.core.series.Series，pandas.core.series.Series\n",
    "- C. pandas.core.series.Series, pandas.core.series.Series, pandas.core.frame.DataFrame\n",
    "- D. pandas.core.frame.DataFrame，pandas.core.series.Series，pandas.core.series.Series"
   ]
  },
  {
   "cell_type": "markdown",
   "metadata": {},
   "source": [
    "5. 下列哪个不是用来表示中心位置度量的统计量？（B）\n",
    "\n",
    "- A. 均值\n",
    "- B. 方差\n",
    "- C. 中位数\n",
    "- D. 众数"
   ]
  },
  {
   "cell_type": "markdown",
   "metadata": {},
   "source": [
    "6. 下列哪个不是Python的图形库（D）\n",
    "\n",
    "- matplotlib\n",
    "- bokeh\n",
    "- pyechart\n",
    "- ggplot2"
   ]
  },
  {
   "cell_type": "markdown",
   "metadata": {},
   "source": [
    "7. 生成1个均值为1，方差为9的正态分布随机值，下列哪个代码是正确的？（A）\n",
    "\n",
    "- A. scipy.stats.norm.rvs(1,3)\n",
    "- B. scipy.stats.norm.rvs(1,9)\n",
    "- C. scipy.stats.norm.pdf(1,9)\n",
    "- D. scipy.stats.norm.cdf(1,9)"
   ]
  },
  {
   "cell_type": "markdown",
   "metadata": {},
   "source": [
    "8. 下面哪个不是数据科学家的必备技能？（D）\n",
    "\n",
    "- A. 数学知识\n",
    "- B. 统计学知识\n",
    "- C. 编程技能\n",
    "- D. 文学素养"
   ]
  },
  {
   "cell_type": "markdown",
   "metadata": {},
   "source": [
    "9. 下面哪种方法一般不用来进行分类（classification）？（B）\n",
    "\n",
    "- A. 决策树\n",
    "- B. 线性回归\n",
    "- C. logistic回归\n",
    "- D. 支持向量机（SVM）"
   ]
  },
  {
   "cell_type": "markdown",
   "metadata": {},
   "source": [
    "10. 下面哪个Python库常用来进行机器学习？（C）\n",
    "\n",
    "- A. matplotlib\n",
    "- B. pandas\n",
    "- C. scikit-learn\n",
    "- D. numpy"
   ]
  },
  {
   "cell_type": "markdown",
   "metadata": {},
   "source": [
    "## 操作习题"
   ]
  },
  {
   "cell_type": "markdown",
   "metadata": {},
   "source": [
    "1. 根据讲义所用的数据集（dataset.dta），检验90-00年代和80-90年代的男性的平均身高是否存在显著差异？"
   ]
  },
  {
   "cell_type": "code",
   "execution_count": 112,
   "metadata": {},
   "outputs": [
    {
     "name": "stdout",
     "output_type": "stream",
     "text": [
      "P-Value:0.14478909243927052 T-Statistic:1.4800575556810711\n"
     ]
    }
   ],
   "source": [
    "import pandas as pd\n",
    "\n",
    "rdata = pd.read_stata(\"./data/dataset.dta\")\n",
    "listBins = [1920,1950,1960,1970,1980,1990,2000]  # 区间设置\n",
    "listLabels = ['50年代前', '50-60年代', '60-70年代', '70-80年代', '80-90年代', '90-00年代'] # 对应的区间标签\n",
    "rdata[\"period\"] = pd.cut(rdata[\"birthyear\"], bins=listBins, labels=listLabels, include_lowest=True)\n",
    "\n",
    "male_height_90 = rdata.loc[(rdata[\"gender\"]==\"男\") & (rdata[\"period\"]==\"90-00年代\"), \"height\"]\n",
    "male_height_80 = rdata.loc[(rdata[\"gender\"]==\"男\") & (rdata[\"period\"]==\"80-90年代\"), \"height\"]\n",
    "\n",
    "tStat, pValue = scipy.stats.ttest_ind(male_height_90, male_height_80, equal_var = False) #run independent sample T-Test\n",
    "print(\"P-Value:{0} T-Statistic:{1}\".format(pValue,tStat)) #print the P-Value and the T-Statistic"
   ]
  },
  {
   "cell_type": "markdown",
   "metadata": {},
   "source": [
    "2. 根据下图的数据，利用决策树回归，预测batgirl和riddler是好人还是坏人？\n",
    "\n",
    "<div align=center>\n",
    "<img src=\"https://p193.p3.n0.cdn.getcloudapp.com/items/2Nu5mepm/decision_treedemo.png?v=9816b36c9a052f6db9297f089850db16\" width = \"50%\" />\n",
    "</div>\n",
    "\n",
    "可以点击此处下载[训练数据](https://p193.p3.n0.cdn.getcloudapp.com/items/yAuY1Rw4/hero_train.csv?v=08fe36d9c8ee23009820f79b598a6e90)和[测试数据](https://p193.p3.n0.cdn.getcloudapp.com/items/Z4uYABW1/hero_test.csv?v=e37e88fd81d33b2697beb61cd814940a)"
   ]
  },
  {
   "cell_type": "code",
   "execution_count": 130,
   "metadata": {},
   "outputs": [
    {
     "name": "stdout",
     "output_type": "stream",
     "text": [
      "[1 0]\n"
     ]
    }
   ],
   "source": [
    "import pandas as pd\n",
    "import graphviz \n",
    "from sklearn import tree\n",
    "\n",
    "train_data = pd.read_csv(\"./data/hero_train.csv\")\n",
    "test_data = pd.read_csv(\"./data/hero_test.csv\")\n",
    "\n",
    "columns = ['class', 'name', 'sex', 'mask', 'cape', 'tie', 'ears', 'smokes']\n",
    "X = train_data[columns[2:]]\n",
    "y = train_data[columns[0]]\n",
    "clf = tree.DecisionTreeClassifier()\n",
    "clf = clf.fit(X, y)\n",
    "\n",
    "X_test = test_data[columns[2:]]\n",
    "y_pred=clf.predict(X_test)\n",
    "print(y_pred)"
   ]
  },
  {
   "cell_type": "code",
   "execution_count": 131,
   "metadata": {},
   "outputs": [
    {
     "data": {
      "image/svg+xml": [
       "<?xml version=\"1.0\" encoding=\"UTF-8\" standalone=\"no\"?>\r\n",
       "<!DOCTYPE svg PUBLIC \"-//W3C//DTD SVG 1.1//EN\"\r\n",
       " \"http://www.w3.org/Graphics/SVG/1.1/DTD/svg11.dtd\">\r\n",
       "<!-- Generated by graphviz version 2.44.1 (20200629.0846)\r\n",
       " -->\r\n",
       "<!-- Title: Tree Pages: 1 -->\r\n",
       "<svg width=\"283pt\" height=\"433pt\"\r\n",
       " viewBox=\"0.00 0.00 283.00 433.00\" xmlns=\"http://www.w3.org/2000/svg\" xmlns:xlink=\"http://www.w3.org/1999/xlink\">\r\n",
       "<g id=\"graph0\" class=\"graph\" transform=\"scale(1 1) rotate(0) translate(4 429)\">\r\n",
       "<title>Tree</title>\r\n",
       "<polygon fill=\"white\" stroke=\"transparent\" points=\"-4,4 -4,-429 279,-429 279,4 -4,4\"/>\r\n",
       "<!-- 0 -->\r\n",
       "<g id=\"node1\" class=\"node\">\r\n",
       "<title>0</title>\r\n",
       "<path fill=\"#ffffff\" stroke=\"black\" d=\"M202,-425C202,-425 129,-425 129,-425 123,-425 117,-419 117,-413 117,-413 117,-354 117,-354 117,-348 123,-342 129,-342 129,-342 202,-342 202,-342 208,-342 214,-348 214,-354 214,-354 214,-413 214,-413 214,-419 208,-425 202,-425\"/>\r\n",
       "<text text-anchor=\"start\" x=\"132\" y=\"-409.8\" font-family=\"Helvetica,sans-Serif\" font-size=\"14.00\">cape ≤ 0.5</text>\r\n",
       "<text text-anchor=\"start\" x=\"136.5\" y=\"-394.8\" font-family=\"Helvetica,sans-Serif\" font-size=\"14.00\">gini = 0.5</text>\r\n",
       "<text text-anchor=\"start\" x=\"126\" y=\"-379.8\" font-family=\"Helvetica,sans-Serif\" font-size=\"14.00\">samples = 6</text>\r\n",
       "<text text-anchor=\"start\" x=\"125\" y=\"-364.8\" font-family=\"Helvetica,sans-Serif\" font-size=\"14.00\">value = [3, 3]</text>\r\n",
       "<text text-anchor=\"start\" x=\"128\" y=\"-349.8\" font-family=\"Helvetica,sans-Serif\" font-size=\"14.00\">class = Bad</text>\r\n",
       "</g>\r\n",
       "<!-- 1 -->\r\n",
       "<g id=\"node2\" class=\"node\">\r\n",
       "<title>1</title>\r\n",
       "<path fill=\"#eeab7b\" stroke=\"black\" d=\"M144,-306C144,-306 71,-306 71,-306 65,-306 59,-300 59,-294 59,-294 59,-235 59,-235 59,-229 65,-223 71,-223 71,-223 144,-223 144,-223 150,-223 156,-229 156,-235 156,-235 156,-294 156,-294 156,-300 150,-306 144,-306\"/>\r\n",
       "<text text-anchor=\"start\" x=\"82\" y=\"-290.8\" font-family=\"Helvetica,sans-Serif\" font-size=\"14.00\">tie ≤ 0.5</text>\r\n",
       "<text text-anchor=\"start\" x=\"70\" y=\"-275.8\" font-family=\"Helvetica,sans-Serif\" font-size=\"14.00\">gini = 0.375</text>\r\n",
       "<text text-anchor=\"start\" x=\"68\" y=\"-260.8\" font-family=\"Helvetica,sans-Serif\" font-size=\"14.00\">samples = 4</text>\r\n",
       "<text text-anchor=\"start\" x=\"67\" y=\"-245.8\" font-family=\"Helvetica,sans-Serif\" font-size=\"14.00\">value = [3, 1]</text>\r\n",
       "<text text-anchor=\"start\" x=\"70\" y=\"-230.8\" font-family=\"Helvetica,sans-Serif\" font-size=\"14.00\">class = Bad</text>\r\n",
       "</g>\r\n",
       "<!-- 0&#45;&gt;1 -->\r\n",
       "<g id=\"edge1\" class=\"edge\">\r\n",
       "<title>0&#45;&gt;1</title>\r\n",
       "<path fill=\"none\" stroke=\"black\" d=\"M145.38,-341.91C141.1,-333.29 136.54,-324.09 132.13,-315.17\"/>\r\n",
       "<polygon fill=\"black\" stroke=\"black\" points=\"135.16,-313.43 127.59,-306.02 128.89,-316.53 135.16,-313.43\"/>\r\n",
       "<text text-anchor=\"middle\" x=\"119.6\" y=\"-326.01\" font-family=\"Helvetica,sans-Serif\" font-size=\"14.00\">True</text>\r\n",
       "</g>\r\n",
       "<!-- 6 -->\r\n",
       "<g id=\"node7\" class=\"node\">\r\n",
       "<title>6</title>\r\n",
       "<path fill=\"#399de5\" stroke=\"black\" d=\"M263,-298.5C263,-298.5 186,-298.5 186,-298.5 180,-298.5 174,-292.5 174,-286.5 174,-286.5 174,-242.5 174,-242.5 174,-236.5 180,-230.5 186,-230.5 186,-230.5 263,-230.5 263,-230.5 269,-230.5 275,-236.5 275,-242.5 275,-242.5 275,-286.5 275,-286.5 275,-292.5 269,-298.5 263,-298.5\"/>\r\n",
       "<text text-anchor=\"start\" x=\"195.5\" y=\"-283.3\" font-family=\"Helvetica,sans-Serif\" font-size=\"14.00\">gini = 0.0</text>\r\n",
       "<text text-anchor=\"start\" x=\"185\" y=\"-268.3\" font-family=\"Helvetica,sans-Serif\" font-size=\"14.00\">samples = 2</text>\r\n",
       "<text text-anchor=\"start\" x=\"184\" y=\"-253.3\" font-family=\"Helvetica,sans-Serif\" font-size=\"14.00\">value = [0, 2]</text>\r\n",
       "<text text-anchor=\"start\" x=\"182\" y=\"-238.3\" font-family=\"Helvetica,sans-Serif\" font-size=\"14.00\">class = Good</text>\r\n",
       "</g>\r\n",
       "<!-- 0&#45;&gt;6 -->\r\n",
       "<g id=\"edge6\" class=\"edge\">\r\n",
       "<title>0&#45;&gt;6</title>\r\n",
       "<path fill=\"none\" stroke=\"black\" d=\"M185.97,-341.91C191.53,-330.87 197.57,-318.9 203.18,-307.77\"/>\r\n",
       "<polygon fill=\"black\" stroke=\"black\" points=\"206.4,-309.17 207.77,-298.67 200.15,-306.02 206.4,-309.17\"/>\r\n",
       "<text text-anchor=\"middle\" x=\"215.6\" y=\"-318.71\" font-family=\"Helvetica,sans-Serif\" font-size=\"14.00\">False</text>\r\n",
       "</g>\r\n",
       "<!-- 2 -->\r\n",
       "<g id=\"node3\" class=\"node\">\r\n",
       "<title>2</title>\r\n",
       "<path fill=\"#e58139\" stroke=\"black\" d=\"M85,-179.5C85,-179.5 12,-179.5 12,-179.5 6,-179.5 0,-173.5 0,-167.5 0,-167.5 0,-123.5 0,-123.5 0,-117.5 6,-111.5 12,-111.5 12,-111.5 85,-111.5 85,-111.5 91,-111.5 97,-117.5 97,-123.5 97,-123.5 97,-167.5 97,-167.5 97,-173.5 91,-179.5 85,-179.5\"/>\r\n",
       "<text text-anchor=\"start\" x=\"19.5\" y=\"-164.3\" font-family=\"Helvetica,sans-Serif\" font-size=\"14.00\">gini = 0.0</text>\r\n",
       "<text text-anchor=\"start\" x=\"9\" y=\"-149.3\" font-family=\"Helvetica,sans-Serif\" font-size=\"14.00\">samples = 2</text>\r\n",
       "<text text-anchor=\"start\" x=\"8\" y=\"-134.3\" font-family=\"Helvetica,sans-Serif\" font-size=\"14.00\">value = [2, 0]</text>\r\n",
       "<text text-anchor=\"start\" x=\"11\" y=\"-119.3\" font-family=\"Helvetica,sans-Serif\" font-size=\"14.00\">class = Bad</text>\r\n",
       "</g>\r\n",
       "<!-- 1&#45;&gt;2 -->\r\n",
       "<g id=\"edge2\" class=\"edge\">\r\n",
       "<title>1&#45;&gt;2</title>\r\n",
       "<path fill=\"none\" stroke=\"black\" d=\"M87.03,-222.91C81.47,-211.87 75.43,-199.9 69.82,-188.77\"/>\r\n",
       "<polygon fill=\"black\" stroke=\"black\" points=\"72.85,-187.02 65.23,-179.67 66.6,-190.17 72.85,-187.02\"/>\r\n",
       "</g>\r\n",
       "<!-- 3 -->\r\n",
       "<g id=\"node4\" class=\"node\">\r\n",
       "<title>3</title>\r\n",
       "<path fill=\"#ffffff\" stroke=\"black\" d=\"M205.5,-187C205.5,-187 127.5,-187 127.5,-187 121.5,-187 115.5,-181 115.5,-175 115.5,-175 115.5,-116 115.5,-116 115.5,-110 121.5,-104 127.5,-104 127.5,-104 205.5,-104 205.5,-104 211.5,-104 217.5,-110 217.5,-116 217.5,-116 217.5,-175 217.5,-175 217.5,-181 211.5,-187 205.5,-187\"/>\r\n",
       "<text text-anchor=\"start\" x=\"123.5\" y=\"-171.8\" font-family=\"Helvetica,sans-Serif\" font-size=\"14.00\">smokes ≤ 0.5</text>\r\n",
       "<text text-anchor=\"start\" x=\"137.5\" y=\"-156.8\" font-family=\"Helvetica,sans-Serif\" font-size=\"14.00\">gini = 0.5</text>\r\n",
       "<text text-anchor=\"start\" x=\"127\" y=\"-141.8\" font-family=\"Helvetica,sans-Serif\" font-size=\"14.00\">samples = 2</text>\r\n",
       "<text text-anchor=\"start\" x=\"126\" y=\"-126.8\" font-family=\"Helvetica,sans-Serif\" font-size=\"14.00\">value = [1, 1]</text>\r\n",
       "<text text-anchor=\"start\" x=\"129\" y=\"-111.8\" font-family=\"Helvetica,sans-Serif\" font-size=\"14.00\">class = Bad</text>\r\n",
       "</g>\r\n",
       "<!-- 1&#45;&gt;3 -->\r\n",
       "<g id=\"edge3\" class=\"edge\">\r\n",
       "<title>1&#45;&gt;3</title>\r\n",
       "<path fill=\"none\" stroke=\"black\" d=\"M127.97,-222.91C132.32,-214.29 136.95,-205.09 141.45,-196.17\"/>\r\n",
       "<polygon fill=\"black\" stroke=\"black\" points=\"144.69,-197.53 146.07,-187.02 138.44,-194.37 144.69,-197.53\"/>\r\n",
       "</g>\r\n",
       "<!-- 4 -->\r\n",
       "<g id=\"node5\" class=\"node\">\r\n",
       "<title>4</title>\r\n",
       "<path fill=\"#399de5\" stroke=\"black\" d=\"M146,-68C146,-68 69,-68 69,-68 63,-68 57,-62 57,-56 57,-56 57,-12 57,-12 57,-6 63,0 69,0 69,0 146,0 146,0 152,0 158,-6 158,-12 158,-12 158,-56 158,-56 158,-62 152,-68 146,-68\"/>\r\n",
       "<text text-anchor=\"start\" x=\"78.5\" y=\"-52.8\" font-family=\"Helvetica,sans-Serif\" font-size=\"14.00\">gini = 0.0</text>\r\n",
       "<text text-anchor=\"start\" x=\"68\" y=\"-37.8\" font-family=\"Helvetica,sans-Serif\" font-size=\"14.00\">samples = 1</text>\r\n",
       "<text text-anchor=\"start\" x=\"67\" y=\"-22.8\" font-family=\"Helvetica,sans-Serif\" font-size=\"14.00\">value = [0, 1]</text>\r\n",
       "<text text-anchor=\"start\" x=\"65\" y=\"-7.8\" font-family=\"Helvetica,sans-Serif\" font-size=\"14.00\">class = Good</text>\r\n",
       "</g>\r\n",
       "<!-- 3&#45;&gt;4 -->\r\n",
       "<g id=\"edge4\" class=\"edge\">\r\n",
       "<title>3&#45;&gt;4</title>\r\n",
       "<path fill=\"none\" stroke=\"black\" d=\"M144.53,-103.73C139.86,-95.06 134.92,-85.9 130.23,-77.18\"/>\r\n",
       "<polygon fill=\"black\" stroke=\"black\" points=\"133.27,-75.44 125.44,-68.3 127.1,-78.76 133.27,-75.44\"/>\r\n",
       "</g>\r\n",
       "<!-- 5 -->\r\n",
       "<g id=\"node6\" class=\"node\">\r\n",
       "<title>5</title>\r\n",
       "<path fill=\"#e58139\" stroke=\"black\" d=\"M261,-68C261,-68 188,-68 188,-68 182,-68 176,-62 176,-56 176,-56 176,-12 176,-12 176,-6 182,0 188,0 188,0 261,0 261,0 267,0 273,-6 273,-12 273,-12 273,-56 273,-56 273,-62 267,-68 261,-68\"/>\r\n",
       "<text text-anchor=\"start\" x=\"195.5\" y=\"-52.8\" font-family=\"Helvetica,sans-Serif\" font-size=\"14.00\">gini = 0.0</text>\r\n",
       "<text text-anchor=\"start\" x=\"185\" y=\"-37.8\" font-family=\"Helvetica,sans-Serif\" font-size=\"14.00\">samples = 1</text>\r\n",
       "<text text-anchor=\"start\" x=\"184\" y=\"-22.8\" font-family=\"Helvetica,sans-Serif\" font-size=\"14.00\">value = [1, 0]</text>\r\n",
       "<text text-anchor=\"start\" x=\"187\" y=\"-7.8\" font-family=\"Helvetica,sans-Serif\" font-size=\"14.00\">class = Bad</text>\r\n",
       "</g>\r\n",
       "<!-- 3&#45;&gt;5 -->\r\n",
       "<g id=\"edge5\" class=\"edge\">\r\n",
       "<title>3&#45;&gt;5</title>\r\n",
       "<path fill=\"none\" stroke=\"black\" d=\"M188.1,-103.73C192.69,-95.06 197.54,-85.9 202.16,-77.18\"/>\r\n",
       "<polygon fill=\"black\" stroke=\"black\" points=\"205.27,-78.77 206.86,-68.3 199.09,-75.5 205.27,-78.77\"/>\r\n",
       "</g>\r\n",
       "</g>\r\n",
       "</svg>\r\n"
      ],
      "text/plain": [
       "<graphviz.files.Source at 0x1d194c17088>"
      ]
     },
     "execution_count": 131,
     "metadata": {},
     "output_type": "execute_result"
    }
   ],
   "source": [
    "dot_data = tree.export_graphviz(clf, out_file=None, feature_names=columns[2:],  class_names=[\"Bad\",\"Good\"],  filled=True, rounded=True,  special_characters=True)  \n",
    "graph = graphviz.Source(dot_data)  \n",
    "graph"
   ]
  }
 ],
 "metadata": {
  "kernelspec": {
   "display_name": "Python 3",
   "language": "python",
   "name": "python3"
  },
  "language_info": {
   "codemirror_mode": {
    "name": "ipython",
    "version": 3
   },
   "file_extension": ".py",
   "mimetype": "text/x-python",
   "name": "python",
   "nbconvert_exporter": "python",
   "pygments_lexer": "ipython3",
   "version": "3.7.4"
  },
  "widgets": {
   "application/vnd.jupyter.widget-state+json": {
    "state": {},
    "version_major": 2,
    "version_minor": 0
   }
  }
 },
 "nbformat": 4,
 "nbformat_minor": 4
}
