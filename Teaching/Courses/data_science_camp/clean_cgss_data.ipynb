{
 "cells": [
  {
   "cell_type": "markdown",
   "metadata": {},
   "source": [
    "# CGSS数据处理"
   ]
  },
  {
   "cell_type": "code",
   "execution_count": 21,
   "metadata": {},
   "outputs": [],
   "source": [
    "import pandas as pd\n",
    "\n",
    "rdata = pd.read_stata(\"./data/dataset.dta\")"
   ]
  },
  {
   "cell_type": "code",
   "execution_count": 22,
   "metadata": {},
   "outputs": [
    {
     "data": {
      "text/html": [
       "<div>\n",
       "<style scoped>\n",
       "    .dataframe tbody tr th:only-of-type {\n",
       "        vertical-align: middle;\n",
       "    }\n",
       "\n",
       "    .dataframe tbody tr th {\n",
       "        vertical-align: top;\n",
       "    }\n",
       "\n",
       "    .dataframe thead th {\n",
       "        text-align: right;\n",
       "    }\n",
       "</style>\n",
       "<table border=\"1\" class=\"dataframe\">\n",
       "  <thead>\n",
       "    <tr style=\"text-align: right;\">\n",
       "      <th></th>\n",
       "      <th>birthyear</th>\n",
       "      <th>height</th>\n",
       "      <th>weight</th>\n",
       "      <th>educ</th>\n",
       "      <th>income</th>\n",
       "      <th>famincome</th>\n",
       "      <th>spouse_educ</th>\n",
       "    </tr>\n",
       "  </thead>\n",
       "  <tbody>\n",
       "    <tr>\n",
       "      <th>count</th>\n",
       "      <td>7024.000000</td>\n",
       "      <td>7024.000000</td>\n",
       "      <td>7024.000000</td>\n",
       "      <td>7024.000000</td>\n",
       "      <td>7024.000000</td>\n",
       "      <td>7024.000000</td>\n",
       "      <td>7024.000000</td>\n",
       "    </tr>\n",
       "    <tr>\n",
       "      <th>mean</th>\n",
       "      <td>1964.199601</td>\n",
       "      <td>164.219818</td>\n",
       "      <td>123.706293</td>\n",
       "      <td>8.830154</td>\n",
       "      <td>26979.914062</td>\n",
       "      <td>59942.429688</td>\n",
       "      <td>8.728645</td>\n",
       "    </tr>\n",
       "    <tr>\n",
       "      <th>std</th>\n",
       "      <td>14.351550</td>\n",
       "      <td>7.770382</td>\n",
       "      <td>22.912618</td>\n",
       "      <td>4.527706</td>\n",
       "      <td>29879.591797</td>\n",
       "      <td>59197.296875</td>\n",
       "      <td>4.595294</td>\n",
       "    </tr>\n",
       "    <tr>\n",
       "      <th>min</th>\n",
       "      <td>1921.000000</td>\n",
       "      <td>115.000000</td>\n",
       "      <td>40.000000</td>\n",
       "      <td>0.000000</td>\n",
       "      <td>0.000000</td>\n",
       "      <td>780.000000</td>\n",
       "      <td>0.000000</td>\n",
       "    </tr>\n",
       "    <tr>\n",
       "      <th>25%</th>\n",
       "      <td>1953.000000</td>\n",
       "      <td>159.000000</td>\n",
       "      <td>110.000000</td>\n",
       "      <td>6.000000</td>\n",
       "      <td>5000.000000</td>\n",
       "      <td>20000.000000</td>\n",
       "      <td>6.000000</td>\n",
       "    </tr>\n",
       "    <tr>\n",
       "      <th>50%</th>\n",
       "      <td>1965.000000</td>\n",
       "      <td>165.000000</td>\n",
       "      <td>120.000000</td>\n",
       "      <td>9.000000</td>\n",
       "      <td>20000.000000</td>\n",
       "      <td>45000.000000</td>\n",
       "      <td>9.000000</td>\n",
       "    </tr>\n",
       "    <tr>\n",
       "      <th>75%</th>\n",
       "      <td>1975.000000</td>\n",
       "      <td>170.000000</td>\n",
       "      <td>140.000000</td>\n",
       "      <td>12.000000</td>\n",
       "      <td>38000.000000</td>\n",
       "      <td>80000.000000</td>\n",
       "      <td>12.000000</td>\n",
       "    </tr>\n",
       "    <tr>\n",
       "      <th>max</th>\n",
       "      <td>1997.000000</td>\n",
       "      <td>190.000000</td>\n",
       "      <td>260.000000</td>\n",
       "      <td>19.000000</td>\n",
       "      <td>144000.000000</td>\n",
       "      <td>300000.000000</td>\n",
       "      <td>19.000000</td>\n",
       "    </tr>\n",
       "  </tbody>\n",
       "</table>\n",
       "</div>"
      ],
      "text/plain": [
       "         birthyear       height       weight         educ         income  \\\n",
       "count  7024.000000  7024.000000  7024.000000  7024.000000    7024.000000   \n",
       "mean   1964.199601   164.219818   123.706293     8.830154   26979.914062   \n",
       "std      14.351550     7.770382    22.912618     4.527706   29879.591797   \n",
       "min    1921.000000   115.000000    40.000000     0.000000       0.000000   \n",
       "25%    1953.000000   159.000000   110.000000     6.000000    5000.000000   \n",
       "50%    1965.000000   165.000000   120.000000     9.000000   20000.000000   \n",
       "75%    1975.000000   170.000000   140.000000    12.000000   38000.000000   \n",
       "max    1997.000000   190.000000   260.000000    19.000000  144000.000000   \n",
       "\n",
       "           famincome  spouse_educ  \n",
       "count    7024.000000  7024.000000  \n",
       "mean    59942.429688     8.728645  \n",
       "std     59197.296875     4.595294  \n",
       "min       780.000000     0.000000  \n",
       "25%     20000.000000     6.000000  \n",
       "50%     45000.000000     9.000000  \n",
       "75%     80000.000000    12.000000  \n",
       "max    300000.000000    19.000000  "
      ]
     },
     "execution_count": 22,
     "metadata": {},
     "output_type": "execute_result"
    }
   ],
   "source": [
    "rdata.describe()"
   ]
  },
  {
   "cell_type": "code",
   "execution_count": 12,
   "metadata": {},
   "outputs": [
    {
     "data": {
      "text/plain": [
       "count     10968\n",
       "unique       15\n",
       "top          初中\n",
       "freq       3084\n",
       "Name: a7a, dtype: object"
      ]
     },
     "execution_count": 12,
     "metadata": {},
     "output_type": "execute_result"
    }
   ],
   "source": [
    "rdata['a7a'].describe()"
   ]
  }
 ],
 "metadata": {
  "kernelspec": {
   "display_name": "Python 3",
   "language": "python",
   "name": "python3"
  },
  "language_info": {
   "codemirror_mode": {
    "name": "ipython",
    "version": 3
   },
   "file_extension": ".py",
   "mimetype": "text/x-python",
   "name": "python",
   "nbconvert_exporter": "python",
   "pygments_lexer": "ipython3",
   "version": "3.7.4"
  },
  "widgets": {
   "application/vnd.jupyter.widget-state+json": {
    "state": {},
    "version_major": 2,
    "version_minor": 0
   }
  }
 },
 "nbformat": 4,
 "nbformat_minor": 4
}
