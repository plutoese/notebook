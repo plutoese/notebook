{
 "cells": [
  {
   "cell_type": "markdown",
   "metadata": {},
   "source": [
    "# CGSS数据处理"
   ]
  },
  {
   "cell_type": "code",
   "execution_count": 1,
   "metadata": {},
   "outputs": [],
   "source": [
    "import pandas as pd\n",
    "\n",
    "rdata = pd.read_stata(\"./data/cgss2015_14.dta\")"
   ]
  },
  {
   "cell_type": "code",
   "execution_count": 3,
   "metadata": {},
   "outputs": [
    {
     "data": {
      "text/plain": [
       "0        男\n",
       "1        男\n",
       "2        女\n",
       "3        女\n",
       "4        男\n",
       "5        男\n",
       "6        女\n",
       "7        女\n",
       "8        女\n",
       "9        男\n",
       "10       女\n",
       "11       男\n",
       "12       男\n",
       "13       男\n",
       "14       女\n",
       "15       女\n",
       "16       男\n",
       "17       女\n",
       "18       男\n",
       "19       女\n",
       "20       女\n",
       "21       男\n",
       "22       女\n",
       "23       女\n",
       "24       男\n",
       "25       女\n",
       "26       男\n",
       "27       女\n",
       "28       女\n",
       "29       女\n",
       "        ..\n",
       "10938    女\n",
       "10939    男\n",
       "10940    女\n",
       "10941    男\n",
       "10942    男\n",
       "10943    男\n",
       "10944    男\n",
       "10945    女\n",
       "10946    女\n",
       "10947    女\n",
       "10948    女\n",
       "10949    男\n",
       "10950    女\n",
       "10951    男\n",
       "10952    女\n",
       "10953    女\n",
       "10954    女\n",
       "10955    男\n",
       "10956    女\n",
       "10957    女\n",
       "10958    女\n",
       "10959    女\n",
       "10960    女\n",
       "10961    男\n",
       "10962    女\n",
       "10963    男\n",
       "10964    男\n",
       "10965    女\n",
       "10966    男\n",
       "10967    男\n",
       "Name: a2, Length: 10968, dtype: category\n",
       "Categories (2, object): [男 < 女]"
      ]
     },
     "execution_count": 3,
     "metadata": {},
     "output_type": "execute_result"
    }
   ],
   "source": [
    "rdata['a2']"
   ]
  }
 ],
 "metadata": {
  "kernelspec": {
   "display_name": "Python 3",
   "language": "python",
   "name": "python3"
  },
  "language_info": {
   "codemirror_mode": {
    "name": "ipython",
    "version": 3
   },
   "file_extension": ".py",
   "mimetype": "text/x-python",
   "name": "python",
   "nbconvert_exporter": "python",
   "pygments_lexer": "ipython3",
   "version": "3.7.4"
  },
  "widgets": {
   "application/vnd.jupyter.widget-state+json": {
    "state": {},
    "version_major": 2,
    "version_minor": 0
   }
  }
 },
 "nbformat": 4,
 "nbformat_minor": 4
}
