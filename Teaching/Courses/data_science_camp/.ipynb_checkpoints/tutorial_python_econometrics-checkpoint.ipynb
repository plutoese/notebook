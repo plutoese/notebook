{
 "cells": [
  {
   "cell_type": "markdown",
   "metadata": {},
   "source": [
    "# Python在计量经济学中的应用"
   ]
  },
  {
   "cell_type": "markdown",
   "metadata": {},
   "source": [
    "## 基本内容\n",
    "\n",
    "- 引言\n",
    "  - 计量经济学\n",
    "  - 软件与语言的选择\n",
    "  \n",
    "  \n",
    "- 永不停歇的回归 —— 线性回归模型与OLS的Python实现\n",
    "  - Python线性回归模型的第一次尝试 —— 对数工资方程\n",
    "  - 线性回归模型基本框架：估计与推断\n",
    "  - Python相关库简介：Statsmodels\n",
    "  - DIY尝试：OLS估计\n",
    "  - 对数工资方程的拓展之一：加入检验\n",
    "  - 对数工资方程的拓展之二：加入虚拟变量\n",
    "  \n",
    "  \n",
    "- 内生性的诅咒与解决 —— 更多模型与方法在Python中的实践\n",
    "  - 绕不开的内生性问题\n",
    "  - 面板数据模型：不随时间变化所引起的内生性问题的解决思路\n",
    "  - 工具变量模型：终极武器？\n",
    "  - 另辟蹊径：反事实框架和匹配方法在Python中的应用\n",
    "  \n",
    "\n",
    "- 关于计量经济学与Python更多的话题\n",
    "  - 线性模型的束缚与挑战\n",
    "  - Python与实证之路：大有可为的未来"
   ]
  },
  {
   "cell_type": "markdown",
   "metadata": {},
   "source": [
    "## 引言"
   ]
  },
  {
   "cell_type": "markdown",
   "metadata": {},
   "source": [
    "### 计量经济学\n",
    "\n",
    "<div align=center>\n",
    "<img src=\"https://p193.p3.n0.cdn.getcloudapp.com/items/12uNR2xA/econometrics.jpg?v=74432319298d9d9ccfd70521180017ce\" width = \"50%\" />\n",
    "</div>\n",
    "\n",
    "**关键词**\n",
    "\n",
    "- 观测数据\n",
    "\n",
    "- 因果关系"
   ]
  },
  {
   "cell_type": "markdown",
   "metadata": {},
   "source": [
    "### 软件与语言的选择\n",
    "\n",
    "- Stata - 现今最流行的计量经济学软件\n",
    "\n",
    "- R - 统计学、计量经济学的全能选手\n",
    "\n",
    "- Python - 冉冉升起的数值计算、统计学和计量经济学新星"
   ]
  },
  {
   "cell_type": "markdown",
   "metadata": {},
   "source": [
    "## 永不停歇的回归 —— 线性回归模型与OLS的Python实现\n",
    "\n",
    "<div align=center>\n",
    "<img src=\"https://www.scatter.co.in/wp-content/uploads/2017/04/Scatter-Icon.svg\" width = \"30%\" />\n",
    "</div>"
   ]
  },
  {
   "cell_type": "markdown",
   "metadata": {},
   "source": [
    "### Python线性回归模型的第一次尝试 —— 对数工资方程\n",
    "\n",
    "<div align=center>\n",
    "<img src=\"https://365datascience.com/wp-content/uploads/2018/11/image12-3.jpg\" width = \"50%\" />\n",
    "</div>"
   ]
  },
  {
   "cell_type": "code",
   "execution_count": 1,
   "metadata": {},
   "outputs": [
    {
     "name": "stderr",
     "output_type": "stream",
     "text": [
      "c:\\program files\\python37\\lib\\site-packages\\statsmodels\\tools\\_testing.py:19: FutureWarning: pandas.util.testing is deprecated. Use the functions in the public API at pandas.testing instead.\n",
      "  import pandas.util.testing as tm\n"
     ]
    },
    {
     "name": "stdout",
     "output_type": "stream",
     "text": [
      "                            OLS Regression Results                            \n",
      "==============================================================================\n",
      "Dep. Variable:                  lwage   R-squared:                       0.157\n",
      "Model:                            OLS   Adj. R-squared:                  0.151\n",
      "Method:                 Least Squares   F-statistic:                     26.29\n",
      "Date:                Sun, 05 Jul 2020   Prob (F-statistic):           1.30e-15\n",
      "Time:                        16:59:39   Log-Likelihood:                -431.60\n",
      "No. Observations:                 428   AIC:                             871.2\n",
      "Df Residuals:                     424   BIC:                             887.4\n",
      "Df Model:                           3                                         \n",
      "Covariance Type:            nonrobust                                         \n",
      "==============================================================================\n",
      "                 coef    std err          t      P>|t|      [0.025      0.975]\n",
      "------------------------------------------------------------------------------\n",
      "Intercept     -0.5220      0.199     -2.628      0.009      -0.912      -0.132\n",
      "educ           0.1075      0.014      7.598      0.000       0.080       0.135\n",
      "exper          0.0416      0.013      3.155      0.002       0.016       0.067\n",
      "expersq       -0.0008      0.000     -2.063      0.040      -0.002   -3.82e-05\n",
      "==============================================================================\n",
      "Omnibus:                       77.792   Durbin-Watson:                   1.961\n",
      "Prob(Omnibus):                  0.000   Jarque-Bera (JB):              300.917\n",
      "Skew:                          -0.753   Prob(JB):                     4.54e-66\n",
      "Kurtosis:                       6.822   Cond. No.                     2.21e+03\n",
      "==============================================================================\n",
      "\n",
      "Warnings:\n",
      "[1] Standard Errors assume that the covariance matrix of the errors is correctly specified.\n",
      "[2] The condition number is large, 2.21e+03. This might indicate that there are\n",
      "strong multicollinearity or other numerical problems.\n"
     ]
    }
   ],
   "source": [
    "import pandas as pd\n",
    "import statsmodels.formula.api as smf\n",
    "\n",
    "# import dataset\n",
    "df = pd.read_stata(\"http://fmwww.bc.edu/ec-p/data/wooldridge/mroz.dta\")\n",
    "\n",
    "# ols\n",
    "results = smf.ols(formula='lwage ~ educ + exper + expersq', data=df).fit()\n",
    "print(results.summary())"
   ]
  },
  {
   "cell_type": "markdown",
   "metadata": {},
   "source": [
    "### 线性回归模型基本框架：估计与推断"
   ]
  },
  {
   "cell_type": "markdown",
   "metadata": {},
   "source": [
    "多元线性回归模型的基本形式为\n",
    "\n",
    "$$y=\\beta_{0}+\\beta_{1} x_{1}+\\beta_{2} x_{2}+\\beta_{3} x_{3}+\\ldots+\\beta_{k} x_{k}+\\mu$$\n",
    "\n",
    "或者写成矩阵形式\n",
    "\n",
    "$$\\mathbf{y}=\\mathbf{X} \\boldsymbol{\\beta}+\\boldsymbol{\\varepsilon}$$\n",
    "\n",
    "回归系数为\n",
    "\n",
    "$$\\mathbf{\\hat{\\beta}}=\\left(\\mathbf{X}^{\\prime} \\mathbf{X}\\right)^{-1} \\mathbf{X}^{\\prime} \\mathbf{y}$$\n",
    "\n",
    "<br>\n",
    "\n",
    "**多元线性回归模型的高斯马尔科夫假定**\n",
    "\n",
    "- MLR.1 线性于参数\n",
    "\n",
    "- MLR.2 随机抽样\n",
    "\n",
    "- MLR.3 不存在完全共线性 —— 没有一个自变量是常数，自变量之间也不存在严格的线性关系\n",
    "\n",
    "- MLR.4 零条件均值 $E(\\mu|x_{1},x_{2},...x_{k}) = 0$\n",
    "\n",
    "当满足假定MLR.4时，我们常说具有**外生解释变量**，否则，$x_{j}$就被称为**内生解释变量**。\n",
    "\n",
    "- MLR.5 同方差性 $Var(\\mu|x_{1},x_{2},...x_{k}) = \\sigma^{2}$\n",
    "\n",
    "<br>\n",
    "\n",
    "**OLS斜率估计量的抽样方差**\n",
    "\n",
    "在假定MLR.1至MLR.5下，以自变量的样本值为条件，对所有的$j=1,2,...,k$，都有\n",
    "\n",
    "$$Var(\\hat{\\beta}_{j}) = \\frac{\\sigma^{2}}{SST_{j}(1-R_{j}^{2})}$$\n",
    "\n",
    "其中，$SST_{j} = \\sum^{n}_{i=1} (x_{i}-\\bar{x})^{2}$是$x_{j}$的总样本变异，而$R_{j}^{2}$则是将$x_{j}$对所有其他自变量（并包括一个截距项）进行回归得到的$R^{2}$。\n",
    "\n",
    "或者写成矩阵形式\n",
    "\n",
    "$$\\operatorname{Var}[\\mathbf{\\hat{\\beta}} | \\mathbf{X}]=s^{2}\\left(\\mathbf{X}^{\\prime} \\mathbf{X}\\right)^{-1}$$\n",
    "\n",
    "其中$s^{2}=\\frac{\\mathbf{e}^{\\prime} \\mathbf{e}}{n-K}$\n",
    "\n",
    "<br>\n",
    "\n",
    "**高斯-马尔科夫定理**\n",
    "\n",
    "在假定MLR.1至MLR.5下，$\\hat{\\beta}_{0},\\hat{\\beta}_{1},...,\\hat{\\beta}_{k}$分别是$\\beta_{0},\\beta_{1},...,\\beta_{k}$的最优线性无偏估计量。\n",
    "\n",
    "<br>\n",
    "\n",
    "**检验对单个总体参数的假设：$t$检验**\n",
    "\n",
    "$$\\left(\\hat{\\beta}_{j}-\\beta_{j}\\right) / \\operatorname{se}\\left(\\hat{\\beta}_{j}\\right) \\sim t_{n-k-1}=t_{d f}$$\n",
    "\n",
    "其中，$k+1$是总体模型$y=\\beta_{0}+\\beta_{1} x_{1}+\\ldots+\\beta_{k} x_{k}+\\mu$中未知参数的个数（$k$个斜率参数和截距$\\beta_{0}$），$n-k-1$是自由度（df）。\n",
    "\n",
    "<br>\n",
    "\n",
    "**对多个线性约束的检验：$F$检验**\n",
    "\n",
    "$$F \\equiv \\frac{\\left(\\mathrm{SSR}_{r}-\\mathrm{SSR}_{u r}\\right) / q}{\\mathrm{SSR}_{u r} /(n-k-1)}$$\n",
    "\n",
    "其中，$\\mathrm{SSR}_{r}$是受约束模型的残差平方和，$\\mathrm{SSR}_{u r}$是不受约束模型的残差平方和，$q$是所施加的约束数。\n",
    "\n",
    "在$H_{0}$下,$F$统计量服从自由度为$(q, n-k-1)$的$F$随机变量的分布，可写为\n",
    "\n",
    "$$F \\sim F_{q, n-k-1}$$"
   ]
  },
  {
   "cell_type": "markdown",
   "metadata": {},
   "source": [
    "### Python相关库简介：Statsmodels\n",
    "\n",
    "statsmodels是一个python的模块，它可以对多种统计模型进行估计和检验。\n",
    "\n",
    "可以通过pip安装\n",
    "\n",
    "```\n",
    "pip install statsmodels\n",
    "```\n",
    "\n",
    "**OLS估计**\n",
    "\n",
    "- 使用ols函数\n",
    "\n",
    "```\n",
    "import statsmodels.formula.api as smf\n",
    "\n",
    "mod = smf.ols(formula='Lottery ~ Literacy + Wealth + Region', data=df)\n",
    "\n",
    "res = mod.fit()\n",
    "\n",
    "print(res.summary())\n",
    "```"
   ]
  },
  {
   "cell_type": "markdown",
   "metadata": {},
   "source": [
    "### DIY尝试：OLS估计"
   ]
  },
  {
   "cell_type": "markdown",
   "metadata": {},
   "source": [
    "- 如何得到系数的OLS估计量"
   ]
  },
  {
   "cell_type": "code",
   "execution_count": 2,
   "metadata": {},
   "outputs": [
    {
     "data": {
      "text/html": [
       "<div>\n",
       "<style scoped>\n",
       "    .dataframe tbody tr th:only-of-type {\n",
       "        vertical-align: middle;\n",
       "    }\n",
       "\n",
       "    .dataframe tbody tr th {\n",
       "        vertical-align: top;\n",
       "    }\n",
       "\n",
       "    .dataframe thead th {\n",
       "        text-align: right;\n",
       "    }\n",
       "</style>\n",
       "<table border=\"1\" class=\"dataframe\">\n",
       "  <thead>\n",
       "    <tr style=\"text-align: right;\">\n",
       "      <th></th>\n",
       "      <th>coef.</th>\n",
       "    </tr>\n",
       "  </thead>\n",
       "  <tbody>\n",
       "    <tr>\n",
       "      <th>constant</th>\n",
       "      <td>-0.522041</td>\n",
       "    </tr>\n",
       "    <tr>\n",
       "      <th>educ</th>\n",
       "      <td>0.107490</td>\n",
       "    </tr>\n",
       "    <tr>\n",
       "      <th>exper</th>\n",
       "      <td>0.041567</td>\n",
       "    </tr>\n",
       "    <tr>\n",
       "      <th>expersq</th>\n",
       "      <td>-0.000811</td>\n",
       "    </tr>\n",
       "  </tbody>\n",
       "</table>\n",
       "</div>"
      ],
      "text/plain": [
       "             coef.\n",
       "constant -0.522041\n",
       "educ      0.107490\n",
       "exper     0.041567\n",
       "expersq  -0.000811"
      ]
     },
     "execution_count": 2,
     "metadata": {},
     "output_type": "execute_result"
    }
   ],
   "source": [
    "import patsy\n",
    "import numpy as np\n",
    "\n",
    "y, X = patsy.dmatrices(\"lwage ~ educ + exper + expersq\", data=df, return_type=\"dataframe\")\n",
    "beta = np.linalg.inv(np.transpose(X).dot(X)).dot(np.transpose(X)).dot(y)\n",
    "\n",
    "coefs = pd.DataFrame(beta, index=[\"constant\", \"educ\", \"exper\", \"expersq\"], columns=[\"coef.\"])\n",
    "coefs"
   ]
  },
  {
   "cell_type": "markdown",
   "metadata": {},
   "source": [
    "- 如何得到标准误？"
   ]
  },
  {
   "cell_type": "code",
   "execution_count": 3,
   "metadata": {},
   "outputs": [
    {
     "data": {
      "text/html": [
       "<div>\n",
       "<style scoped>\n",
       "    .dataframe tbody tr th:only-of-type {\n",
       "        vertical-align: middle;\n",
       "    }\n",
       "\n",
       "    .dataframe tbody tr th {\n",
       "        vertical-align: top;\n",
       "    }\n",
       "\n",
       "    .dataframe thead th {\n",
       "        text-align: right;\n",
       "    }\n",
       "</style>\n",
       "<table border=\"1\" class=\"dataframe\">\n",
       "  <thead>\n",
       "    <tr style=\"text-align: right;\">\n",
       "      <th></th>\n",
       "      <th>Std. Err.</th>\n",
       "    </tr>\n",
       "  </thead>\n",
       "  <tbody>\n",
       "    <tr>\n",
       "      <th>constant</th>\n",
       "      <td>0.198632</td>\n",
       "    </tr>\n",
       "    <tr>\n",
       "      <th>educ</th>\n",
       "      <td>0.014146</td>\n",
       "    </tr>\n",
       "    <tr>\n",
       "      <th>exper</th>\n",
       "      <td>0.013175</td>\n",
       "    </tr>\n",
       "    <tr>\n",
       "      <th>expersq</th>\n",
       "      <td>0.000393</td>\n",
       "    </tr>\n",
       "  </tbody>\n",
       "</table>\n",
       "</div>"
      ],
      "text/plain": [
       "          Std. Err.\n",
       "constant   0.198632\n",
       "educ       0.014146\n",
       "exper      0.013175\n",
       "expersq    0.000393"
      ]
     },
     "execution_count": 3,
     "metadata": {},
     "output_type": "execute_result"
    }
   ],
   "source": [
    "# residual\n",
    "e = np.array(y) - np.array(X.dot(beta))\n",
    "\n",
    "# sigma squared\n",
    "sigma_sq = np.diagonal(np.linalg.inv(np.transpose(X).dot(X)))\n",
    "std_err = np.sqrt(np.transpose(e).dot(e)/(X.shape[0]-X.shape[1])*sigma_sq)\n",
    "\n",
    "std_errs = pd.DataFrame(np.transpose(std_err), index=[\"constant\", \"educ\", \"exper\", \"expersq\"], columns=[\"Std. Err.\"])\n",
    "std_errs"
   ]
  },
  {
   "cell_type": "markdown",
   "metadata": {},
   "source": [
    "### 对数工资方程的拓展之一：加入检验\n",
    "\n",
    "对于OLS回归的结果，用$t$和$F$检验来进行系数的假设检验。"
   ]
  },
  {
   "cell_type": "markdown",
   "metadata": {},
   "source": [
    "- 检验一：教育回报率是否为$8\\%$?"
   ]
  },
  {
   "cell_type": "code",
   "execution_count": 13,
   "metadata": {},
   "outputs": [
    {
     "name": "stdout",
     "output_type": "stream",
     "text": [
      "                             Test for Constraints                             \n",
      "==============================================================================\n",
      "                 coef    std err          t      P>|t|      [0.025      0.975]\n",
      "------------------------------------------------------------------------------\n",
      "c0             0.1075      0.014      0.529      0.597       0.080       0.135\n",
      "==============================================================================\n"
     ]
    }
   ],
   "source": [
    "import pandas as pd\n",
    "import statsmodels.formula.api as smf\n",
    "\n",
    "# import dataset\n",
    "df = pd.read_stata(\"http://fmwww.bc.edu/ec-p/data/wooldridge/mroz.dta\")\n",
    "\n",
    "# ols\n",
    "results = smf.ols(formula='lwage ~ educ + exper + expersq', data=df).fit()\n",
    "\n",
    "# t test\n",
    "hypotheses = 'educ = 0.10'\n",
    "t_test = results.t_test(hypotheses)\n",
    "print(t_test)"
   ]
  },
  {
   "cell_type": "code",
   "execution_count": 25,
   "metadata": {},
   "outputs": [
    {
     "name": "stdout",
     "output_type": "stream",
     "text": [
      "Intercept   -0.522041\n",
      "educ         0.107490\n",
      "exper        0.041567\n",
      "expersq     -0.000811\n",
      "dtype: float64\n"
     ]
    }
   ],
   "source": [
    "print(results.predict)"
   ]
  },
  {
   "cell_type": "markdown",
   "metadata": {},
   "source": [
    "- 检验二：父母的教育对于工资的影响？"
   ]
  },
  {
   "cell_type": "code",
   "execution_count": 5,
   "metadata": {},
   "outputs": [
    {
     "name": "stdout",
     "output_type": "stream",
     "text": [
      "                            OLS Regression Results                            \n",
      "==============================================================================\n",
      "Dep. Variable:                  lwage   R-squared:                       0.163\n",
      "Model:                            OLS   Adj. R-squared:                  0.153\n",
      "Method:                 Least Squares   F-statistic:                     16.45\n",
      "Date:                Sun, 05 Jul 2020   Prob (F-statistic):           7.65e-15\n",
      "Time:                        16:59:41   Log-Likelihood:                -430.00\n",
      "No. Observations:                 428   AIC:                             872.0\n",
      "Df Residuals:                     422   BIC:                             896.3\n",
      "Df Model:                           5                                         \n",
      "Covariance Type:            nonrobust                                         \n",
      "==============================================================================\n",
      "                 coef    std err          t      P>|t|      [0.025      0.975]\n",
      "------------------------------------------------------------------------------\n",
      "Intercept     -0.4704      0.201     -2.345      0.020      -0.865      -0.076\n",
      "educ           0.1196      0.016      7.534      0.000       0.088       0.151\n",
      "exper          0.0415      0.013      3.156      0.002       0.016       0.067\n",
      "expersq       -0.0008      0.000     -2.136      0.033      -0.002   -6.69e-05\n",
      "motheduc      -0.0158      0.012     -1.317      0.189      -0.039       0.008\n",
      "fatheduc      -0.0052      0.011     -0.459      0.646      -0.028       0.017\n",
      "==============================================================================\n",
      "Omnibus:                       74.708   Durbin-Watson:                   1.933\n",
      "Prob(Omnibus):                  0.000   Jarque-Bera (JB):              276.114\n",
      "Skew:                          -0.735   Prob(JB):                     1.10e-60\n",
      "Kurtosis:                       6.650   Cond. No.                     2.24e+03\n",
      "==============================================================================\n",
      "\n",
      "Warnings:\n",
      "[1] Standard Errors assume that the covariance matrix of the errors is correctly specified.\n",
      "[2] The condition number is large, 2.24e+03. This might indicate that there are\n",
      "strong multicollinearity or other numerical problems. \n",
      "\n",
      "\n",
      "F-statistics: 1.587, P value: 0.2058\n"
     ]
    }
   ],
   "source": [
    "import pandas as pd\n",
    "import statsmodels.formula.api as smf\n",
    "\n",
    "# import dataset\n",
    "df = pd.read_stata(\"http://fmwww.bc.edu/ec-p/data/wooldridge/mroz.dta\")\n",
    "\n",
    "# ols\n",
    "results = smf.ols(formula='lwage ~ educ + exper + expersq + motheduc + fatheduc', data=df).fit()\n",
    "print(results.summary(), \"\\n\\n\")\n",
    "\n",
    "# F test\n",
    "hypotheses = '(motheduc = 0), (fatheduc = 0)'\n",
    "f_test = results.f_test(hypotheses)\n",
    "\n",
    "print(\"F-statistics: {:.4}, P value: {:.4}\".format(f_test.fvalue[0][0], f_test.pvalue))"
   ]
  },
  {
   "cell_type": "markdown",
   "metadata": {},
   "source": [
    "### 对数工资方程的拓展之二：加入虚拟变量"
   ]
  },
  {
   "cell_type": "markdown",
   "metadata": {},
   "source": [
    "- 问题：城市的妇女在劳动力市场上是否更有优势？"
   ]
  },
  {
   "cell_type": "code",
   "execution_count": 28,
   "metadata": {},
   "outputs": [
    {
     "name": "stdout",
     "output_type": "stream",
     "text": [
      "                            OLS Regression Results                            \n",
      "==============================================================================\n",
      "Dep. Variable:                  lwage   R-squared:                       0.400\n",
      "Model:                            OLS   Adj. R-squared:                  0.394\n",
      "Method:                 Least Squares   F-statistic:                     69.22\n",
      "Date:                Sun, 05 Jul 2020   Prob (F-statistic):           2.01e-55\n",
      "Time:                        17:31:11   Log-Likelihood:                -279.27\n",
      "No. Observations:                 526   AIC:                             570.5\n",
      "Df Residuals:                     520   BIC:                             596.1\n",
      "Df Model:                           5                                         \n",
      "Covariance Type:            nonrobust                                         \n",
      "===============================================================================\n",
      "                  coef    std err          t      P>|t|      [0.025      0.975]\n",
      "-------------------------------------------------------------------------------\n",
      "Intercept       0.3874      0.123      3.156      0.002       0.146       0.628\n",
      "educ            0.0844      0.009      9.639      0.000       0.067       0.102\n",
      "exper           0.0389      0.005      8.056      0.000       0.029       0.048\n",
      "expersq        -0.0007      0.000     -6.377      0.000      -0.001      -0.000\n",
      "female         -0.3294      0.172     -1.910      0.057      -0.668       0.009\n",
      "female:educ    -0.0006      0.013     -0.046      0.963      -0.027       0.026\n",
      "==============================================================================\n",
      "Omnibus:                        7.135   Durbin-Watson:                   1.775\n",
      "Prob(Omnibus):                  0.028   Jarque-Bera (JB):               10.584\n",
      "Skew:                           0.008   Prob(JB):                      0.00503\n",
      "Kurtosis:                       3.695   Cond. No.                     8.29e+03\n",
      "==============================================================================\n",
      "\n",
      "Warnings:\n",
      "[1] Standard Errors assume that the covariance matrix of the errors is correctly specified.\n",
      "[2] The condition number is large, 8.29e+03. This might indicate that there are\n",
      "strong multicollinearity or other numerical problems. \n",
      "\n",
      "\n",
      "F-statistics: 43.01, P value: 5.181e-18\n"
     ]
    }
   ],
   "source": [
    "import pandas as pd\n",
    "import statsmodels.formula.api as smf\n",
    "\n",
    "# import dataset\n",
    "df = pd.read_stata(\"http://fmwww.bc.edu/ec-p/data/wooldridge/wage1.dta\")\n",
    "\n",
    "# ols\n",
    "results = smf.ols(formula='lwage ~ educ + exper + expersq + female*educ', data=df).fit()\n",
    "print(results.summary(), '\\n\\n')\n",
    "\n",
    "# F test\n",
    "hypotheses = '(female = 0), (female:educ = 0)'\n",
    "f_test = results.f_test(hypotheses)\n",
    "\n",
    "print(\"F-statistics: {:.4}, P value: {:.4}\".format(f_test.fvalue[0][0], f_test.pvalue))"
   ]
  },
  {
   "cell_type": "markdown",
   "metadata": {},
   "source": [
    "## 内生性的诅咒与解决 —— 更多模型与方法在Python中的实践"
   ]
  },
  {
   "cell_type": "markdown",
   "metadata": {},
   "source": [
    "### 绕不开的内生性问题\n",
    "\n",
    "对于计量经济学而言，如何目标是进行因果解释，那么内生性问题就是最大的障碍。\n",
    "\n",
    "例如：遗漏变量问题就是所谓的内生性问题\n",
    "\n",
    "<div align=center>\n",
    "<img src=\"https://365datascience.com/wp-content/uploads/2018/11/image26-2.jpg\" width = \"50%\" />\n",
    "</div>\n",
    "\n",
    "<br>\n",
    "\n",
    "案例：工资方程\n",
    "\n",
    "<div align=center>\n",
    "<img src=\"https://p193.p3.n0.cdn.getcloudapp.com/items/P8ue2GDg/endogeneity00.jpg\" width = \"40%\" />\n",
    "</div>\n",
    "\n",
    "<div align=center>\n",
    "<img src=\"https://p193.p3.n0.cdn.getcloudapp.com/items/mXuADKvo/endogeneity01.jpg\" width = \"40%\" />\n",
    "</div>"
   ]
  },
  {
   "cell_type": "markdown",
   "metadata": {},
   "source": [
    "### 面板数据模型：不随时间变化所引起的内生性问题的解决思路\n",
    "\n",
    "例如考虑仅有一个解释变量的模型，有\n",
    "\n",
    "$$y_{it} = \\beta_{1}x_{it} + \\alpha_{i} + \\mu_{it},t=1,2,...,T$$\n",
    "\n",
    "如果$\\alpha_{i}$是引起内生性问题的麻烦，那么可以通过固定效应估计解决。\n",
    "\n",
    "- 可以使用[linearmodels](https://bashtage.github.io/linearmodels/doc/index.html)库"
   ]
  },
  {
   "cell_type": "code",
   "execution_count": 29,
   "metadata": {},
   "outputs": [
    {
     "name": "stdout",
     "output_type": "stream",
     "text": [
      "                          PanelOLS Estimation Summary                           \n",
      "================================================================================\n",
      "Dep. Variable:                 lscrap   R-squared:                        0.2131\n",
      "Estimator:                   PanelOLS   R-squared (Between):             -0.0797\n",
      "No. Observations:                 148   R-squared (Within):               0.2131\n",
      "Date:                Sun, Jul 05 2020   R-squared (Overall):             -0.0494\n",
      "Time:                        17:38:08   Log-likelihood                   -68.887\n",
      "Cov. Estimator:            Unadjusted                                           \n",
      "                                        F-statistic:                      4.1063\n",
      "Entities:                         156   P-value                           0.0011\n",
      "Avg Obs:                       0.9487   Distribution:                    F(6,91)\n",
      "Min Obs:                       0.0000                                           \n",
      "Max Obs:                       3.0000   F-statistic (robust):             4.1063\n",
      "                                        P-value                           0.0011\n",
      "Time periods:                       3   Distribution:                    F(6,91)\n",
      "Avg Obs:                       49.333                                           \n",
      "Min Obs:                       47.000                                           \n",
      "Max Obs:                       51.000                                           \n",
      "                                                                                \n",
      "                             Parameter Estimates                              \n",
      "==============================================================================\n",
      "            Parameter  Std. Err.     T-stat    P-value    Lower CI    Upper CI\n",
      "------------------------------------------------------------------------------\n",
      "Intercept      2.1155     3.1084     0.6806     0.4979     -4.0590      8.2900\n",
      "d88           -0.0040     0.1195    -0.0331     0.9736     -0.2414      0.2335\n",
      "d89           -0.1322     0.1537    -0.8601     0.3920     -0.4375      0.1731\n",
      "grant         -0.2968     0.1571    -1.8891     0.0621     -0.6088      0.0153\n",
      "grant_1       -0.5356     0.2242    -2.3888     0.0190     -0.9809     -0.0902\n",
      "lsales        -0.0869     0.2597    -0.3345     0.7388     -0.6027      0.4290\n",
      "lemploy       -0.0764     0.3503    -0.2180     0.8279     -0.7722      0.6194\n",
      "==============================================================================\n",
      "\n",
      "F-test for Poolability: 20.748\n",
      "P-value: 0.0000\n",
      "Distribution: F(50,91)\n",
      "\n",
      "Included effects: Entity\n"
     ]
    }
   ],
   "source": [
    "import pandas as pd\n",
    "from linearmodels.panel import PanelOLS\n",
    "\n",
    "# import dataset\n",
    "df = pd.read_stata(\"http://fmwww.bc.edu/ec-p/data/wooldridge/jtrain.dta\")\n",
    "df = df.set_index([\"fcode\", \"year\"])\n",
    "\n",
    "y, X = patsy.dmatrices(\"lscrap ~ d88 + d89 + grant + grant_1 + lsales + lemploy\", data=df, return_type=\"dataframe\")\n",
    "mod = PanelOLS(y, X, entity_effects=True)\n",
    "res = mod.fit()\n",
    "print(res)"
   ]
  },
  {
   "cell_type": "markdown",
   "metadata": {},
   "source": [
    "### 工具变量模型：终极武器？\n",
    "\n",
    "案例：工资方程的案例\n",
    "\n",
    "<div align=center>\n",
    "<img src=\"https://p193.p3.n0.cdn.getcloudapp.com/items/jkuQA465/endogeneity02.jpg\" width = \"40%\" />\n",
    "</div>\n",
    "\n",
    "<br>\n",
    "\n",
    "**工具变量基本假定**\n",
    "\n",
    "设有一个可观测的变量$z$，它满足两个假定\n",
    "\n",
    "- 工具外生性：$Cov(z,\\mu) = 0$\n",
    "\n",
    "- 工具相关性：$Cov(z,x) \\neq 0$\n",
    "\n",
    "我们则称$z$是$x$的工具变量，有时候也简称为$x$的工具。"
   ]
  },
  {
   "cell_type": "code",
   "execution_count": 8,
   "metadata": {},
   "outputs": [],
   "source": [
    "import pandas as pd\n",
    "from linearmodels.iv import IV2SLS\n",
    "\n",
    "# import dataset\n",
    "df = pd.read_stata(\"http://fmwww.bc.edu/ec-p/data/wooldridge/mroz.dta\")\n",
    "\n",
    "y, X = patsy.dmatrices(\"lwage ~ educ + exper + expersq + motheduc + fatheduc\", data=df, return_type=\"dataframe\")"
   ]
  },
  {
   "cell_type": "markdown",
   "metadata": {},
   "source": [
    "- OLS估计"
   ]
  },
  {
   "cell_type": "code",
   "execution_count": 9,
   "metadata": {},
   "outputs": [
    {
     "name": "stdout",
     "output_type": "stream",
     "text": [
      "                            OLS Estimation Summary                            \n",
      "==============================================================================\n",
      "Dep. Variable:                  lwage   R-squared:                      0.1568\n",
      "Estimator:                        OLS   Adj. R-squared:                 0.1509\n",
      "No. Observations:                 428   F-statistic:                    79.602\n",
      "Date:                Sun, Jul 05 2020   P-value (F-stat)                0.0000\n",
      "Time:                        16:59:47   Distribution:                  chi2(3)\n",
      "Cov. Estimator:            unadjusted                                         \n",
      "                                                                              \n",
      "                             Parameter Estimates                              \n",
      "==============================================================================\n",
      "            Parameter  Std. Err.     T-stat    P-value    Lower CI    Upper CI\n",
      "------------------------------------------------------------------------------\n",
      "Intercept     -0.5220     0.1977    -2.6405     0.0083     -0.9095     -0.1346\n",
      "educ           0.1075     0.0141     7.6341     0.0000      0.0799      0.1351\n",
      "exper          0.0416     0.0131     3.1698     0.0015      0.0159      0.0673\n",
      "expersq       -0.0008     0.0004    -2.0725     0.0382     -0.0016  -4.406e-05\n",
      "==============================================================================\n"
     ]
    }
   ],
   "source": [
    "res_ols = IV2SLS(y, X[['Intercept','educ','exper','expersq']], None, None).fit(cov_type='unadjusted')\n",
    "print(res_ols)"
   ]
  },
  {
   "cell_type": "markdown",
   "metadata": {},
   "source": [
    "- IV/2SLS估计"
   ]
  },
  {
   "cell_type": "code",
   "execution_count": 10,
   "metadata": {},
   "outputs": [
    {
     "name": "stdout",
     "output_type": "stream",
     "text": [
      "                          IV-2SLS Estimation Summary                          \n",
      "==============================================================================\n",
      "Dep. Variable:                  lwage   R-squared:                      0.1357\n",
      "Estimator:                    IV-2SLS   Adj. R-squared:                 0.1296\n",
      "No. Observations:                 428   F-statistic:                    24.653\n",
      "Date:                Sun, Jul 05 2020   P-value (F-stat)                0.0000\n",
      "Time:                        16:59:47   Distribution:                  chi2(3)\n",
      "Cov. Estimator:            unadjusted                                         \n",
      "                                                                              \n",
      "                             Parameter Estimates                              \n",
      "==============================================================================\n",
      "            Parameter  Std. Err.     T-stat    P-value    Lower CI    Upper CI\n",
      "------------------------------------------------------------------------------\n",
      "Intercept      0.0481     0.3985     0.1207     0.9039     -0.7329      0.8291\n",
      "exper          0.0442     0.0134     3.3038     0.0010      0.0180      0.0704\n",
      "expersq       -0.0009     0.0004    -2.2485     0.0245     -0.0017     -0.0001\n",
      "educ           0.0614     0.0313     1.9622     0.0497   7.043e-05      0.1227\n",
      "==============================================================================\n",
      "\n",
      "Endogenous: educ\n",
      "Instruments: motheduc, fatheduc\n",
      "Unadjusted Covariance (Homoskedastic)\n",
      "Debiased: False\n"
     ]
    }
   ],
   "source": [
    "res_second = IV2SLS(y, X[['Intercept','exper','expersq']], X[['educ']], X[['motheduc','fatheduc']]).fit(cov_type='unadjusted')\n",
    "print(res_second)"
   ]
  },
  {
   "cell_type": "code",
   "execution_count": 11,
   "metadata": {},
   "outputs": [
    {
     "name": "stdout",
     "output_type": "stream",
     "text": [
      "                 Model Comparison                 \n",
      "==================================================\n",
      "                                OLS           2SLS\n",
      "--------------------------------------------------\n",
      "Dep. Variable                 lwage          lwage\n",
      "Estimator                       OLS        IV-2SLS\n",
      "No. Observations                428            428\n",
      "Cov. Est.                unadjusted     unadjusted\n",
      "R-squared                    0.1568         0.1357\n",
      "Adj. R-squared               0.1509         0.1296\n",
      "F-statistic                  79.602         24.653\n",
      "P-value (F-stat)             0.0000      1.825e-05\n",
      "==================     ============   ============\n",
      "Intercept                   -0.5220         0.0481\n",
      "                          (-2.6405)       (0.1207)\n",
      "educ                         0.1075         0.0614\n",
      "                           (7.6341)       (1.9622)\n",
      "exper                        0.0416         0.0442\n",
      "                           (3.1698)       (3.3038)\n",
      "expersq                     -0.0008        -0.0009\n",
      "                          (-2.0725)      (-2.2485)\n",
      "==================== ============== ==============\n",
      "Instruments                               motheduc\n",
      "                                          fatheduc\n",
      "--------------------------------------------------\n",
      "\n",
      "T-stats reported in parentheses\n"
     ]
    }
   ],
   "source": [
    "from linearmodels.iv import compare\n",
    "\n",
    "print(compare({'OLS':res_ols, '2SLS':res_second}))"
   ]
  },
  {
   "cell_type": "markdown",
   "metadata": {},
   "source": [
    "### 另辟蹊径：反事实框架和匹配方法在Python中的应用\n",
    "\n",
    "<div align=center>\n",
    "<img src=\"https://p193.p3.n0.cdn.getcloudapp.com/items/X6uoKbxd/rubin.png\" width = \"70%\" />\n",
    "</div>\n"
   ]
  },
  {
   "cell_type": "markdown",
   "metadata": {},
   "source": [
    "**鲁宾因果框架（Rubin Causal Model）**\n",
    "\n",
    "个体的潜在结果\n",
    "\n",
    "$$Y_{i}=\\left\\{\\begin{array}{ll}\n",
    "Y_{1 i} & D_{i}=1 \\\\\n",
    "Y_{0 i} & D_{i}=0\n",
    "\\end{array}=Y_{0 i}+\\left(Y_{1 i}-Y_{0 i}\\right) D_{i}\\right.$$\n",
    "\n",
    "对于个体来说，只能观测到$Y_{1 i}$或$Y_{0 i}$，所以可以理解为一个缺失数据问题。 平均处理效应(average treatment effect，ATE)为\n",
    "\n",
    "$$\\tau_{A T E}=E\\left(Y_{1 i}-Y_{0 i}\\right)$$\n",
    "\n",
    "处理组的平均处理效应(average treatment effect on the treated，ATT)\n",
    "\n",
    "$$\\tau_{A T T}=E\\left(Y_{1 i}-Y_{0 i} | D_{i}=1\\right)$$\n",
    "\n",
    "因此\n",
    "\n",
    "$$\\begin{aligned}\n",
    "E\\left[Y_{i} | D_{i}=1\\right]-E\\left[Y_{i} | D_{i}=0\\right] &=E\\left[Y_{1 i} | D_{i}=1\\right]-E\\left[Y_{0 i} | D_{i}=1\\right] \\\\\n",
    "&+E\\left[Y_{0 i} | D_{i}=1\\right]-E\\left[Y_{0 i} | D_{i}=0\\right]\n",
    "\\end{aligned}$$\n",
    "\n",
    "前半部分是处理的平均因果效应，后半部分是选择性偏误。 给定随机分配下$D_{i}$的独立性，我们可以对因果效应继续简化\n",
    "\n",
    "$$E\\left[Y_{1 i} | D_{i}=1\\right]-E\\left[Y_{0 i} | D_{i}=1\\right]=E\\left[Y_{1 i}-Y_{0 i} | D_{i}=1\\right]=E\\left[Y_{1 i}-Y_{0 i}\\right]$$"
   ]
  },
  {
   "cell_type": "markdown",
   "metadata": {},
   "source": [
    "**匹配与倾向匹配得分**\n",
    "\n",
    "回归和匹配都是用来控制协变量的研究策略。而回归可以看做是一种特殊的匹配估计量，特定类型的一种加权后的匹配估计量(Angrist,2008)。\n",
    "\n",
    "<div align=center>\n",
    "<img src=\"https://p193.p3.n0.cdn.getcloudapp.com/items/yAuYvrDk/Snipaste_2020-06-14_21-10-41.jpg?v=70b92beee425fb356cc399fb4c010897\" width = \"40%\" />\n",
    "</div>\n",
    "\n",
    "**倾向评分定理**\n",
    "\n",
    "若条件独立假设成立，也就是$\\left\\{Y_{0 i}, Y_{1 i}\\right\\} \\perp D_{i} | X_{i}$，那么给定协变量向量的某个值函数$p\\left(X_{i}\\right)$(即倾向得分)，则潜在结果与处理状况仍然相互独立，即\n",
    "\n",
    "$$\\left\\{Y_{0 i}, Y_{1 i}\\right\\} \\perp D_{i} | p\\left(X_{i}\\right)$$\n",
    "\n",
    "其中\n",
    "\n",
    "$$p\\left(X_{i}\\right) \\equiv E\\left[D_{i} | X_{i}\\right]=P\\left[D_{i}=1 | X_{i}\\right]$$"
   ]
  },
  {
   "cell_type": "code",
   "execution_count": 12,
   "metadata": {},
   "outputs": [
    {
     "ename": "AttributeError",
     "evalue": "'DataFrame' object has no attribute 'ix'",
     "output_type": "error",
     "traceback": [
      "\u001b[1;31m---------------------------------------------------------------------------\u001b[0m",
      "\u001b[1;31mAttributeError\u001b[0m                            Traceback (most recent call last)",
      "\u001b[1;32m<ipython-input-12-7cc153571bae>\u001b[0m in \u001b[0;36m<module>\u001b[1;34m\u001b[0m\n\u001b[0;32m     12\u001b[0m \u001b[0mpairs\u001b[0m \u001b[1;33m=\u001b[0m \u001b[0mMatch\u001b[0m\u001b[1;33m(\u001b[0m\u001b[0mtreatment\u001b[0m\u001b[1;33m,\u001b[0m \u001b[0mpscore\u001b[0m\u001b[1;33m)\u001b[0m\u001b[1;33m\u001b[0m\u001b[1;33m\u001b[0m\u001b[0m\n\u001b[0;32m     13\u001b[0m \u001b[0mpairs\u001b[0m\u001b[1;33m.\u001b[0m\u001b[0mcreate\u001b[0m\u001b[1;33m(\u001b[0m\u001b[0mmethod\u001b[0m\u001b[1;33m=\u001b[0m\u001b[1;34m'one-to-one'\u001b[0m\u001b[1;33m,\u001b[0m \u001b[0mreplace\u001b[0m\u001b[1;33m=\u001b[0m\u001b[1;32mTrue\u001b[0m\u001b[1;33m)\u001b[0m\u001b[1;33m\u001b[0m\u001b[1;33m\u001b[0m\u001b[0m\n\u001b[1;32m---> 14\u001b[1;33m \u001b[0mdata_matched\u001b[0m \u001b[1;33m=\u001b[0m \u001b[0mwhichMatched\u001b[0m\u001b[1;33m(\u001b[0m\u001b[0mpairs\u001b[0m\u001b[1;33m,\u001b[0m \u001b[0mpd\u001b[0m\u001b[1;33m.\u001b[0m\u001b[0mDataFrame\u001b[0m\u001b[1;33m(\u001b[0m\u001b[1;33m{\u001b[0m\u001b[1;34m'pscore'\u001b[0m\u001b[1;33m:\u001b[0m \u001b[0mpscore\u001b[0m\u001b[1;33m,\u001b[0m \u001b[1;34m'treatment'\u001b[0m \u001b[1;33m:\u001b[0m\u001b[0mtreatment\u001b[0m\u001b[1;33m,\u001b[0m \u001b[1;34m'bweight'\u001b[0m\u001b[1;33m:\u001b[0m\u001b[0mdf\u001b[0m\u001b[1;33m[\u001b[0m\u001b[1;34m\"bweight\"\u001b[0m\u001b[1;33m]\u001b[0m\u001b[1;33m}\u001b[0m\u001b[1;33m)\u001b[0m\u001b[1;33m)\u001b[0m\u001b[1;33m\u001b[0m\u001b[1;33m\u001b[0m\u001b[0m\n\u001b[0m\u001b[0;32m     15\u001b[0m \u001b[1;33m\u001b[0m\u001b[0m\n\u001b[0;32m     16\u001b[0m \u001b[0mtreated_turnout\u001b[0m \u001b[1;33m=\u001b[0m \u001b[0mdf\u001b[0m\u001b[1;33m.\u001b[0m\u001b[0mloc\u001b[0m\u001b[1;33m[\u001b[0m\u001b[0mdf\u001b[0m\u001b[1;33m[\u001b[0m\u001b[1;34m\"treatment\"\u001b[0m\u001b[1;33m]\u001b[0m \u001b[1;33m==\u001b[0m \u001b[1;36m1\u001b[0m\u001b[1;33m,\u001b[0m\u001b[1;34m\"bweight\"\u001b[0m\u001b[1;33m]\u001b[0m\u001b[1;33m.\u001b[0m\u001b[0mmean\u001b[0m\u001b[1;33m(\u001b[0m\u001b[1;33m)\u001b[0m\u001b[1;33m\u001b[0m\u001b[1;33m\u001b[0m\u001b[0m\n",
      "\u001b[1;32mC:\\Sheldon\\S_Github\\jupiter\\Challenge\\regular\\data_science_camp\\pscore_match\\match.py\u001b[0m in \u001b[0;36mwhichMatched\u001b[1;34m(matches, data, show_duplicates)\u001b[0m\n\u001b[0;32m    398\u001b[0m                 \u001b[0mindices\u001b[0m\u001b[1;33m.\u001b[0m\u001b[0mappend\u001b[0m\u001b[1;33m(\u001b[0m\u001b[0mi\u001b[0m\u001b[1;33m)\u001b[0m\u001b[1;33m\u001b[0m\u001b[1;33m\u001b[0m\u001b[0m\n\u001b[0;32m    399\u001b[0m                 \u001b[0mj\u001b[0m \u001b[1;33m-=\u001b[0m \u001b[1;36m1\u001b[0m\u001b[1;33m\u001b[0m\u001b[1;33m\u001b[0m\u001b[0m\n\u001b[1;32m--> 400\u001b[1;33m         \u001b[1;32mreturn\u001b[0m \u001b[0mdata\u001b[0m\u001b[1;33m.\u001b[0m\u001b[0mix\u001b[0m\u001b[1;33m[\u001b[0m\u001b[0mindices\u001b[0m\u001b[1;33m]\u001b[0m\u001b[1;33m\u001b[0m\u001b[1;33m\u001b[0m\u001b[0m\n\u001b[0m\u001b[0;32m    401\u001b[0m     \u001b[1;32melse\u001b[0m\u001b[1;33m:\u001b[0m\u001b[1;33m\u001b[0m\u001b[1;33m\u001b[0m\u001b[0m\n\u001b[0;32m    402\u001b[0m         \u001b[0mdat2\u001b[0m \u001b[1;33m=\u001b[0m \u001b[0mdata\u001b[0m\u001b[1;33m.\u001b[0m\u001b[0mcopy\u001b[0m\u001b[1;33m(\u001b[0m\u001b[1;33m)\u001b[0m\u001b[1;33m\u001b[0m\u001b[1;33m\u001b[0m\u001b[0m\n",
      "\u001b[1;32mc:\\program files\\python37\\lib\\site-packages\\pandas\\core\\generic.py\u001b[0m in \u001b[0;36m__getattr__\u001b[1;34m(self, name)\u001b[0m\n\u001b[0;32m   5272\u001b[0m             \u001b[1;32mif\u001b[0m \u001b[0mself\u001b[0m\u001b[1;33m.\u001b[0m\u001b[0m_info_axis\u001b[0m\u001b[1;33m.\u001b[0m\u001b[0m_can_hold_identifiers_and_holds_name\u001b[0m\u001b[1;33m(\u001b[0m\u001b[0mname\u001b[0m\u001b[1;33m)\u001b[0m\u001b[1;33m:\u001b[0m\u001b[1;33m\u001b[0m\u001b[1;33m\u001b[0m\u001b[0m\n\u001b[0;32m   5273\u001b[0m                 \u001b[1;32mreturn\u001b[0m \u001b[0mself\u001b[0m\u001b[1;33m[\u001b[0m\u001b[0mname\u001b[0m\u001b[1;33m]\u001b[0m\u001b[1;33m\u001b[0m\u001b[1;33m\u001b[0m\u001b[0m\n\u001b[1;32m-> 5274\u001b[1;33m             \u001b[1;32mreturn\u001b[0m \u001b[0mobject\u001b[0m\u001b[1;33m.\u001b[0m\u001b[0m__getattribute__\u001b[0m\u001b[1;33m(\u001b[0m\u001b[0mself\u001b[0m\u001b[1;33m,\u001b[0m \u001b[0mname\u001b[0m\u001b[1;33m)\u001b[0m\u001b[1;33m\u001b[0m\u001b[1;33m\u001b[0m\u001b[0m\n\u001b[0m\u001b[0;32m   5275\u001b[0m \u001b[1;33m\u001b[0m\u001b[0m\n\u001b[0;32m   5276\u001b[0m     \u001b[1;32mdef\u001b[0m \u001b[0m__setattr__\u001b[0m\u001b[1;33m(\u001b[0m\u001b[0mself\u001b[0m\u001b[1;33m,\u001b[0m \u001b[0mname\u001b[0m\u001b[1;33m:\u001b[0m \u001b[0mstr\u001b[0m\u001b[1;33m,\u001b[0m \u001b[0mvalue\u001b[0m\u001b[1;33m)\u001b[0m \u001b[1;33m->\u001b[0m \u001b[1;32mNone\u001b[0m\u001b[1;33m:\u001b[0m\u001b[1;33m\u001b[0m\u001b[1;33m\u001b[0m\u001b[0m\n",
      "\u001b[1;31mAttributeError\u001b[0m: 'DataFrame' object has no attribute 'ix'"
     ]
    }
   ],
   "source": [
    "import pandas as pd\n",
    "from pscore_match.pscore import PropensityScore\n",
    "from pscore_match.match import Match, whichMatched\n",
    "\n",
    "df = pd.read_stata(\"https://www.stata-press.com/data/r16/cattaneo2.dta\")\n",
    "df[\"treatment\"] = 0\n",
    "df.loc[df[\"mbsmoke\"]==\"smoker\",\"treatment\"]=1\n",
    "treatment = np.array(df[\"treatment\"])\n",
    "covariates = df.loc[:,[\"medu\",\"mage\",\"alcohol\"]]\n",
    "\n",
    "pscore = PropensityScore(treatment, covariates).compute()\n",
    "pairs = Match(treatment, pscore)\n",
    "pairs.create(method='one-to-one', replace=True)\n",
    "data_matched = whichMatched(pairs, pd.DataFrame({'pscore': pscore, 'treatment' :treatment, 'bweight':df[\"bweight\"]}))\n",
    "\n",
    "treated_turnout = df.loc[df[\"treatment\"] == 1,\"bweight\"].mean()\n",
    "control_turnout = df.loc[df[\"treatment\"] == 0,\"bweight\"].mean()\n",
    "ATT = treated_turnout - control_turnout\n",
    "print(str(\"ATT: \" + str(ATT)))"
   ]
  },
  {
   "cell_type": "markdown",
   "metadata": {},
   "source": [
    "## 关于计量经济学与Python更多的话题"
   ]
  },
  {
   "cell_type": "markdown",
   "metadata": {},
   "source": [
    "### 线性模型的束缚与挑战"
   ]
  },
  {
   "cell_type": "markdown",
   "metadata": {},
   "source": [
    "### Python与实证之路：大有可为的未来"
   ]
  }
 ],
 "metadata": {
  "kernelspec": {
   "display_name": "Python 3",
   "language": "python",
   "name": "python3"
  },
  "language_info": {
   "codemirror_mode": {
    "name": "ipython",
    "version": 3
   },
   "file_extension": ".py",
   "mimetype": "text/x-python",
   "name": "python",
   "nbconvert_exporter": "python",
   "pygments_lexer": "ipython3",
   "version": "3.7.4"
  },
  "widgets": {
   "application/vnd.jupyter.widget-state+json": {
    "state": {},
    "version_major": 2,
    "version_minor": 0
   }
  }
 },
 "nbformat": 4,
 "nbformat_minor": 4
}
