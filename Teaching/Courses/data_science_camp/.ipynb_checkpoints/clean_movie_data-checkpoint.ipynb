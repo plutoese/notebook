{
 "cells": [
  {
   "cell_type": "markdown",
   "metadata": {},
   "source": [
    "# 电影数据清洗"
   ]
  },
  {
   "cell_type": "code",
   "execution_count": 1,
   "metadata": {},
   "outputs": [],
   "source": [
    "import re\n",
    "import arrow\n",
    "import pickle\n",
    "\n",
    "import pandas as pd\n",
    "\n",
    "from collections import defaultdict\n",
    "from baidu_index.utils import test_cookies\n",
    "from baidu_index import config\n",
    "from baidu_index import BaiduIndex, ExtendedBaiduIndex\n",
    "\n",
    "cookies = \"\"\"BIDUPSID=380CFD4414CCCB1E564861B1A0F79D29; PSTM=1572153955; BAIDUID=380CFD4414CCCB1EC98D1393F276D210:FG=1; Hm_lvt_d101ea4d2a5c67dab98251f0b5de24dc=1593471657; bdindexid=9q6s155idnu5115q6d5eg96ag5; BDUSS_BFESS=cbol75i4sssfgjr1ur2an8cuq0; BDUSS=HZjcXN2b3hSSUNGZk1JdlJLa2E5LWNOc011YWNvREhhYU5mckxUSkUxdkNDeUpmSVFBQUFBJCQAAAAAAAAAAAEAAADAORUxvMbBv2hvbWUAAAAAAAAAAAAAAAAAAAAAAAAAAAAAAAAAAAAAAAAAAAAAAAAAAAAAAAAAAAAAAAAAAAAAAAAAAMJ--l7Cfvpec; CHKFORREG=862b1948405474426f94a9289312ed69; RT=\"z=1&dm=baidu.com&si=yc3ehkdcjjh&ss=kc15i65e&sl=0&tt=0&bcn=https%3A%2F%2Ffclog.baidu.com%2Flog%2Fweirwood%3Ftype%3Dperf\"; Hm_lpvt_d101ea4d2a5c67dab98251f0b5de24dc=1593474801\"\"\"\n"
   ]
  },
  {
   "cell_type": "code",
   "execution_count": 2,
   "metadata": {},
   "outputs": [],
   "source": [
    "movie_rdata = pd.read_excel(\"./data/movie_rdata.xlsx\")\n",
    "\n",
    "F1 = open('./data/movie_wboxoffice.pkl', 'rb')\n",
    "movie_wboxoffice = pickle.load(F1)\n",
    "\n",
    "F2 = open('./data/movie_main_actors.pkl', 'rb')\n",
    "movie_main_actors = pickle.load(F2)"
   ]
  },
  {
   "cell_type": "code",
   "execution_count": 3,
   "metadata": {},
   "outputs": [],
   "source": [
    "def extract_value(row_name):\n",
    "    movie_property_record = defaultdict(list)\n",
    "    \n",
    "    for item in zip(movie_rdata[\"MovieId\"], movie_rdata[row_name]):\n",
    "        mid = item[0]\n",
    "        movie_property = item[1]\n",
    "        \n",
    "        if isinstance(movie_property, float):\n",
    "            movie_property_record[mid] = []\n",
    "            continue\n",
    "        for mproperty in re.split(\"/\", movie_property[0:(len(movie_property)-1)]):\n",
    "            movie_property_record[mid].append(re.split(\"\\s+\", (re.split(\"\\|\",mproperty)[0]).strip())[0])\n",
    "    \n",
    "    return movie_property_record"
   ]
  },
  {
   "cell_type": "code",
   "execution_count": 4,
   "metadata": {},
   "outputs": [],
   "source": [
    "actors = extract_value(\"MovieYyuan\")\n",
    "\n",
    "all_actors = set()\n",
    "for mid in actors:\n",
    "    actors[mid] = actors[mid][0:2]\n",
    "    all_actors.update(actors[mid][0:2])\n",
    "all_actors = list(all_actors)"
   ]
  },
  {
   "cell_type": "code",
   "execution_count": 5,
   "metadata": {},
   "outputs": [
    {
     "name": "stdout",
     "output_type": "stream",
     "text": [
      "2011-01-01 2020-04-30\n"
     ]
    }
   ],
   "source": [
    "start_date = arrow.get('2011-01-01')\n",
    "next_date = start_date.shift(months=+112).shift(days=-1)\n",
    "\n",
    "print(start_date.format('YYYY-MM-DD'), next_date.format('YYYY-MM-DD'))"
   ]
  },
  {
   "cell_type": "code",
   "execution_count": 6,
   "metadata": {},
   "outputs": [
    {
     "data": {
      "text/plain": [
       "5328"
      ]
     },
     "execution_count": 6,
     "metadata": {},
     "output_type": "execute_result"
    }
   ],
   "source": [
    "len(all_actors)"
   ]
  },
  {
   "cell_type": "code",
   "execution_count": 7,
   "metadata": {},
   "outputs": [
    {
     "ename": "TypeError",
     "evalue": "'set' object is not subscriptable",
     "output_type": "error",
     "traceback": [
      "\u001b[1;31m---------------------------------------------------------------------------\u001b[0m",
      "\u001b[1;31mTypeError\u001b[0m                                 Traceback (most recent call last)",
      "\u001b[1;32m<ipython-input-7-6cae3f55d371>\u001b[0m in \u001b[0;36m<module>\u001b[1;34m\u001b[0m\n\u001b[0;32m      2\u001b[0m \u001b[1;33m\u001b[0m\u001b[0m\n\u001b[0;32m      3\u001b[0m \u001b[0mbaidu_index_data\u001b[0m \u001b[1;33m=\u001b[0m \u001b[1;33m[\u001b[0m\u001b[1;33m]\u001b[0m\u001b[1;33m\u001b[0m\u001b[1;33m\u001b[0m\u001b[0m\n\u001b[1;32m----> 4\u001b[1;33m \u001b[1;32mfor\u001b[0m \u001b[0mactor\u001b[0m \u001b[1;32min\u001b[0m \u001b[0mall_actors\u001b[0m\u001b[1;33m[\u001b[0m\u001b[1;36m0\u001b[0m\u001b[1;33m:\u001b[0m\u001b[1;36m2000\u001b[0m\u001b[1;33m]\u001b[0m\u001b[1;33m:\u001b[0m\u001b[1;33m\u001b[0m\u001b[1;33m\u001b[0m\u001b[0m\n\u001b[0m\u001b[0;32m      5\u001b[0m     \u001b[0mprint\u001b[0m\u001b[1;33m(\u001b[0m\u001b[0mre\u001b[0m\u001b[1;33m.\u001b[0m\u001b[0msub\u001b[0m\u001b[1;33m(\u001b[0m\u001b[1;34m\"\\.|·|-\"\u001b[0m\u001b[1;33m,\u001b[0m \u001b[1;34m\"\"\u001b[0m\u001b[1;33m,\u001b[0m \u001b[0mactor\u001b[0m\u001b[1;33m)\u001b[0m\u001b[1;33m)\u001b[0m\u001b[1;33m\u001b[0m\u001b[1;33m\u001b[0m\u001b[0m\n\u001b[0;32m      6\u001b[0m     \u001b[1;32mfor\u001b[0m \u001b[0mi\u001b[0m \u001b[1;32min\u001b[0m \u001b[0mrange\u001b[0m\u001b[1;33m(\u001b[0m\u001b[1;36m1\u001b[0m\u001b[1;33m,\u001b[0m \u001b[1;36m2\u001b[0m\u001b[1;33m)\u001b[0m\u001b[1;33m:\u001b[0m\u001b[1;33m\u001b[0m\u001b[1;33m\u001b[0m\u001b[0m\n",
      "\u001b[1;31mTypeError\u001b[0m: 'set' object is not subscriptable"
     ]
    }
   ],
   "source": [
    "start_date = arrow.get('2011-01-01')\n",
    "\n",
    "baidu_index_data = []\n",
    "for actor in all_actors[0:2000]:\n",
    "    print(re.sub(\"\\.|·|-\", \"\", actor))\n",
    "    for i in range(1, 2):\n",
    "        next_date = start_date.shift(months=+i).shift(days=-1)\n",
    "        baidu_index = BaiduIndex(\n",
    "            keywords=[re.sub(\"\\.|·|-\", \"\", actor)],\n",
    "            start_date=start_date.format('YYYY-MM-DD'),\n",
    "            end_date=next_date.format('YYYY-MM-DD'),\n",
    "            cookies=cookies\n",
    "        )\n",
    "        baidu_index_data.extend(baidu_index.get_average_index())\n",
    "\n",
    "baidu_index_data"
   ]
  },
  {
   "cell_type": "code",
   "execution_count": null,
   "metadata": {},
   "outputs": [],
   "source": [
    "keywords = ['文东俊',\n",
    " 'Texas',\n",
    " '林秋楠',\n",
    " '刘冠霖',\n",
    " '詹姆斯·瑞马尔']\n",
    "\n",
    "# 获取百度搜索指数(地区为山东)\n",
    "baidu_index = BaiduIndex(\n",
    "    keywords=keywords,\n",
    "    start_date='2018-02-12',\n",
    "    end_date='2018-07-16',\n",
    "    cookies=cookies\n",
    ")"
   ]
  },
  {
   "cell_type": "code",
   "execution_count": null,
   "metadata": {},
   "outputs": [],
   "source": [
    "data = baidu_index.get_average_index()"
   ]
  },
  {
   "cell_type": "code",
   "execution_count": null,
   "metadata": {},
   "outputs": [],
   "source": [
    "data"
   ]
  }
 ],
 "metadata": {
  "kernelspec": {
   "display_name": "Python 3",
   "language": "python",
   "name": "python3"
  },
  "language_info": {
   "codemirror_mode": {
    "name": "ipython",
    "version": 3
   },
   "file_extension": ".py",
   "mimetype": "text/x-python",
   "name": "python",
   "nbconvert_exporter": "python",
   "pygments_lexer": "ipython3",
   "version": "3.7.4"
  },
  "widgets": {
   "application/vnd.jupyter.widget-state+json": {
    "state": {},
    "version_major": 2,
    "version_minor": 0
   }
  }
 },
 "nbformat": 4,
 "nbformat_minor": 4
}
