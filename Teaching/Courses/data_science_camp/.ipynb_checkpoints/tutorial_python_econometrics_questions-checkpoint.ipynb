{
 "cells": [
  {
   "cell_type": "markdown",
   "metadata": {},
   "source": [
    "# Python在计量经济学中的应用习题"
   ]
  },
  {
   "cell_type": "markdown",
   "metadata": {},
   "source": [
    "## 选择题"
   ]
  },
  {
   "cell_type": "markdown",
   "metadata": {},
   "source": [
    "1. 下列哪个是当前计量经济学最常用的统计软件？（C）\n",
    "\n",
    "- A. Matlab\n",
    "- B. R\n",
    "- C. Stata\n",
    "- D. Python"
   ]
  },
  {
   "cell_type": "markdown",
   "metadata": {},
   "source": [
    "2. 对于线性回归模型，如果符合高斯马尔科夫假定，一般使用下列哪个估计方法？（B）\n",
    "\n",
    "- A. WLS\n",
    "- B. OLS\n",
    "- C. IV\n",
    "- D. MLE"
   ]
  },
  {
   "cell_type": "markdown",
   "metadata": {},
   "source": [
    "3. 下列哪个Python库可以用来进行最小二乘估计？（A）\n",
    "\n",
    "- A. statsmodels\n",
    "- B. pandas\n",
    "- C. requests\n",
    "- D. numpy"
   ]
  },
  {
   "cell_type": "markdown",
   "metadata": {},
   "source": [
    "4. 下列哪个不属于高斯马尔科夫假定？（D）\n",
    "\n",
    "- A. 线性于参数\n",
    "- B. 零条件均值\n",
    "- C. 同方差性\n",
    "- D. 误差具有正态性"
   ]
  },
  {
   "cell_type": "markdown",
   "metadata": {},
   "source": [
    "5. 在语句results = smf.ols(formula='y ~ x', data=df).fit()后，可以使用results对象的哪个方法（或属性）得到完整的回归表格（包括系数、标准误、t值和p值）？（A）\n",
    "\n",
    "- A. cov_params()\n",
    "- B. df_resid\n",
    "- C. params\n",
    "- D. predict"
   ]
  },
  {
   "cell_type": "markdown",
   "metadata": {},
   "source": [
    "6. 若利用语句smf.ols(formula='y ~ x + D1\\*D2', data=data).fit()进行OLS估计，若D1和D2都是虚拟变量（即二值变量，取值为0或者1），那么线性回归模型中带估计的参数有几个？（D）\n",
    "\n",
    "- A. 2\n",
    "- B. 3\n",
    "- C. 4\n",
    "- D. 5"
   ]
  },
  {
   "cell_type": "markdown",
   "metadata": {},
   "source": [
    "7. 下列哪种情况会导致内生性问题？（A）\n",
    "\n",
    "- A. 遗漏了一个重要变量\n",
    "- B. 加入了一个无关变量\n",
    "- C. 异方差性\n",
    "- D. 模型中加入了虚拟变量"
   ]
  },
  {
   "cell_type": "markdown",
   "metadata": {},
   "source": [
    "8. 使用linearmodels库进行面板数据模型估计，若语句为PanelOLS(y, X, entity_effects=True)，请问所用的下列哪个方法？（C）\n",
    "\n",
    "- A. 混合OLS估计\n",
    "- B. 固定效应估计\n",
    "- C. 随机效应估计\n",
    "- D. 工具变量估计"
   ]
  },
  {
   "cell_type": "markdown",
   "metadata": {},
   "source": [
    "9. 使用linearmodels库进行工具变量估计时，IV2SLS()函数所需的前四个参数依次是（B）？\n",
    "\n",
    "- A. 因变量、所有自变量、工具变量、内生自变量\n",
    "- B. 因变量、外生自变量、内生自变量、工具变量\n",
    "- C. 因变量、工具变量、外生自变量、内生自变量\n",
    "- D. 因变量、内生自变量、外生自变量、工具变量"
   ]
  },
  {
   "cell_type": "markdown",
   "metadata": {},
   "source": [
    "10. 关于反事实框架和匹配估计量，下列哪种说法是错误的？（D）\n",
    "\n",
    "- A. 若处理组和控制组是随机分配的，那么观察到的平均差异就是处理效应\n",
    "- B. 若处理组和控制组并不是随机分配的，那么观察到的平均差异可能包含选择性偏误\n",
    "- C. 匹配估计量或倾向评分匹配（PSM）需要条件独立假设\n",
    "- D. 匹配估计量能够解决回归模型所遇到的遗漏（不能观察的）变量问题"
   ]
  },
  {
   "cell_type": "markdown",
   "metadata": {},
   "source": [
    "## 操作题"
   ]
  },
  {
   "cell_type": "markdown",
   "metadata": {},
   "source": [
    "1. 利用[wage1](http://fmwww.bc.edu/ec-p/data/wooldridge/wage1.dta)数据集，在控制教育水平、工作经验以及工作经验平方的前提下，检验未婚女性的平均工资是否显著地低于未婚男性的平均工资。"
   ]
  },
  {
   "cell_type": "code",
   "execution_count": 1,
   "metadata": {},
   "outputs": [
    {
     "name": "stderr",
     "output_type": "stream",
     "text": [
      "c:\\program files\\python37\\lib\\site-packages\\statsmodels\\tools\\_testing.py:19: FutureWarning: pandas.util.testing is deprecated. Use the functions in the public API at pandas.testing instead.\n",
      "  import pandas.util.testing as tm\n"
     ]
    },
    {
     "name": "stdout",
     "output_type": "stream",
     "text": [
      "                            OLS Regression Results                            \n",
      "==============================================================================\n",
      "Dep. Variable:                  lwage   R-squared:                       0.426\n",
      "Model:                            OLS   Adj. R-squared:                  0.420\n",
      "Method:                 Least Squares   F-statistic:                     64.30\n",
      "Date:                Sun, 05 Jul 2020   Prob (F-statistic):           1.44e-59\n",
      "Time:                        20:54:48   Log-Likelihood:                -267.26\n",
      "No. Observations:                 526   AIC:                             548.5\n",
      "Df Residuals:                     519   BIC:                             578.4\n",
      "Df Model:                           6                                         \n",
      "Covariance Type:            nonrobust                                         \n",
      "==================================================================================\n",
      "                     coef    std err          t      P>|t|      [0.025      0.975]\n",
      "----------------------------------------------------------------------------------\n",
      "Intercept          0.2841      0.103      2.765      0.006       0.082       0.486\n",
      "educ               0.0822      0.007     11.979      0.000       0.069       0.096\n",
      "exper              0.0349      0.005      6.783      0.000       0.025       0.045\n",
      "expersq           -0.0006      0.000     -5.593      0.000      -0.001      -0.000\n",
      "female            -0.1207      0.057     -2.106      0.036      -0.233      -0.008\n",
      "married            0.2460      0.057      4.340      0.000       0.135       0.357\n",
      "female:married    -0.3431      0.073     -4.668      0.000      -0.487      -0.199\n",
      "==============================================================================\n",
      "Omnibus:                       10.630   Durbin-Watson:                   1.765\n",
      "Prob(Omnibus):                  0.005   Jarque-Bera (JB):               18.629\n",
      "Skew:                          -0.008   Prob(JB):                     9.01e-05\n",
      "Kurtosis:                       3.922   Cond. No.                     4.99e+03\n",
      "==============================================================================\n",
      "\n",
      "Warnings:\n",
      "[1] Standard Errors assume that the covariance matrix of the errors is correctly specified.\n",
      "[2] The condition number is large, 4.99e+03. This might indicate that there are\n",
      "strong multicollinearity or other numerical problems. \n",
      "\n",
      "\n"
     ]
    }
   ],
   "source": [
    "import pandas as pd\n",
    "import statsmodels.formula.api as smf\n",
    "\n",
    "# import dataset\n",
    "df = pd.read_stata(\"http://fmwww.bc.edu/ec-p/data/wooldridge/wage1.dta\")\n",
    "\n",
    "# ols\n",
    "results = smf.ols(formula='lwage ~ educ + exper + expersq + female*married', data=df).fit()\n",
    "print(results.summary(), '\\n\\n')"
   ]
  },
  {
   "cell_type": "markdown",
   "metadata": {},
   "source": [
    "2. 利用[wage2](http://fmwww.bc.edu/ec-p/data/wooldridge/wage2)数据集，比较OLS和IV估计（用sibs作为educ的工具变量）估计得到的教育回报率的结果（不加其他控制变量）。"
   ]
  },
  {
   "cell_type": "code",
   "execution_count": 7,
   "metadata": {},
   "outputs": [
    {
     "name": "stdout",
     "output_type": "stream",
     "text": [
      "                            OLS Estimation Summary                            \n",
      "==============================================================================\n",
      "Dep. Variable:                  lwage   R-squared:                      0.0974\n",
      "Estimator:                        OLS   Adj. R-squared:                 0.0964\n",
      "No. Observations:                 935   F-statistic:                    100.92\n",
      "Date:                Sun, Jul 05 2020   P-value (F-stat)                0.0000\n",
      "Time:                        21:06:01   Distribution:                  chi2(1)\n",
      "Cov. Estimator:            unadjusted                                         \n",
      "                                                                              \n",
      "                             Parameter Estimates                              \n",
      "==============================================================================\n",
      "            Parameter  Std. Err.     T-stat    P-value    Lower CI    Upper CI\n",
      "------------------------------------------------------------------------------\n",
      "Intercept      5.9731     0.0813     73.482     0.0000      5.8137      6.1324\n",
      "educ           0.0598     0.0060     10.046     0.0000      0.0482      0.0715\n",
      "==============================================================================\n",
      "                          IV-2SLS Estimation Summary                          \n",
      "==============================================================================\n",
      "Dep. Variable:                  lwage   R-squared:                     -0.0092\n",
      "Estimator:                    IV-2SLS   Adj. R-squared:                -0.0103\n",
      "No. Observations:                 935   F-statistic:                    21.634\n",
      "Date:                Sun, Jul 05 2020   P-value (F-stat)                0.0000\n",
      "Time:                        21:06:01   Distribution:                  chi2(1)\n",
      "Cov. Estimator:            unadjusted                                         \n",
      "                                                                              \n",
      "                             Parameter Estimates                              \n",
      "==============================================================================\n",
      "            Parameter  Std. Err.     T-stat    P-value    Lower CI    Upper CI\n",
      "------------------------------------------------------------------------------\n",
      "Intercept      5.1300     0.3548     14.459     0.0000      4.4346      5.8254\n",
      "educ           0.1224     0.0263     4.6513     0.0000      0.0708      0.1740\n",
      "==============================================================================\n",
      "\n",
      "Endogenous: educ\n",
      "Instruments: sibs\n",
      "Unadjusted Covariance (Homoskedastic)\n",
      "Debiased: False\n",
      "                 Model Comparison                 \n",
      "==================================================\n",
      "                                OLS           2SLS\n",
      "--------------------------------------------------\n",
      "Dep. Variable                 lwage          lwage\n",
      "Estimator                       OLS        IV-2SLS\n",
      "No. Observations                935            935\n",
      "Cov. Est.                unadjusted     unadjusted\n",
      "R-squared                    0.0974        -0.0092\n",
      "Adj. R-squared               0.0964        -0.0103\n",
      "F-statistic                  100.92         21.634\n",
      "P-value (F-stat)             0.0000      3.299e-06\n",
      "==================     ============   ============\n",
      "Intercept                    5.9731         5.1300\n",
      "                           (73.482)       (14.459)\n",
      "educ                         0.0598         0.1224\n",
      "                           (10.046)       (4.6513)\n",
      "==================== ============== ==============\n",
      "Instruments                                   sibs\n",
      "--------------------------------------------------\n",
      "\n",
      "T-stats reported in parentheses\n"
     ]
    }
   ],
   "source": [
    "import patsy\n",
    "import pandas as pd\n",
    "from linearmodels.iv import IV2SLS\n",
    "from linearmodels.iv import compare\n",
    "\n",
    "# import dataset\n",
    "df = pd.read_stata(\"http://fmwww.bc.edu/ec-p/data/wooldridge/wage2.dta\")\n",
    "\n",
    "y, X = patsy.dmatrices(\"lwage ~ educ + sibs\", data=df, return_type=\"dataframe\")\n",
    "\n",
    "res_ols = IV2SLS(y, X[['Intercept','educ']], None, None).fit(cov_type='unadjusted')\n",
    "print(res_ols)\n",
    "\n",
    "res_second = IV2SLS(y, X['Intercept'], X['educ'], X['sibs']).fit(cov_type='unadjusted')\n",
    "print(res_second)\n",
    "\n",
    "print(compare({'OLS':res_ols, '2SLS':res_second}))"
   ]
  }
 ],
 "metadata": {
  "kernelspec": {
   "display_name": "Python 3",
   "language": "python",
   "name": "python3"
  },
  "language_info": {
   "codemirror_mode": {
    "name": "ipython",
    "version": 3
   },
   "file_extension": ".py",
   "mimetype": "text/x-python",
   "name": "python",
   "nbconvert_exporter": "python",
   "pygments_lexer": "ipython3",
   "version": "3.7.4"
  },
  "widgets": {
   "application/vnd.jupyter.widget-state+json": {
    "state": {},
    "version_major": 2,
    "version_minor": 0
   }
  }
 },
 "nbformat": 4,
 "nbformat_minor": 4
}
